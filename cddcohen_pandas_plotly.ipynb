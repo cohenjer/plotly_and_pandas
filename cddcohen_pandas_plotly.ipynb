{
 "cells": [
  {
   "cell_type": "markdown",
   "id": "98ea26d5",
   "metadata": {},
   "source": [
    "# Plotly and Pandas for homemade experiments\n",
    "\n",
    "This notebook will show one way to use pandas dataframes to store results of a computation, and then use plotly to look at the results in a convenient way.\n",
    "\n",
    "What we will actually do in the notebook:\n",
    "- Generate some tensor data\n",
    "- Decompose it with 2 algorithms, with one hyperparameter (number of components), and store two different metrics (time, reconstruction error)\n",
    "- We do the previous step 10 times, everytime with a different initialization"
   ]
  },
  {
   "cell_type": "code",
   "execution_count": 14,
   "id": "cde5122b",
   "metadata": {},
   "outputs": [],
   "source": [
    "import numpy as np\n",
    "import tensorly as tl\n",
    "from tensorly.random import random_cp\n",
    "from tensorly.decomposition import non_negative_parafac, non_negative_parafac_hals, parafac\n",
    "import plotly.express as px\n",
    "#import chart_studio.plotly as py\n",
    "import pandas as pd\n",
    "import copy # for fair initialization\n",
    "import time # for checking speed"
   ]
  },
  {
   "cell_type": "markdown",
   "id": "37fc804d",
   "metadata": {},
   "source": [
    "First good practice: setting some seed (non trivial) so that randomized experiments are reproducible."
   ]
  },
  {
   "cell_type": "code",
   "execution_count": 15,
   "id": "cfb20230",
   "metadata": {},
   "outputs": [],
   "source": [
    "rs = tl.check_random_state(hash(\"this meeting is dope\")%(2**32))"
   ]
  },
  {
   "cell_type": "markdown",
   "id": "e553e407",
   "metadata": {},
   "source": [
    "## Part 1: an experiment with logs in pandas DataFrame\n",
    "### Before loops\n",
    "- We set some fixed hyperparameters\n",
    "- We generate a random tensor data to use a tensor decomposition library (anything else would have worked)"
   ]
  },
  {
   "cell_type": "code",
   "execution_count": 16,
   "id": "492dd493",
   "metadata": {},
   "outputs": [],
   "source": [
    "# A bunch of fixed hyperparameters\n",
    "dims = [10,11,12] # sizes of the tensor\n",
    "rank = 5 # true number of components\n",
    "N_init = 10 # number of random inits\n",
    "n_iter = 100 # number of iteration in the algorithms\n",
    "# we will check the impact of the number of estimated components\n",
    "list_of_ranks = [4,5,6]\n",
    "\n",
    "\n",
    "# This is where we initialize the DataFrame that will help us store results\n",
    "df = pd.DataFrame()\n",
    "\n",
    "data_cp = random_cp(dims, rank, random_state=rs)\n",
    "# transforming into nonnegative cp\n",
    "data_cp[0] = tl.tensor([1 for i in range(rank)])\n",
    "data_cp[1] = [tl.abs(data_cp[1][i]) for i in range(len(dims))]\n",
    "# make the data into a full tensor\n",
    "data_tensor = data_cp.to_tensor()#+0.1*np.random.randn(*dims)\n",
    "\n",
    "# We can add the hyperparameters to the DataFrame in a first row\n",
    "# We can also store the data, but with random seeds it is not mandatory\n",
    "#df = pd.concat([pd.DataFrame(\n",
    "#    {\n",
    "#        \"rank\":rank,\n",
    "#        \"dims\":[dims], # careful: put lists into brackets, pandas removes one instance\n",
    "#        \"N_init\":N_init,\n",
    "#        \"n_iter\":n_iter#,\n",
    "#        #\"data\":[data_cp]\n",
    "#    }), df])\n",
    "\n",
    "#print(df,df.dtypes)"
   ]
  },
  {
   "cell_type": "markdown",
   "id": "45436b57",
   "metadata": {},
   "source": [
    "### The loops\n",
    "I tend to have a lot of loops when running experiments, e.g. when gridding some hyperparameter. This is where the dataframe is useful: to store the results during each loop and the context of this result."
   ]
  },
  {
   "cell_type": "code",
   "execution_count": 17,
   "id": "a4b9ffc8",
   "metadata": {},
   "outputs": [],
   "source": [
    "for i in range(N_init):\n",
    "    for r in list_of_ranks:\n",
    "    \n",
    "        # Drawing random initial values\n",
    "        init_cp = random_cp(dims,r,random_state=rs)\n",
    "        init_cp[0] = tl.tensor([1 for i in range(r)])\n",
    "        init_cp[1] = [tl.abs(init_cp[1][i]) for i in range(len(dims))]\n",
    "\n",
    "        # using a first algorithm to compute the decomposition\n",
    "        tic = time.time()\n",
    "        #out = non_negative_parafac(data_tensor, r, return_errors=True,\n",
    "        #                           init=copy.deepcopy(init_cp), n_iter_max=n_iter)\n",
    "        out = parafac(data_tensor, r, return_errors=True,\n",
    "                      init=copy.deepcopy(init_cp), n_iter_max=n_iter)\n",
    "        # out is [estimated cp tensor, list of errors]\n",
    "        toc = time.time() - tic\n",
    "        \n",
    "        tic2 = time.time()\n",
    "        out2 = non_negative_parafac_hals(data_tensor,r, return_errors=True,\n",
    "                                    init=copy.deepcopy(init_cp),n_iter_max=n_iter)\n",
    "        toc2 = time.time() - tic2\n",
    "        \n",
    "        # Now is the time to store results\n",
    "        df = pd.concat([df,pd.DataFrame(\n",
    "        {\n",
    "            \"rec_error\":[out[1],out2[1]], # a little heavy but doable\n",
    "            \"final_rec_error\":[out[1][-1],out2[1][-1]],\n",
    "            \"time\":[toc,toc2],\n",
    "            \"algorithm\":['default', 'hals'],\n",
    "            \"init_nb\": i,\n",
    "            \"rank_est\": r\n",
    "        })], ignore_index=True)"
   ]
  },
  {
   "cell_type": "markdown",
   "id": "3effe90a",
   "metadata": {},
   "source": [
    "### Storing the results for later"
   ]
  },
  {
   "cell_type": "code",
   "execution_count": 18,
   "id": "7847ac48",
   "metadata": {},
   "outputs": [
    {
     "name": "stdout",
     "output_type": "stream",
     "text": [
      "                                            rec_error  final_rec_error  \\\n",
      "0   [0.16135338106959818, 0.11910553687611242, 0.1...         0.057854   \n",
      "1   [0.17067386434147208, 0.10696447543733074, 0.0...         0.057846   \n",
      "2   [0.17606326144954407, 0.08374195332669614, 0.0...         0.001265   \n",
      "3   [0.1682406029688855, 0.09115272739385925, 0.07...         0.000406   \n",
      "4   [0.136643663656339, 0.08910767795340095, 0.068...         0.002883   \n",
      "5   [0.16320293832892074, 0.08918308911737952, 0.0...         0.001625   \n",
      "6   [0.1387443992530884, 0.09613659738207948, 0.08...         0.057836   \n",
      "7   [0.15332801622433792, 0.11043837002145528, 0.0...         0.057847   \n",
      "8   [0.13145918977348373, 0.0908001968085309, 0.08...         0.001361   \n",
      "9   [0.1464294323500054, 0.07215509488616327, 0.05...         0.000495   \n",
      "10  [0.1024241390109571, 0.0758443799193823, 0.069...         0.001735   \n",
      "11  [0.15203190421283794, 0.08653033624589918, 0.0...         0.001457   \n",
      "12  [0.12090363861923044, 0.08783467609613639, 0.0...         0.057885   \n",
      "13  [0.14479124942844213, 0.07672183860423348, 0.0...         0.057848   \n",
      "14  [0.13673914641573412, 0.08350049685702468, 0.0...         0.000882   \n",
      "15  [0.1653186630236311, 0.08453718265086685, 0.07...         0.000449   \n",
      "16  [0.10845708629202021, 0.06725182689317492, 0.0...         0.006514   \n",
      "17  [0.14977970701493468, 0.08905400913960132, 0.0...         0.001010   \n",
      "18  [0.14239086580406407, 0.10696343439229566, 0.0...         0.057834   \n",
      "19  [0.17559149956262965, 0.11433262017590566, 0.0...         0.057934   \n",
      "20  [0.13511602166407138, 0.10124292045646849, 0.0...         0.001408   \n",
      "21  [0.1662442811590858, 0.09757093244854745, 0.07...         0.000752   \n",
      "22  [0.12288111218969289, 0.05659832312606739, 0.0...         0.000207   \n",
      "23  [0.1533105895019322, 0.07343508426182387, 0.05...         0.000839   \n",
      "24  [0.11540901300015567, 0.0777326742735071, 0.07...         0.057836   \n",
      "25  [0.1302106173158063, 0.07881890832163807, 0.07...         0.057846   \n",
      "26  [0.13373716154291335, 0.0790620334178489, 0.06...         0.005195   \n",
      "27  [0.14866381171144916, 0.09741575508423678, 0.0...         0.000584   \n",
      "28  [0.08392299441413567, 0.05696537966394929, 0.0...         0.000965   \n",
      "29  [0.126309599872206, 0.0634535575663937, 0.0461...         0.000482   \n",
      "30  [0.16544407730677352, 0.1068866506721281, 0.09...         0.057836   \n",
      "31  [0.18908353416557036, 0.11250066147856548, 0.0...         0.057846   \n",
      "32  [0.13656137250461958, 0.06734881369666897, 0.0...         0.000756   \n",
      "33  [0.14692417127731147, 0.07524513365711209, 0.0...         0.000588   \n",
      "34  [0.1438684113023084, 0.05212067053326342, 0.04...         0.000979   \n",
      "35  [0.14818613697628116, 0.06496156414262576, 0.0...         0.000526   \n",
      "36  [0.156632197409664, 0.10452532557570698, 0.096...         0.057838   \n",
      "37  [0.1874012057358398, 0.11702880994792704, 0.08...         0.057846   \n",
      "38  [0.13777824477865613, 0.08162180927377267, 0.0...         0.002619   \n",
      "39  [0.16467392715932308, 0.08515413021966659, 0.0...         0.000544   \n",
      "40  [0.14586489933603594, 0.08035371182274959, 0.0...         0.012376   \n",
      "41  [0.17716938558582304, 0.12478188106605871, 0.0...         0.000669   \n",
      "42  [0.15138030180358003, 0.11921998468501596, 0.1...         0.057891   \n",
      "43  [0.18270295978942502, 0.12830726836902265, 0.1...         0.057846   \n",
      "44  [0.1129379256530474, 0.08181978471056581, 0.07...         0.001354   \n",
      "45  [0.14189605490350096, 0.08165850489660567, 0.0...         0.000543   \n",
      "46  [0.1269843069637378, 0.07726779392399723, 0.07...         0.010645   \n",
      "47  [0.1751731473531075, 0.08645779793094384, 0.06...         0.000454   \n",
      "48  [0.14857055068214722, 0.11359844827890464, 0.1...         0.057835   \n",
      "49  [0.19525769986999317, 0.12933370463981292, 0.1...         0.057845   \n",
      "50  [0.13450625567190025, 0.0955413560218928, 0.08...         0.001757   \n",
      "51  [0.15229560135612746, 0.09496971665715487, 0.0...         0.000683   \n",
      "52  [0.11933503772699697, 0.07120453217292498, 0.0...         0.002021   \n",
      "53  [0.13835466178789507, 0.07495350651399553, 0.0...         0.001538   \n",
      "54  [0.1474721730143084, 0.09226645373358723, 0.08...         0.057835   \n",
      "55  [0.16393735992442343, 0.08318325373628109, 0.0...         0.057847   \n",
      "56  [0.1308943828463445, 0.09123784230369415, 0.07...         0.000443   \n",
      "57  [0.15360165753517882, 0.07982797627048759, 0.0...         0.000357   \n",
      "58  [0.09107098674596527, 0.049937661124691, 0.042...         0.001023   \n",
      "59  [0.13726088923431867, 0.05978381477450527, 0.0...         0.000211   \n",
      "\n",
      "        time algorithm  init_nb  rank_est  \n",
      "0   0.081784   default        0         4  \n",
      "1   0.178404      hals        0         4  \n",
      "2   0.099754   default        0         5  \n",
      "3   0.220458      hals        0         5  \n",
      "4   0.115801   default        0         6  \n",
      "5   0.239893      hals        0         6  \n",
      "6   0.083258   default        1         4  \n",
      "7   0.195831      hals        1         4  \n",
      "8   0.060914   default        1         5  \n",
      "9   0.189495      hals        1         5  \n",
      "10  0.071824   default        1         6  \n",
      "11  0.208261      hals        1         6  \n",
      "12  0.049803   default        2         4  \n",
      "13  0.161102      hals        2         4  \n",
      "14  0.065661   default        2         5  \n",
      "15  0.189795      hals        2         5  \n",
      "16  0.070029   default        2         6  \n",
      "17  0.214666      hals        2         6  \n",
      "18  0.050613   default        3         4  \n",
      "19  0.161139      hals        3         4  \n",
      "20  0.097218   default        3         5  \n",
      "21  0.222239      hals        3         5  \n",
      "22  0.111852   default        3         6  \n",
      "23  0.243045      hals        3         6  \n",
      "24  0.081627   default        4         4  \n",
      "25  0.181311      hals        4         4  \n",
      "26  0.098705   default        4         5  \n",
      "27  0.224449      hals        4         5  \n",
      "28  0.112328   default        4         6  \n",
      "29  0.242451      hals        4         6  \n",
      "30  0.080678   default        5         4  \n",
      "31  0.180928      hals        5         4  \n",
      "32  0.098445   default        5         5  \n",
      "33  0.223557      hals        5         5  \n",
      "34  0.112733   default        5         6  \n",
      "35  0.241687      hals        5         6  \n",
      "36  0.081415   default        6         4  \n",
      "37  0.176462      hals        6         4  \n",
      "38  0.098763   default        6         5  \n",
      "39  0.222802      hals        6         5  \n",
      "40  0.111249   default        6         6  \n",
      "41  0.242735      hals        6         6  \n",
      "42  0.085221   default        7         4  \n",
      "43  0.188504      hals        7         4  \n",
      "44  0.102729   default        7         5  \n",
      "45  0.224372      hals        7         5  \n",
      "46  0.086424   default        7         6  \n",
      "47  0.223747      hals        7         6  \n",
      "48  0.050339   default        8         4  \n",
      "49  0.120715      hals        8         4  \n",
      "50  0.067167   default        8         5  \n",
      "51  0.195827      hals        8         5  \n",
      "52  0.070534   default        8         6  \n",
      "53  0.214038      hals        8         6  \n",
      "54  0.051394   default        9         4  \n",
      "55  0.162833      hals        9         4  \n",
      "56  0.063406   default        9         5  \n",
      "57  0.194922      hals        9         5  \n",
      "58  0.071452   default        9         6  \n",
      "59  0.214160      hals        9         6  \n"
     ]
    }
   ],
   "source": [
    "print(df)\n",
    "df.to_pickle('./my_xp_results.pkl')"
   ]
  },
  {
   "cell_type": "markdown",
   "id": "9e96055e",
   "metadata": {},
   "source": [
    "## Part2 : I want to look at my results with little efforts\n",
    "\n",
    "We do that with plotly !! "
   ]
  },
  {
   "cell_type": "code",
   "execution_count": 19,
   "id": "2b636713",
   "metadata": {},
   "outputs": [],
   "source": [
    "# if needed, import the data\n",
    "df = pd.read_pickle(\"./my_xp_results.pkl\")"
   ]
  },
  {
   "cell_type": "code",
   "execution_count": 20,
   "id": "5866ea83",
   "metadata": {},
   "outputs": [
    {
     "data": {
      "application/vnd.plotly.v1+json": {
       "config": {
        "plotlyServerURL": "https://plot.ly"
       },
       "data": [
        {
         "alignmentgroup": "True",
         "hovertemplate": "algorithm=%{x}<br>time=%{y}<extra></extra>",
         "legendgroup": "",
         "marker": {
          "color": "#636efa"
         },
         "name": "",
         "notched": false,
         "offsetgroup": "",
         "orientation": "v",
         "showlegend": false,
         "type": "box",
         "x": [
          "default",
          "hals",
          "default",
          "hals",
          "default",
          "hals",
          "default",
          "hals",
          "default",
          "hals",
          "default",
          "hals",
          "default",
          "hals",
          "default",
          "hals",
          "default",
          "hals",
          "default",
          "hals",
          "default",
          "hals",
          "default",
          "hals",
          "default",
          "hals",
          "default",
          "hals",
          "default",
          "hals",
          "default",
          "hals",
          "default",
          "hals",
          "default",
          "hals",
          "default",
          "hals",
          "default",
          "hals",
          "default",
          "hals",
          "default",
          "hals",
          "default",
          "hals",
          "default",
          "hals",
          "default",
          "hals",
          "default",
          "hals",
          "default",
          "hals",
          "default",
          "hals",
          "default",
          "hals",
          "default",
          "hals"
         ],
         "x0": " ",
         "xaxis": "x",
         "y": [
          0.08178377151489258,
          0.1784043312072754,
          0.09975385665893555,
          0.2204580307006836,
          0.11580085754394531,
          0.23989295959472656,
          0.08325839042663574,
          0.195831298828125,
          0.0609135627746582,
          0.18949484825134277,
          0.0718240737915039,
          0.20826077461242676,
          0.04980278015136719,
          0.1611020565032959,
          0.06566119194030762,
          0.18979477882385254,
          0.07002925872802734,
          0.21466588973999023,
          0.050612688064575195,
          0.16113948822021484,
          0.09721755981445312,
          0.22223949432373047,
          0.11185240745544434,
          0.24304461479187012,
          0.08162736892700195,
          0.18131136894226074,
          0.09870457649230957,
          0.22444868087768555,
          0.11232829093933105,
          0.24245071411132812,
          0.08067846298217773,
          0.18092799186706543,
          0.09844541549682617,
          0.2235567569732666,
          0.11273312568664551,
          0.24168705940246582,
          0.08141541481018066,
          0.17646241188049316,
          0.09876275062561035,
          0.22280192375183105,
          0.11124873161315918,
          0.24273467063903809,
          0.0852210521697998,
          0.18850350379943848,
          0.10272884368896484,
          0.22437191009521484,
          0.08642363548278809,
          0.22374677658081055,
          0.0503385066986084,
          0.12071466445922852,
          0.06716656684875488,
          0.19582748413085938,
          0.07053446769714355,
          0.21403837203979492,
          0.05139350891113281,
          0.16283321380615234,
          0.06340622901916504,
          0.19492220878601074,
          0.07145237922668457,
          0.21416044235229492
         ],
         "y0": " ",
         "yaxis": "y"
        }
       ],
       "layout": {
        "boxmode": "group",
        "font": {
         "size": 20
        },
        "legend": {
         "tracegroupgap": 0
        },
        "template": {
         "data": {
          "bar": [
           {
            "error_x": {
             "color": "#2a3f5f"
            },
            "error_y": {
             "color": "#2a3f5f"
            },
            "marker": {
             "line": {
              "color": "#E5ECF6",
              "width": 0.5
             },
             "pattern": {
              "fillmode": "overlay",
              "size": 10,
              "solidity": 0.2
             }
            },
            "type": "bar"
           }
          ],
          "barpolar": [
           {
            "marker": {
             "line": {
              "color": "#E5ECF6",
              "width": 0.5
             },
             "pattern": {
              "fillmode": "overlay",
              "size": 10,
              "solidity": 0.2
             }
            },
            "type": "barpolar"
           }
          ],
          "carpet": [
           {
            "aaxis": {
             "endlinecolor": "#2a3f5f",
             "gridcolor": "white",
             "linecolor": "white",
             "minorgridcolor": "white",
             "startlinecolor": "#2a3f5f"
            },
            "baxis": {
             "endlinecolor": "#2a3f5f",
             "gridcolor": "white",
             "linecolor": "white",
             "minorgridcolor": "white",
             "startlinecolor": "#2a3f5f"
            },
            "type": "carpet"
           }
          ],
          "choropleth": [
           {
            "colorbar": {
             "outlinewidth": 0,
             "ticks": ""
            },
            "type": "choropleth"
           }
          ],
          "contour": [
           {
            "colorbar": {
             "outlinewidth": 0,
             "ticks": ""
            },
            "colorscale": [
             [
              0,
              "#0d0887"
             ],
             [
              0.1111111111111111,
              "#46039f"
             ],
             [
              0.2222222222222222,
              "#7201a8"
             ],
             [
              0.3333333333333333,
              "#9c179e"
             ],
             [
              0.4444444444444444,
              "#bd3786"
             ],
             [
              0.5555555555555556,
              "#d8576b"
             ],
             [
              0.6666666666666666,
              "#ed7953"
             ],
             [
              0.7777777777777778,
              "#fb9f3a"
             ],
             [
              0.8888888888888888,
              "#fdca26"
             ],
             [
              1,
              "#f0f921"
             ]
            ],
            "type": "contour"
           }
          ],
          "contourcarpet": [
           {
            "colorbar": {
             "outlinewidth": 0,
             "ticks": ""
            },
            "type": "contourcarpet"
           }
          ],
          "heatmap": [
           {
            "colorbar": {
             "outlinewidth": 0,
             "ticks": ""
            },
            "colorscale": [
             [
              0,
              "#0d0887"
             ],
             [
              0.1111111111111111,
              "#46039f"
             ],
             [
              0.2222222222222222,
              "#7201a8"
             ],
             [
              0.3333333333333333,
              "#9c179e"
             ],
             [
              0.4444444444444444,
              "#bd3786"
             ],
             [
              0.5555555555555556,
              "#d8576b"
             ],
             [
              0.6666666666666666,
              "#ed7953"
             ],
             [
              0.7777777777777778,
              "#fb9f3a"
             ],
             [
              0.8888888888888888,
              "#fdca26"
             ],
             [
              1,
              "#f0f921"
             ]
            ],
            "type": "heatmap"
           }
          ],
          "heatmapgl": [
           {
            "colorbar": {
             "outlinewidth": 0,
             "ticks": ""
            },
            "colorscale": [
             [
              0,
              "#0d0887"
             ],
             [
              0.1111111111111111,
              "#46039f"
             ],
             [
              0.2222222222222222,
              "#7201a8"
             ],
             [
              0.3333333333333333,
              "#9c179e"
             ],
             [
              0.4444444444444444,
              "#bd3786"
             ],
             [
              0.5555555555555556,
              "#d8576b"
             ],
             [
              0.6666666666666666,
              "#ed7953"
             ],
             [
              0.7777777777777778,
              "#fb9f3a"
             ],
             [
              0.8888888888888888,
              "#fdca26"
             ],
             [
              1,
              "#f0f921"
             ]
            ],
            "type": "heatmapgl"
           }
          ],
          "histogram": [
           {
            "marker": {
             "pattern": {
              "fillmode": "overlay",
              "size": 10,
              "solidity": 0.2
             }
            },
            "type": "histogram"
           }
          ],
          "histogram2d": [
           {
            "colorbar": {
             "outlinewidth": 0,
             "ticks": ""
            },
            "colorscale": [
             [
              0,
              "#0d0887"
             ],
             [
              0.1111111111111111,
              "#46039f"
             ],
             [
              0.2222222222222222,
              "#7201a8"
             ],
             [
              0.3333333333333333,
              "#9c179e"
             ],
             [
              0.4444444444444444,
              "#bd3786"
             ],
             [
              0.5555555555555556,
              "#d8576b"
             ],
             [
              0.6666666666666666,
              "#ed7953"
             ],
             [
              0.7777777777777778,
              "#fb9f3a"
             ],
             [
              0.8888888888888888,
              "#fdca26"
             ],
             [
              1,
              "#f0f921"
             ]
            ],
            "type": "histogram2d"
           }
          ],
          "histogram2dcontour": [
           {
            "colorbar": {
             "outlinewidth": 0,
             "ticks": ""
            },
            "colorscale": [
             [
              0,
              "#0d0887"
             ],
             [
              0.1111111111111111,
              "#46039f"
             ],
             [
              0.2222222222222222,
              "#7201a8"
             ],
             [
              0.3333333333333333,
              "#9c179e"
             ],
             [
              0.4444444444444444,
              "#bd3786"
             ],
             [
              0.5555555555555556,
              "#d8576b"
             ],
             [
              0.6666666666666666,
              "#ed7953"
             ],
             [
              0.7777777777777778,
              "#fb9f3a"
             ],
             [
              0.8888888888888888,
              "#fdca26"
             ],
             [
              1,
              "#f0f921"
             ]
            ],
            "type": "histogram2dcontour"
           }
          ],
          "mesh3d": [
           {
            "colorbar": {
             "outlinewidth": 0,
             "ticks": ""
            },
            "type": "mesh3d"
           }
          ],
          "parcoords": [
           {
            "line": {
             "colorbar": {
              "outlinewidth": 0,
              "ticks": ""
             }
            },
            "type": "parcoords"
           }
          ],
          "pie": [
           {
            "automargin": true,
            "type": "pie"
           }
          ],
          "scatter": [
           {
            "marker": {
             "colorbar": {
              "outlinewidth": 0,
              "ticks": ""
             }
            },
            "type": "scatter"
           }
          ],
          "scatter3d": [
           {
            "line": {
             "colorbar": {
              "outlinewidth": 0,
              "ticks": ""
             }
            },
            "marker": {
             "colorbar": {
              "outlinewidth": 0,
              "ticks": ""
             }
            },
            "type": "scatter3d"
           }
          ],
          "scattercarpet": [
           {
            "marker": {
             "colorbar": {
              "outlinewidth": 0,
              "ticks": ""
             }
            },
            "type": "scattercarpet"
           }
          ],
          "scattergeo": [
           {
            "marker": {
             "colorbar": {
              "outlinewidth": 0,
              "ticks": ""
             }
            },
            "type": "scattergeo"
           }
          ],
          "scattergl": [
           {
            "marker": {
             "colorbar": {
              "outlinewidth": 0,
              "ticks": ""
             }
            },
            "type": "scattergl"
           }
          ],
          "scattermapbox": [
           {
            "marker": {
             "colorbar": {
              "outlinewidth": 0,
              "ticks": ""
             }
            },
            "type": "scattermapbox"
           }
          ],
          "scatterpolar": [
           {
            "marker": {
             "colorbar": {
              "outlinewidth": 0,
              "ticks": ""
             }
            },
            "type": "scatterpolar"
           }
          ],
          "scatterpolargl": [
           {
            "marker": {
             "colorbar": {
              "outlinewidth": 0,
              "ticks": ""
             }
            },
            "type": "scatterpolargl"
           }
          ],
          "scatterternary": [
           {
            "marker": {
             "colorbar": {
              "outlinewidth": 0,
              "ticks": ""
             }
            },
            "type": "scatterternary"
           }
          ],
          "surface": [
           {
            "colorbar": {
             "outlinewidth": 0,
             "ticks": ""
            },
            "colorscale": [
             [
              0,
              "#0d0887"
             ],
             [
              0.1111111111111111,
              "#46039f"
             ],
             [
              0.2222222222222222,
              "#7201a8"
             ],
             [
              0.3333333333333333,
              "#9c179e"
             ],
             [
              0.4444444444444444,
              "#bd3786"
             ],
             [
              0.5555555555555556,
              "#d8576b"
             ],
             [
              0.6666666666666666,
              "#ed7953"
             ],
             [
              0.7777777777777778,
              "#fb9f3a"
             ],
             [
              0.8888888888888888,
              "#fdca26"
             ],
             [
              1,
              "#f0f921"
             ]
            ],
            "type": "surface"
           }
          ],
          "table": [
           {
            "cells": {
             "fill": {
              "color": "#EBF0F8"
             },
             "line": {
              "color": "white"
             }
            },
            "header": {
             "fill": {
              "color": "#C8D4E3"
             },
             "line": {
              "color": "white"
             }
            },
            "type": "table"
           }
          ]
         },
         "layout": {
          "annotationdefaults": {
           "arrowcolor": "#2a3f5f",
           "arrowhead": 0,
           "arrowwidth": 1
          },
          "autotypenumbers": "strict",
          "coloraxis": {
           "colorbar": {
            "outlinewidth": 0,
            "ticks": ""
           }
          },
          "colorscale": {
           "diverging": [
            [
             0,
             "#8e0152"
            ],
            [
             0.1,
             "#c51b7d"
            ],
            [
             0.2,
             "#de77ae"
            ],
            [
             0.3,
             "#f1b6da"
            ],
            [
             0.4,
             "#fde0ef"
            ],
            [
             0.5,
             "#f7f7f7"
            ],
            [
             0.6,
             "#e6f5d0"
            ],
            [
             0.7,
             "#b8e186"
            ],
            [
             0.8,
             "#7fbc41"
            ],
            [
             0.9,
             "#4d9221"
            ],
            [
             1,
             "#276419"
            ]
           ],
           "sequential": [
            [
             0,
             "#0d0887"
            ],
            [
             0.1111111111111111,
             "#46039f"
            ],
            [
             0.2222222222222222,
             "#7201a8"
            ],
            [
             0.3333333333333333,
             "#9c179e"
            ],
            [
             0.4444444444444444,
             "#bd3786"
            ],
            [
             0.5555555555555556,
             "#d8576b"
            ],
            [
             0.6666666666666666,
             "#ed7953"
            ],
            [
             0.7777777777777778,
             "#fb9f3a"
            ],
            [
             0.8888888888888888,
             "#fdca26"
            ],
            [
             1,
             "#f0f921"
            ]
           ],
           "sequentialminus": [
            [
             0,
             "#0d0887"
            ],
            [
             0.1111111111111111,
             "#46039f"
            ],
            [
             0.2222222222222222,
             "#7201a8"
            ],
            [
             0.3333333333333333,
             "#9c179e"
            ],
            [
             0.4444444444444444,
             "#bd3786"
            ],
            [
             0.5555555555555556,
             "#d8576b"
            ],
            [
             0.6666666666666666,
             "#ed7953"
            ],
            [
             0.7777777777777778,
             "#fb9f3a"
            ],
            [
             0.8888888888888888,
             "#fdca26"
            ],
            [
             1,
             "#f0f921"
            ]
           ]
          },
          "colorway": [
           "#636efa",
           "#EF553B",
           "#00cc96",
           "#ab63fa",
           "#FFA15A",
           "#19d3f3",
           "#FF6692",
           "#B6E880",
           "#FF97FF",
           "#FECB52"
          ],
          "font": {
           "color": "#2a3f5f"
          },
          "geo": {
           "bgcolor": "white",
           "lakecolor": "white",
           "landcolor": "#E5ECF6",
           "showlakes": true,
           "showland": true,
           "subunitcolor": "white"
          },
          "hoverlabel": {
           "align": "left"
          },
          "hovermode": "closest",
          "mapbox": {
           "style": "light"
          },
          "paper_bgcolor": "white",
          "plot_bgcolor": "#E5ECF6",
          "polar": {
           "angularaxis": {
            "gridcolor": "white",
            "linecolor": "white",
            "ticks": ""
           },
           "bgcolor": "#E5ECF6",
           "radialaxis": {
            "gridcolor": "white",
            "linecolor": "white",
            "ticks": ""
           }
          },
          "scene": {
           "xaxis": {
            "backgroundcolor": "#E5ECF6",
            "gridcolor": "white",
            "gridwidth": 2,
            "linecolor": "white",
            "showbackground": true,
            "ticks": "",
            "zerolinecolor": "white"
           },
           "yaxis": {
            "backgroundcolor": "#E5ECF6",
            "gridcolor": "white",
            "gridwidth": 2,
            "linecolor": "white",
            "showbackground": true,
            "ticks": "",
            "zerolinecolor": "white"
           },
           "zaxis": {
            "backgroundcolor": "#E5ECF6",
            "gridcolor": "white",
            "gridwidth": 2,
            "linecolor": "white",
            "showbackground": true,
            "ticks": "",
            "zerolinecolor": "white"
           }
          },
          "shapedefaults": {
           "line": {
            "color": "#2a3f5f"
           }
          },
          "ternary": {
           "aaxis": {
            "gridcolor": "white",
            "linecolor": "white",
            "ticks": ""
           },
           "baxis": {
            "gridcolor": "white",
            "linecolor": "white",
            "ticks": ""
           },
           "bgcolor": "#E5ECF6",
           "caxis": {
            "gridcolor": "white",
            "linecolor": "white",
            "ticks": ""
           }
          },
          "title": {
           "x": 0.05
          },
          "xaxis": {
           "automargin": true,
           "gridcolor": "white",
           "linecolor": "white",
           "ticks": "",
           "title": {
            "standoff": 15
           },
           "zerolinecolor": "white",
           "zerolinewidth": 2
          },
          "yaxis": {
           "automargin": true,
           "gridcolor": "white",
           "linecolor": "white",
           "ticks": "",
           "title": {
            "standoff": 15
           },
           "zerolinecolor": "white",
           "zerolinewidth": 2
          }
         }
        },
        "title": {
         "text": "Which algorithm is faster?"
        },
        "xaxis": {
         "anchor": "y",
         "domain": [
          0,
          1
         ],
         "title": {
          "text": "algorithm"
         }
        },
        "yaxis": {
         "anchor": "x",
         "domain": [
          0,
          1
         ],
         "title": {
          "text": "time"
         }
        }
       }
      },
      "text/html": [
       "<div>                            <div id=\"7088f132-7032-490f-8027-a85cb37888f4\" class=\"plotly-graph-div\" style=\"height:525px; width:100%;\"></div>            <script type=\"text/javascript\">                require([\"plotly\"], function(Plotly) {                    window.PLOTLYENV=window.PLOTLYENV || {};                                    if (document.getElementById(\"7088f132-7032-490f-8027-a85cb37888f4\")) {                    Plotly.newPlot(                        \"7088f132-7032-490f-8027-a85cb37888f4\",                        [{\"alignmentgroup\":\"True\",\"hovertemplate\":\"algorithm=%{x}<br>time=%{y}<extra></extra>\",\"legendgroup\":\"\",\"marker\":{\"color\":\"#636efa\"},\"name\":\"\",\"notched\":false,\"offsetgroup\":\"\",\"orientation\":\"v\",\"showlegend\":false,\"x\":[\"default\",\"hals\",\"default\",\"hals\",\"default\",\"hals\",\"default\",\"hals\",\"default\",\"hals\",\"default\",\"hals\",\"default\",\"hals\",\"default\",\"hals\",\"default\",\"hals\",\"default\",\"hals\",\"default\",\"hals\",\"default\",\"hals\",\"default\",\"hals\",\"default\",\"hals\",\"default\",\"hals\",\"default\",\"hals\",\"default\",\"hals\",\"default\",\"hals\",\"default\",\"hals\",\"default\",\"hals\",\"default\",\"hals\",\"default\",\"hals\",\"default\",\"hals\",\"default\",\"hals\",\"default\",\"hals\",\"default\",\"hals\",\"default\",\"hals\",\"default\",\"hals\",\"default\",\"hals\",\"default\",\"hals\"],\"x0\":\" \",\"xaxis\":\"x\",\"y\":[0.08178377151489258,0.1784043312072754,0.09975385665893555,0.2204580307006836,0.11580085754394531,0.23989295959472656,0.08325839042663574,0.195831298828125,0.0609135627746582,0.18949484825134277,0.0718240737915039,0.20826077461242676,0.04980278015136719,0.1611020565032959,0.06566119194030762,0.18979477882385254,0.07002925872802734,0.21466588973999023,0.050612688064575195,0.16113948822021484,0.09721755981445312,0.22223949432373047,0.11185240745544434,0.24304461479187012,0.08162736892700195,0.18131136894226074,0.09870457649230957,0.22444868087768555,0.11232829093933105,0.24245071411132812,0.08067846298217773,0.18092799186706543,0.09844541549682617,0.2235567569732666,0.11273312568664551,0.24168705940246582,0.08141541481018066,0.17646241188049316,0.09876275062561035,0.22280192375183105,0.11124873161315918,0.24273467063903809,0.0852210521697998,0.18850350379943848,0.10272884368896484,0.22437191009521484,0.08642363548278809,0.22374677658081055,0.0503385066986084,0.12071466445922852,0.06716656684875488,0.19582748413085938,0.07053446769714355,0.21403837203979492,0.05139350891113281,0.16283321380615234,0.06340622901916504,0.19492220878601074,0.07145237922668457,0.21416044235229492],\"y0\":\" \",\"yaxis\":\"y\",\"type\":\"box\"}],                        {\"template\":{\"data\":{\"bar\":[{\"error_x\":{\"color\":\"#2a3f5f\"},\"error_y\":{\"color\":\"#2a3f5f\"},\"marker\":{\"line\":{\"color\":\"#E5ECF6\",\"width\":0.5},\"pattern\":{\"fillmode\":\"overlay\",\"size\":10,\"solidity\":0.2}},\"type\":\"bar\"}],\"barpolar\":[{\"marker\":{\"line\":{\"color\":\"#E5ECF6\",\"width\":0.5},\"pattern\":{\"fillmode\":\"overlay\",\"size\":10,\"solidity\":0.2}},\"type\":\"barpolar\"}],\"carpet\":[{\"aaxis\":{\"endlinecolor\":\"#2a3f5f\",\"gridcolor\":\"white\",\"linecolor\":\"white\",\"minorgridcolor\":\"white\",\"startlinecolor\":\"#2a3f5f\"},\"baxis\":{\"endlinecolor\":\"#2a3f5f\",\"gridcolor\":\"white\",\"linecolor\":\"white\",\"minorgridcolor\":\"white\",\"startlinecolor\":\"#2a3f5f\"},\"type\":\"carpet\"}],\"choropleth\":[{\"colorbar\":{\"outlinewidth\":0,\"ticks\":\"\"},\"type\":\"choropleth\"}],\"contour\":[{\"colorbar\":{\"outlinewidth\":0,\"ticks\":\"\"},\"colorscale\":[[0.0,\"#0d0887\"],[0.1111111111111111,\"#46039f\"],[0.2222222222222222,\"#7201a8\"],[0.3333333333333333,\"#9c179e\"],[0.4444444444444444,\"#bd3786\"],[0.5555555555555556,\"#d8576b\"],[0.6666666666666666,\"#ed7953\"],[0.7777777777777778,\"#fb9f3a\"],[0.8888888888888888,\"#fdca26\"],[1.0,\"#f0f921\"]],\"type\":\"contour\"}],\"contourcarpet\":[{\"colorbar\":{\"outlinewidth\":0,\"ticks\":\"\"},\"type\":\"contourcarpet\"}],\"heatmap\":[{\"colorbar\":{\"outlinewidth\":0,\"ticks\":\"\"},\"colorscale\":[[0.0,\"#0d0887\"],[0.1111111111111111,\"#46039f\"],[0.2222222222222222,\"#7201a8\"],[0.3333333333333333,\"#9c179e\"],[0.4444444444444444,\"#bd3786\"],[0.5555555555555556,\"#d8576b\"],[0.6666666666666666,\"#ed7953\"],[0.7777777777777778,\"#fb9f3a\"],[0.8888888888888888,\"#fdca26\"],[1.0,\"#f0f921\"]],\"type\":\"heatmap\"}],\"heatmapgl\":[{\"colorbar\":{\"outlinewidth\":0,\"ticks\":\"\"},\"colorscale\":[[0.0,\"#0d0887\"],[0.1111111111111111,\"#46039f\"],[0.2222222222222222,\"#7201a8\"],[0.3333333333333333,\"#9c179e\"],[0.4444444444444444,\"#bd3786\"],[0.5555555555555556,\"#d8576b\"],[0.6666666666666666,\"#ed7953\"],[0.7777777777777778,\"#fb9f3a\"],[0.8888888888888888,\"#fdca26\"],[1.0,\"#f0f921\"]],\"type\":\"heatmapgl\"}],\"histogram\":[{\"marker\":{\"pattern\":{\"fillmode\":\"overlay\",\"size\":10,\"solidity\":0.2}},\"type\":\"histogram\"}],\"histogram2d\":[{\"colorbar\":{\"outlinewidth\":0,\"ticks\":\"\"},\"colorscale\":[[0.0,\"#0d0887\"],[0.1111111111111111,\"#46039f\"],[0.2222222222222222,\"#7201a8\"],[0.3333333333333333,\"#9c179e\"],[0.4444444444444444,\"#bd3786\"],[0.5555555555555556,\"#d8576b\"],[0.6666666666666666,\"#ed7953\"],[0.7777777777777778,\"#fb9f3a\"],[0.8888888888888888,\"#fdca26\"],[1.0,\"#f0f921\"]],\"type\":\"histogram2d\"}],\"histogram2dcontour\":[{\"colorbar\":{\"outlinewidth\":0,\"ticks\":\"\"},\"colorscale\":[[0.0,\"#0d0887\"],[0.1111111111111111,\"#46039f\"],[0.2222222222222222,\"#7201a8\"],[0.3333333333333333,\"#9c179e\"],[0.4444444444444444,\"#bd3786\"],[0.5555555555555556,\"#d8576b\"],[0.6666666666666666,\"#ed7953\"],[0.7777777777777778,\"#fb9f3a\"],[0.8888888888888888,\"#fdca26\"],[1.0,\"#f0f921\"]],\"type\":\"histogram2dcontour\"}],\"mesh3d\":[{\"colorbar\":{\"outlinewidth\":0,\"ticks\":\"\"},\"type\":\"mesh3d\"}],\"parcoords\":[{\"line\":{\"colorbar\":{\"outlinewidth\":0,\"ticks\":\"\"}},\"type\":\"parcoords\"}],\"pie\":[{\"automargin\":true,\"type\":\"pie\"}],\"scatter\":[{\"marker\":{\"colorbar\":{\"outlinewidth\":0,\"ticks\":\"\"}},\"type\":\"scatter\"}],\"scatter3d\":[{\"line\":{\"colorbar\":{\"outlinewidth\":0,\"ticks\":\"\"}},\"marker\":{\"colorbar\":{\"outlinewidth\":0,\"ticks\":\"\"}},\"type\":\"scatter3d\"}],\"scattercarpet\":[{\"marker\":{\"colorbar\":{\"outlinewidth\":0,\"ticks\":\"\"}},\"type\":\"scattercarpet\"}],\"scattergeo\":[{\"marker\":{\"colorbar\":{\"outlinewidth\":0,\"ticks\":\"\"}},\"type\":\"scattergeo\"}],\"scattergl\":[{\"marker\":{\"colorbar\":{\"outlinewidth\":0,\"ticks\":\"\"}},\"type\":\"scattergl\"}],\"scattermapbox\":[{\"marker\":{\"colorbar\":{\"outlinewidth\":0,\"ticks\":\"\"}},\"type\":\"scattermapbox\"}],\"scatterpolar\":[{\"marker\":{\"colorbar\":{\"outlinewidth\":0,\"ticks\":\"\"}},\"type\":\"scatterpolar\"}],\"scatterpolargl\":[{\"marker\":{\"colorbar\":{\"outlinewidth\":0,\"ticks\":\"\"}},\"type\":\"scatterpolargl\"}],\"scatterternary\":[{\"marker\":{\"colorbar\":{\"outlinewidth\":0,\"ticks\":\"\"}},\"type\":\"scatterternary\"}],\"surface\":[{\"colorbar\":{\"outlinewidth\":0,\"ticks\":\"\"},\"colorscale\":[[0.0,\"#0d0887\"],[0.1111111111111111,\"#46039f\"],[0.2222222222222222,\"#7201a8\"],[0.3333333333333333,\"#9c179e\"],[0.4444444444444444,\"#bd3786\"],[0.5555555555555556,\"#d8576b\"],[0.6666666666666666,\"#ed7953\"],[0.7777777777777778,\"#fb9f3a\"],[0.8888888888888888,\"#fdca26\"],[1.0,\"#f0f921\"]],\"type\":\"surface\"}],\"table\":[{\"cells\":{\"fill\":{\"color\":\"#EBF0F8\"},\"line\":{\"color\":\"white\"}},\"header\":{\"fill\":{\"color\":\"#C8D4E3\"},\"line\":{\"color\":\"white\"}},\"type\":\"table\"}]},\"layout\":{\"annotationdefaults\":{\"arrowcolor\":\"#2a3f5f\",\"arrowhead\":0,\"arrowwidth\":1},\"autotypenumbers\":\"strict\",\"coloraxis\":{\"colorbar\":{\"outlinewidth\":0,\"ticks\":\"\"}},\"colorscale\":{\"diverging\":[[0,\"#8e0152\"],[0.1,\"#c51b7d\"],[0.2,\"#de77ae\"],[0.3,\"#f1b6da\"],[0.4,\"#fde0ef\"],[0.5,\"#f7f7f7\"],[0.6,\"#e6f5d0\"],[0.7,\"#b8e186\"],[0.8,\"#7fbc41\"],[0.9,\"#4d9221\"],[1,\"#276419\"]],\"sequential\":[[0.0,\"#0d0887\"],[0.1111111111111111,\"#46039f\"],[0.2222222222222222,\"#7201a8\"],[0.3333333333333333,\"#9c179e\"],[0.4444444444444444,\"#bd3786\"],[0.5555555555555556,\"#d8576b\"],[0.6666666666666666,\"#ed7953\"],[0.7777777777777778,\"#fb9f3a\"],[0.8888888888888888,\"#fdca26\"],[1.0,\"#f0f921\"]],\"sequentialminus\":[[0.0,\"#0d0887\"],[0.1111111111111111,\"#46039f\"],[0.2222222222222222,\"#7201a8\"],[0.3333333333333333,\"#9c179e\"],[0.4444444444444444,\"#bd3786\"],[0.5555555555555556,\"#d8576b\"],[0.6666666666666666,\"#ed7953\"],[0.7777777777777778,\"#fb9f3a\"],[0.8888888888888888,\"#fdca26\"],[1.0,\"#f0f921\"]]},\"colorway\":[\"#636efa\",\"#EF553B\",\"#00cc96\",\"#ab63fa\",\"#FFA15A\",\"#19d3f3\",\"#FF6692\",\"#B6E880\",\"#FF97FF\",\"#FECB52\"],\"font\":{\"color\":\"#2a3f5f\"},\"geo\":{\"bgcolor\":\"white\",\"lakecolor\":\"white\",\"landcolor\":\"#E5ECF6\",\"showlakes\":true,\"showland\":true,\"subunitcolor\":\"white\"},\"hoverlabel\":{\"align\":\"left\"},\"hovermode\":\"closest\",\"mapbox\":{\"style\":\"light\"},\"paper_bgcolor\":\"white\",\"plot_bgcolor\":\"#E5ECF6\",\"polar\":{\"angularaxis\":{\"gridcolor\":\"white\",\"linecolor\":\"white\",\"ticks\":\"\"},\"bgcolor\":\"#E5ECF6\",\"radialaxis\":{\"gridcolor\":\"white\",\"linecolor\":\"white\",\"ticks\":\"\"}},\"scene\":{\"xaxis\":{\"backgroundcolor\":\"#E5ECF6\",\"gridcolor\":\"white\",\"gridwidth\":2,\"linecolor\":\"white\",\"showbackground\":true,\"ticks\":\"\",\"zerolinecolor\":\"white\"},\"yaxis\":{\"backgroundcolor\":\"#E5ECF6\",\"gridcolor\":\"white\",\"gridwidth\":2,\"linecolor\":\"white\",\"showbackground\":true,\"ticks\":\"\",\"zerolinecolor\":\"white\"},\"zaxis\":{\"backgroundcolor\":\"#E5ECF6\",\"gridcolor\":\"white\",\"gridwidth\":2,\"linecolor\":\"white\",\"showbackground\":true,\"ticks\":\"\",\"zerolinecolor\":\"white\"}},\"shapedefaults\":{\"line\":{\"color\":\"#2a3f5f\"}},\"ternary\":{\"aaxis\":{\"gridcolor\":\"white\",\"linecolor\":\"white\",\"ticks\":\"\"},\"baxis\":{\"gridcolor\":\"white\",\"linecolor\":\"white\",\"ticks\":\"\"},\"bgcolor\":\"#E5ECF6\",\"caxis\":{\"gridcolor\":\"white\",\"linecolor\":\"white\",\"ticks\":\"\"}},\"title\":{\"x\":0.05},\"xaxis\":{\"automargin\":true,\"gridcolor\":\"white\",\"linecolor\":\"white\",\"ticks\":\"\",\"title\":{\"standoff\":15},\"zerolinecolor\":\"white\",\"zerolinewidth\":2},\"yaxis\":{\"automargin\":true,\"gridcolor\":\"white\",\"linecolor\":\"white\",\"ticks\":\"\",\"title\":{\"standoff\":15},\"zerolinecolor\":\"white\",\"zerolinewidth\":2}}},\"xaxis\":{\"anchor\":\"y\",\"domain\":[0.0,1.0],\"title\":{\"text\":\"algorithm\"}},\"yaxis\":{\"anchor\":\"x\",\"domain\":[0.0,1.0],\"title\":{\"text\":\"time\"}},\"legend\":{\"tracegroupgap\":0},\"title\":{\"text\":\"Which algorithm is faster?\"},\"boxmode\":\"group\",\"font\":{\"size\":20}},                        {\"responsive\": true}                    ).then(function(){\n",
       "                            \n",
       "var gd = document.getElementById('7088f132-7032-490f-8027-a85cb37888f4');\n",
       "var x = new MutationObserver(function (mutations, observer) {{\n",
       "        var display = window.getComputedStyle(gd).display;\n",
       "        if (!display || display === 'none') {{\n",
       "            console.log([gd, 'removed!']);\n",
       "            Plotly.purge(gd);\n",
       "            observer.disconnect();\n",
       "        }}\n",
       "}});\n",
       "\n",
       "// Listen for the removal of the full notebook cells\n",
       "var notebookContainer = gd.closest('#notebook-container');\n",
       "if (notebookContainer) {{\n",
       "    x.observe(notebookContainer, {childList: true});\n",
       "}}\n",
       "\n",
       "// Listen for the clearing of the current output cell\n",
       "var outputEl = gd.closest('.output');\n",
       "if (outputEl) {{\n",
       "    x.observe(outputEl, {childList: true});\n",
       "}}\n",
       "\n",
       "                        })                };                });            </script>        </div>"
      ]
     },
     "metadata": {},
     "output_type": "display_data"
    }
   ],
   "source": [
    "# which algorithm is faster?\n",
    "fig = px.box(df, x='algorithm', y='time', title=\"Which algorithm is faster?\")\n",
    "# you can use a template for the layout if you have personnal preferences you use all the time\n",
    "fig.update_layout(\n",
    "    font = dict(\n",
    "        size = 20\n",
    "    )\n",
    ")\n",
    "fig.show() # requires nbconvert package"
   ]
  },
  {
   "cell_type": "code",
   "execution_count": 27,
   "id": "4ea59e3c",
   "metadata": {},
   "outputs": [
    {
     "data": {
      "application/vnd.plotly.v1+json": {
       "config": {
        "plotlyServerURL": "https://plot.ly"
       },
       "data": [
        {
         "alignmentgroup": "True",
         "boxpoints": "all",
         "hovertemplate": "algorithm=%{x}<br>rank_est=4<br>final_rec_error=%{y}<extra></extra>",
         "legendgroup": "default",
         "marker": {
          "color": "#636efa"
         },
         "name": "default",
         "notched": false,
         "offsetgroup": "default",
         "orientation": "v",
         "showlegend": true,
         "type": "box",
         "x": [
          "default",
          "default",
          "default",
          "default",
          "default",
          "default",
          "default",
          "default",
          "default",
          "default"
         ],
         "x0": " ",
         "xaxis": "x",
         "y": [
          0.05785404846446754,
          0.05783601140019389,
          0.057884721725440146,
          0.057834432539435855,
          0.0578364926568708,
          0.05783612000552729,
          0.05783797039390483,
          0.05789099755894571,
          0.057835288341320824,
          0.05783474350222829
         ],
         "y0": " ",
         "yaxis": "y"
        },
        {
         "alignmentgroup": "True",
         "boxpoints": "all",
         "hovertemplate": "algorithm=%{x}<br>rank_est=5<br>final_rec_error=%{y}<extra></extra>",
         "legendgroup": "default",
         "marker": {
          "color": "#636efa"
         },
         "name": "default",
         "notched": false,
         "offsetgroup": "default",
         "orientation": "v",
         "showlegend": false,
         "type": "box",
         "x": [
          "default",
          "default",
          "default",
          "default",
          "default",
          "default",
          "default",
          "default",
          "default",
          "default"
         ],
         "x0": " ",
         "xaxis": "x2",
         "y": [
          0.0012652356937934463,
          0.001361377321070042,
          0.000881954852822292,
          0.0014082234908795886,
          0.005195433956266564,
          0.0007561942833166471,
          0.002619013049825302,
          0.0013541267347375937,
          0.001756699250800343,
          0.000443410674781566
         ],
         "y0": " ",
         "yaxis": "y2"
        },
        {
         "alignmentgroup": "True",
         "boxpoints": "all",
         "hovertemplate": "algorithm=%{x}<br>rank_est=6<br>final_rec_error=%{y}<extra></extra>",
         "legendgroup": "default",
         "marker": {
          "color": "#636efa"
         },
         "name": "default",
         "notched": false,
         "offsetgroup": "default",
         "orientation": "v",
         "showlegend": false,
         "type": "box",
         "x": [
          "default",
          "default",
          "default",
          "default",
          "default",
          "default",
          "default",
          "default",
          "default",
          "default"
         ],
         "x0": " ",
         "xaxis": "x3",
         "y": [
          0.0028825960911548383,
          0.0017349589961733556,
          0.0065139403788332904,
          0.0002070605034467106,
          0.0009654645626410604,
          0.0009788015566365707,
          0.012375715679951788,
          0.010644878150760704,
          0.002020666022769563,
          0.0010232471071391835
         ],
         "y0": " ",
         "yaxis": "y3"
        },
        {
         "alignmentgroup": "True",
         "boxpoints": "all",
         "hovertemplate": "algorithm=%{x}<br>rank_est=4<br>final_rec_error=%{y}<extra></extra>",
         "legendgroup": "hals",
         "marker": {
          "color": "#EF553B"
         },
         "name": "hals",
         "notched": false,
         "offsetgroup": "hals",
         "orientation": "v",
         "showlegend": true,
         "type": "box",
         "x": [
          "hals",
          "hals",
          "hals",
          "hals",
          "hals",
          "hals",
          "hals",
          "hals",
          "hals",
          "hals"
         ],
         "x0": " ",
         "xaxis": "x",
         "y": [
          0.057845840327500606,
          0.05784677380288308,
          0.05784771046022989,
          0.05793371854995371,
          0.0578459115904708,
          0.05784570483930169,
          0.057845614907849,
          0.05784553701040576,
          0.05784547470457591,
          0.05784701765551654
         ],
         "y0": " ",
         "yaxis": "y"
        },
        {
         "alignmentgroup": "True",
         "boxpoints": "all",
         "hovertemplate": "algorithm=%{x}<br>rank_est=5<br>final_rec_error=%{y}<extra></extra>",
         "legendgroup": "hals",
         "marker": {
          "color": "#EF553B"
         },
         "name": "hals",
         "notched": false,
         "offsetgroup": "hals",
         "orientation": "v",
         "showlegend": false,
         "type": "box",
         "x": [
          "hals",
          "hals",
          "hals",
          "hals",
          "hals",
          "hals",
          "hals",
          "hals",
          "hals",
          "hals"
         ],
         "x0": " ",
         "xaxis": "x2",
         "y": [
          0.00040616671346608603,
          0.0004951112988338067,
          0.00044898264881835885,
          0.0007523669326312321,
          0.0005837008767284662,
          0.0005884421872920217,
          0.0005444813383681682,
          0.0005426717403538878,
          0.0006832702426949009,
          0.00035739564749403895
         ],
         "y0": " ",
         "yaxis": "y2"
        },
        {
         "alignmentgroup": "True",
         "boxpoints": "all",
         "hovertemplate": "algorithm=%{x}<br>rank_est=6<br>final_rec_error=%{y}<extra></extra>",
         "legendgroup": "hals",
         "marker": {
          "color": "#EF553B"
         },
         "name": "hals",
         "notched": false,
         "offsetgroup": "hals",
         "orientation": "v",
         "showlegend": false,
         "type": "box",
         "x": [
          "hals",
          "hals",
          "hals",
          "hals",
          "hals",
          "hals",
          "hals",
          "hals",
          "hals",
          "hals"
         ],
         "x0": " ",
         "xaxis": "x3",
         "y": [
          0.0016249890479646425,
          0.001456600928314479,
          0.0010100226607167291,
          0.0008386610504330627,
          0.0004818431789194077,
          0.000525607021775502,
          0.0006691172658987264,
          0.00045445604234884226,
          0.0015379358796161256,
          0.0002106550799057649
         ],
         "y0": " ",
         "yaxis": "y3"
        }
       ],
       "layout": {
        "annotations": [
         {
          "font": {},
          "showarrow": false,
          "text": "rank_est=4",
          "x": 0.15999999999999998,
          "xanchor": "center",
          "xref": "paper",
          "y": 1,
          "yanchor": "bottom",
          "yref": "paper"
         },
         {
          "font": {},
          "showarrow": false,
          "text": "rank_est=5",
          "x": 0.49999999999999994,
          "xanchor": "center",
          "xref": "paper",
          "y": 1,
          "yanchor": "bottom",
          "yref": "paper"
         },
         {
          "font": {},
          "showarrow": false,
          "text": "rank_est=6",
          "x": 0.8399999999999999,
          "xanchor": "center",
          "xref": "paper",
          "y": 1,
          "yanchor": "bottom",
          "yref": "paper"
         }
        ],
        "boxmode": "overlay",
        "font": {
         "size": 20
        },
        "legend": {
         "title": {
          "text": "algorithm"
         },
         "tracegroupgap": 0
        },
        "template": {
         "data": {
          "bar": [
           {
            "error_x": {
             "color": "#2a3f5f"
            },
            "error_y": {
             "color": "#2a3f5f"
            },
            "marker": {
             "line": {
              "color": "white",
              "width": 0.5
             },
             "pattern": {
              "fillmode": "overlay",
              "size": 10,
              "solidity": 0.2
             }
            },
            "type": "bar"
           }
          ],
          "barpolar": [
           {
            "marker": {
             "line": {
              "color": "white",
              "width": 0.5
             },
             "pattern": {
              "fillmode": "overlay",
              "size": 10,
              "solidity": 0.2
             }
            },
            "type": "barpolar"
           }
          ],
          "carpet": [
           {
            "aaxis": {
             "endlinecolor": "#2a3f5f",
             "gridcolor": "#C8D4E3",
             "linecolor": "#C8D4E3",
             "minorgridcolor": "#C8D4E3",
             "startlinecolor": "#2a3f5f"
            },
            "baxis": {
             "endlinecolor": "#2a3f5f",
             "gridcolor": "#C8D4E3",
             "linecolor": "#C8D4E3",
             "minorgridcolor": "#C8D4E3",
             "startlinecolor": "#2a3f5f"
            },
            "type": "carpet"
           }
          ],
          "choropleth": [
           {
            "colorbar": {
             "outlinewidth": 0,
             "ticks": ""
            },
            "type": "choropleth"
           }
          ],
          "contour": [
           {
            "colorbar": {
             "outlinewidth": 0,
             "ticks": ""
            },
            "colorscale": [
             [
              0,
              "#0d0887"
             ],
             [
              0.1111111111111111,
              "#46039f"
             ],
             [
              0.2222222222222222,
              "#7201a8"
             ],
             [
              0.3333333333333333,
              "#9c179e"
             ],
             [
              0.4444444444444444,
              "#bd3786"
             ],
             [
              0.5555555555555556,
              "#d8576b"
             ],
             [
              0.6666666666666666,
              "#ed7953"
             ],
             [
              0.7777777777777778,
              "#fb9f3a"
             ],
             [
              0.8888888888888888,
              "#fdca26"
             ],
             [
              1,
              "#f0f921"
             ]
            ],
            "type": "contour"
           }
          ],
          "contourcarpet": [
           {
            "colorbar": {
             "outlinewidth": 0,
             "ticks": ""
            },
            "type": "contourcarpet"
           }
          ],
          "heatmap": [
           {
            "colorbar": {
             "outlinewidth": 0,
             "ticks": ""
            },
            "colorscale": [
             [
              0,
              "#0d0887"
             ],
             [
              0.1111111111111111,
              "#46039f"
             ],
             [
              0.2222222222222222,
              "#7201a8"
             ],
             [
              0.3333333333333333,
              "#9c179e"
             ],
             [
              0.4444444444444444,
              "#bd3786"
             ],
             [
              0.5555555555555556,
              "#d8576b"
             ],
             [
              0.6666666666666666,
              "#ed7953"
             ],
             [
              0.7777777777777778,
              "#fb9f3a"
             ],
             [
              0.8888888888888888,
              "#fdca26"
             ],
             [
              1,
              "#f0f921"
             ]
            ],
            "type": "heatmap"
           }
          ],
          "heatmapgl": [
           {
            "colorbar": {
             "outlinewidth": 0,
             "ticks": ""
            },
            "colorscale": [
             [
              0,
              "#0d0887"
             ],
             [
              0.1111111111111111,
              "#46039f"
             ],
             [
              0.2222222222222222,
              "#7201a8"
             ],
             [
              0.3333333333333333,
              "#9c179e"
             ],
             [
              0.4444444444444444,
              "#bd3786"
             ],
             [
              0.5555555555555556,
              "#d8576b"
             ],
             [
              0.6666666666666666,
              "#ed7953"
             ],
             [
              0.7777777777777778,
              "#fb9f3a"
             ],
             [
              0.8888888888888888,
              "#fdca26"
             ],
             [
              1,
              "#f0f921"
             ]
            ],
            "type": "heatmapgl"
           }
          ],
          "histogram": [
           {
            "marker": {
             "pattern": {
              "fillmode": "overlay",
              "size": 10,
              "solidity": 0.2
             }
            },
            "type": "histogram"
           }
          ],
          "histogram2d": [
           {
            "colorbar": {
             "outlinewidth": 0,
             "ticks": ""
            },
            "colorscale": [
             [
              0,
              "#0d0887"
             ],
             [
              0.1111111111111111,
              "#46039f"
             ],
             [
              0.2222222222222222,
              "#7201a8"
             ],
             [
              0.3333333333333333,
              "#9c179e"
             ],
             [
              0.4444444444444444,
              "#bd3786"
             ],
             [
              0.5555555555555556,
              "#d8576b"
             ],
             [
              0.6666666666666666,
              "#ed7953"
             ],
             [
              0.7777777777777778,
              "#fb9f3a"
             ],
             [
              0.8888888888888888,
              "#fdca26"
             ],
             [
              1,
              "#f0f921"
             ]
            ],
            "type": "histogram2d"
           }
          ],
          "histogram2dcontour": [
           {
            "colorbar": {
             "outlinewidth": 0,
             "ticks": ""
            },
            "colorscale": [
             [
              0,
              "#0d0887"
             ],
             [
              0.1111111111111111,
              "#46039f"
             ],
             [
              0.2222222222222222,
              "#7201a8"
             ],
             [
              0.3333333333333333,
              "#9c179e"
             ],
             [
              0.4444444444444444,
              "#bd3786"
             ],
             [
              0.5555555555555556,
              "#d8576b"
             ],
             [
              0.6666666666666666,
              "#ed7953"
             ],
             [
              0.7777777777777778,
              "#fb9f3a"
             ],
             [
              0.8888888888888888,
              "#fdca26"
             ],
             [
              1,
              "#f0f921"
             ]
            ],
            "type": "histogram2dcontour"
           }
          ],
          "mesh3d": [
           {
            "colorbar": {
             "outlinewidth": 0,
             "ticks": ""
            },
            "type": "mesh3d"
           }
          ],
          "parcoords": [
           {
            "line": {
             "colorbar": {
              "outlinewidth": 0,
              "ticks": ""
             }
            },
            "type": "parcoords"
           }
          ],
          "pie": [
           {
            "automargin": true,
            "type": "pie"
           }
          ],
          "scatter": [
           {
            "marker": {
             "colorbar": {
              "outlinewidth": 0,
              "ticks": ""
             }
            },
            "type": "scatter"
           }
          ],
          "scatter3d": [
           {
            "line": {
             "colorbar": {
              "outlinewidth": 0,
              "ticks": ""
             }
            },
            "marker": {
             "colorbar": {
              "outlinewidth": 0,
              "ticks": ""
             }
            },
            "type": "scatter3d"
           }
          ],
          "scattercarpet": [
           {
            "marker": {
             "colorbar": {
              "outlinewidth": 0,
              "ticks": ""
             }
            },
            "type": "scattercarpet"
           }
          ],
          "scattergeo": [
           {
            "marker": {
             "colorbar": {
              "outlinewidth": 0,
              "ticks": ""
             }
            },
            "type": "scattergeo"
           }
          ],
          "scattergl": [
           {
            "marker": {
             "colorbar": {
              "outlinewidth": 0,
              "ticks": ""
             }
            },
            "type": "scattergl"
           }
          ],
          "scattermapbox": [
           {
            "marker": {
             "colorbar": {
              "outlinewidth": 0,
              "ticks": ""
             }
            },
            "type": "scattermapbox"
           }
          ],
          "scatterpolar": [
           {
            "marker": {
             "colorbar": {
              "outlinewidth": 0,
              "ticks": ""
             }
            },
            "type": "scatterpolar"
           }
          ],
          "scatterpolargl": [
           {
            "marker": {
             "colorbar": {
              "outlinewidth": 0,
              "ticks": ""
             }
            },
            "type": "scatterpolargl"
           }
          ],
          "scatterternary": [
           {
            "marker": {
             "colorbar": {
              "outlinewidth": 0,
              "ticks": ""
             }
            },
            "type": "scatterternary"
           }
          ],
          "surface": [
           {
            "colorbar": {
             "outlinewidth": 0,
             "ticks": ""
            },
            "colorscale": [
             [
              0,
              "#0d0887"
             ],
             [
              0.1111111111111111,
              "#46039f"
             ],
             [
              0.2222222222222222,
              "#7201a8"
             ],
             [
              0.3333333333333333,
              "#9c179e"
             ],
             [
              0.4444444444444444,
              "#bd3786"
             ],
             [
              0.5555555555555556,
              "#d8576b"
             ],
             [
              0.6666666666666666,
              "#ed7953"
             ],
             [
              0.7777777777777778,
              "#fb9f3a"
             ],
             [
              0.8888888888888888,
              "#fdca26"
             ],
             [
              1,
              "#f0f921"
             ]
            ],
            "type": "surface"
           }
          ],
          "table": [
           {
            "cells": {
             "fill": {
              "color": "#EBF0F8"
             },
             "line": {
              "color": "white"
             }
            },
            "header": {
             "fill": {
              "color": "#C8D4E3"
             },
             "line": {
              "color": "white"
             }
            },
            "type": "table"
           }
          ]
         },
         "layout": {
          "annotationdefaults": {
           "arrowcolor": "#2a3f5f",
           "arrowhead": 0,
           "arrowwidth": 1
          },
          "autotypenumbers": "strict",
          "coloraxis": {
           "colorbar": {
            "outlinewidth": 0,
            "ticks": ""
           }
          },
          "colorscale": {
           "diverging": [
            [
             0,
             "#8e0152"
            ],
            [
             0.1,
             "#c51b7d"
            ],
            [
             0.2,
             "#de77ae"
            ],
            [
             0.3,
             "#f1b6da"
            ],
            [
             0.4,
             "#fde0ef"
            ],
            [
             0.5,
             "#f7f7f7"
            ],
            [
             0.6,
             "#e6f5d0"
            ],
            [
             0.7,
             "#b8e186"
            ],
            [
             0.8,
             "#7fbc41"
            ],
            [
             0.9,
             "#4d9221"
            ],
            [
             1,
             "#276419"
            ]
           ],
           "sequential": [
            [
             0,
             "#0d0887"
            ],
            [
             0.1111111111111111,
             "#46039f"
            ],
            [
             0.2222222222222222,
             "#7201a8"
            ],
            [
             0.3333333333333333,
             "#9c179e"
            ],
            [
             0.4444444444444444,
             "#bd3786"
            ],
            [
             0.5555555555555556,
             "#d8576b"
            ],
            [
             0.6666666666666666,
             "#ed7953"
            ],
            [
             0.7777777777777778,
             "#fb9f3a"
            ],
            [
             0.8888888888888888,
             "#fdca26"
            ],
            [
             1,
             "#f0f921"
            ]
           ],
           "sequentialminus": [
            [
             0,
             "#0d0887"
            ],
            [
             0.1111111111111111,
             "#46039f"
            ],
            [
             0.2222222222222222,
             "#7201a8"
            ],
            [
             0.3333333333333333,
             "#9c179e"
            ],
            [
             0.4444444444444444,
             "#bd3786"
            ],
            [
             0.5555555555555556,
             "#d8576b"
            ],
            [
             0.6666666666666666,
             "#ed7953"
            ],
            [
             0.7777777777777778,
             "#fb9f3a"
            ],
            [
             0.8888888888888888,
             "#fdca26"
            ],
            [
             1,
             "#f0f921"
            ]
           ]
          },
          "colorway": [
           "#636efa",
           "#EF553B",
           "#00cc96",
           "#ab63fa",
           "#FFA15A",
           "#19d3f3",
           "#FF6692",
           "#B6E880",
           "#FF97FF",
           "#FECB52"
          ],
          "font": {
           "color": "#2a3f5f"
          },
          "geo": {
           "bgcolor": "white",
           "lakecolor": "white",
           "landcolor": "white",
           "showlakes": true,
           "showland": true,
           "subunitcolor": "#C8D4E3"
          },
          "hoverlabel": {
           "align": "left"
          },
          "hovermode": "closest",
          "mapbox": {
           "style": "light"
          },
          "paper_bgcolor": "white",
          "plot_bgcolor": "white",
          "polar": {
           "angularaxis": {
            "gridcolor": "#EBF0F8",
            "linecolor": "#EBF0F8",
            "ticks": ""
           },
           "bgcolor": "white",
           "radialaxis": {
            "gridcolor": "#EBF0F8",
            "linecolor": "#EBF0F8",
            "ticks": ""
           }
          },
          "scene": {
           "xaxis": {
            "backgroundcolor": "white",
            "gridcolor": "#DFE8F3",
            "gridwidth": 2,
            "linecolor": "#EBF0F8",
            "showbackground": true,
            "ticks": "",
            "zerolinecolor": "#EBF0F8"
           },
           "yaxis": {
            "backgroundcolor": "white",
            "gridcolor": "#DFE8F3",
            "gridwidth": 2,
            "linecolor": "#EBF0F8",
            "showbackground": true,
            "ticks": "",
            "zerolinecolor": "#EBF0F8"
           },
           "zaxis": {
            "backgroundcolor": "white",
            "gridcolor": "#DFE8F3",
            "gridwidth": 2,
            "linecolor": "#EBF0F8",
            "showbackground": true,
            "ticks": "",
            "zerolinecolor": "#EBF0F8"
           }
          },
          "shapedefaults": {
           "line": {
            "color": "#2a3f5f"
           }
          },
          "ternary": {
           "aaxis": {
            "gridcolor": "#DFE8F3",
            "linecolor": "#A2B1C6",
            "ticks": ""
           },
           "baxis": {
            "gridcolor": "#DFE8F3",
            "linecolor": "#A2B1C6",
            "ticks": ""
           },
           "bgcolor": "white",
           "caxis": {
            "gridcolor": "#DFE8F3",
            "linecolor": "#A2B1C6",
            "ticks": ""
           }
          },
          "title": {
           "x": 0.05
          },
          "xaxis": {
           "automargin": true,
           "gridcolor": "#EBF0F8",
           "linecolor": "#EBF0F8",
           "ticks": "",
           "title": {
            "standoff": 15
           },
           "zerolinecolor": "#EBF0F8",
           "zerolinewidth": 2
          },
          "yaxis": {
           "automargin": true,
           "gridcolor": "#EBF0F8",
           "linecolor": "#EBF0F8",
           "ticks": "",
           "title": {
            "standoff": 15
           },
           "zerolinecolor": "#EBF0F8",
           "zerolinewidth": 2
          }
         }
        },
        "title": {
         "text": "Which algorithm is more accurate? Does rank have an impact?"
        },
        "xaxis": {
         "anchor": "y",
         "categoryarray": [
          "default",
          "hals"
         ],
         "categoryorder": "array",
         "domain": [
          0,
          0.31999999999999995
         ],
         "title": {
          "text": "algorithm"
         }
        },
        "xaxis2": {
         "anchor": "y2",
         "categoryarray": [
          "default",
          "hals"
         ],
         "categoryorder": "array",
         "domain": [
          0.33999999999999997,
          0.6599999999999999
         ],
         "matches": "x",
         "title": {
          "text": "algorithm"
         }
        },
        "xaxis3": {
         "anchor": "y3",
         "categoryarray": [
          "default",
          "hals"
         ],
         "categoryorder": "array",
         "domain": [
          0.6799999999999999,
          0.9999999999999999
         ],
         "matches": "x",
         "title": {
          "text": "algorithm"
         }
        },
        "yaxis": {
         "anchor": "x",
         "domain": [
          0,
          1
         ],
         "title": {
          "text": "final_rec_error"
         },
         "type": "log"
        },
        "yaxis2": {
         "anchor": "x2",
         "domain": [
          0,
          1
         ],
         "matches": "y",
         "showticklabels": false,
         "type": "log"
        },
        "yaxis3": {
         "anchor": "x3",
         "domain": [
          0,
          1
         ],
         "matches": "y",
         "showticklabels": false,
         "type": "log"
        }
       }
      },
      "text/html": [
       "<div>                            <div id=\"3e5f9346-b2c0-4aee-9c1f-838d8a5a6262\" class=\"plotly-graph-div\" style=\"height:525px; width:100%;\"></div>            <script type=\"text/javascript\">                require([\"plotly\"], function(Plotly) {                    window.PLOTLYENV=window.PLOTLYENV || {};                                    if (document.getElementById(\"3e5f9346-b2c0-4aee-9c1f-838d8a5a6262\")) {                    Plotly.newPlot(                        \"3e5f9346-b2c0-4aee-9c1f-838d8a5a6262\",                        [{\"alignmentgroup\":\"True\",\"boxpoints\":\"all\",\"hovertemplate\":\"algorithm=%{x}<br>rank_est=4<br>final_rec_error=%{y}<extra></extra>\",\"legendgroup\":\"default\",\"marker\":{\"color\":\"#636efa\"},\"name\":\"default\",\"notched\":false,\"offsetgroup\":\"default\",\"orientation\":\"v\",\"showlegend\":true,\"x\":[\"default\",\"default\",\"default\",\"default\",\"default\",\"default\",\"default\",\"default\",\"default\",\"default\"],\"x0\":\" \",\"xaxis\":\"x\",\"y\":[0.05785404846446754,0.05783601140019389,0.057884721725440146,0.057834432539435855,0.0578364926568708,0.05783612000552729,0.05783797039390483,0.05789099755894571,0.057835288341320824,0.05783474350222829],\"y0\":\" \",\"yaxis\":\"y\",\"type\":\"box\"},{\"alignmentgroup\":\"True\",\"boxpoints\":\"all\",\"hovertemplate\":\"algorithm=%{x}<br>rank_est=5<br>final_rec_error=%{y}<extra></extra>\",\"legendgroup\":\"default\",\"marker\":{\"color\":\"#636efa\"},\"name\":\"default\",\"notched\":false,\"offsetgroup\":\"default\",\"orientation\":\"v\",\"showlegend\":false,\"x\":[\"default\",\"default\",\"default\",\"default\",\"default\",\"default\",\"default\",\"default\",\"default\",\"default\"],\"x0\":\" \",\"xaxis\":\"x2\",\"y\":[0.0012652356937934463,0.001361377321070042,0.000881954852822292,0.0014082234908795886,0.005195433956266564,0.0007561942833166471,0.002619013049825302,0.0013541267347375937,0.001756699250800343,0.000443410674781566],\"y0\":\" \",\"yaxis\":\"y2\",\"type\":\"box\"},{\"alignmentgroup\":\"True\",\"boxpoints\":\"all\",\"hovertemplate\":\"algorithm=%{x}<br>rank_est=6<br>final_rec_error=%{y}<extra></extra>\",\"legendgroup\":\"default\",\"marker\":{\"color\":\"#636efa\"},\"name\":\"default\",\"notched\":false,\"offsetgroup\":\"default\",\"orientation\":\"v\",\"showlegend\":false,\"x\":[\"default\",\"default\",\"default\",\"default\",\"default\",\"default\",\"default\",\"default\",\"default\",\"default\"],\"x0\":\" \",\"xaxis\":\"x3\",\"y\":[0.0028825960911548383,0.0017349589961733556,0.0065139403788332904,0.0002070605034467106,0.0009654645626410604,0.0009788015566365707,0.012375715679951788,0.010644878150760704,0.002020666022769563,0.0010232471071391835],\"y0\":\" \",\"yaxis\":\"y3\",\"type\":\"box\"},{\"alignmentgroup\":\"True\",\"boxpoints\":\"all\",\"hovertemplate\":\"algorithm=%{x}<br>rank_est=4<br>final_rec_error=%{y}<extra></extra>\",\"legendgroup\":\"hals\",\"marker\":{\"color\":\"#EF553B\"},\"name\":\"hals\",\"notched\":false,\"offsetgroup\":\"hals\",\"orientation\":\"v\",\"showlegend\":true,\"x\":[\"hals\",\"hals\",\"hals\",\"hals\",\"hals\",\"hals\",\"hals\",\"hals\",\"hals\",\"hals\"],\"x0\":\" \",\"xaxis\":\"x\",\"y\":[0.057845840327500606,0.05784677380288308,0.05784771046022989,0.05793371854995371,0.0578459115904708,0.05784570483930169,0.057845614907849,0.05784553701040576,0.05784547470457591,0.05784701765551654],\"y0\":\" \",\"yaxis\":\"y\",\"type\":\"box\"},{\"alignmentgroup\":\"True\",\"boxpoints\":\"all\",\"hovertemplate\":\"algorithm=%{x}<br>rank_est=5<br>final_rec_error=%{y}<extra></extra>\",\"legendgroup\":\"hals\",\"marker\":{\"color\":\"#EF553B\"},\"name\":\"hals\",\"notched\":false,\"offsetgroup\":\"hals\",\"orientation\":\"v\",\"showlegend\":false,\"x\":[\"hals\",\"hals\",\"hals\",\"hals\",\"hals\",\"hals\",\"hals\",\"hals\",\"hals\",\"hals\"],\"x0\":\" \",\"xaxis\":\"x2\",\"y\":[0.00040616671346608603,0.0004951112988338067,0.00044898264881835885,0.0007523669326312321,0.0005837008767284662,0.0005884421872920217,0.0005444813383681682,0.0005426717403538878,0.0006832702426949009,0.00035739564749403895],\"y0\":\" \",\"yaxis\":\"y2\",\"type\":\"box\"},{\"alignmentgroup\":\"True\",\"boxpoints\":\"all\",\"hovertemplate\":\"algorithm=%{x}<br>rank_est=6<br>final_rec_error=%{y}<extra></extra>\",\"legendgroup\":\"hals\",\"marker\":{\"color\":\"#EF553B\"},\"name\":\"hals\",\"notched\":false,\"offsetgroup\":\"hals\",\"orientation\":\"v\",\"showlegend\":false,\"x\":[\"hals\",\"hals\",\"hals\",\"hals\",\"hals\",\"hals\",\"hals\",\"hals\",\"hals\",\"hals\"],\"x0\":\" \",\"xaxis\":\"x3\",\"y\":[0.0016249890479646425,0.001456600928314479,0.0010100226607167291,0.0008386610504330627,0.0004818431789194077,0.000525607021775502,0.0006691172658987264,0.00045445604234884226,0.0015379358796161256,0.0002106550799057649],\"y0\":\" \",\"yaxis\":\"y3\",\"type\":\"box\"}],                        {\"template\":{\"data\":{\"barpolar\":[{\"marker\":{\"line\":{\"color\":\"white\",\"width\":0.5},\"pattern\":{\"fillmode\":\"overlay\",\"size\":10,\"solidity\":0.2}},\"type\":\"barpolar\"}],\"bar\":[{\"error_x\":{\"color\":\"#2a3f5f\"},\"error_y\":{\"color\":\"#2a3f5f\"},\"marker\":{\"line\":{\"color\":\"white\",\"width\":0.5},\"pattern\":{\"fillmode\":\"overlay\",\"size\":10,\"solidity\":0.2}},\"type\":\"bar\"}],\"carpet\":[{\"aaxis\":{\"endlinecolor\":\"#2a3f5f\",\"gridcolor\":\"#C8D4E3\",\"linecolor\":\"#C8D4E3\",\"minorgridcolor\":\"#C8D4E3\",\"startlinecolor\":\"#2a3f5f\"},\"baxis\":{\"endlinecolor\":\"#2a3f5f\",\"gridcolor\":\"#C8D4E3\",\"linecolor\":\"#C8D4E3\",\"minorgridcolor\":\"#C8D4E3\",\"startlinecolor\":\"#2a3f5f\"},\"type\":\"carpet\"}],\"choropleth\":[{\"colorbar\":{\"outlinewidth\":0,\"ticks\":\"\"},\"type\":\"choropleth\"}],\"contourcarpet\":[{\"colorbar\":{\"outlinewidth\":0,\"ticks\":\"\"},\"type\":\"contourcarpet\"}],\"contour\":[{\"colorbar\":{\"outlinewidth\":0,\"ticks\":\"\"},\"colorscale\":[[0.0,\"#0d0887\"],[0.1111111111111111,\"#46039f\"],[0.2222222222222222,\"#7201a8\"],[0.3333333333333333,\"#9c179e\"],[0.4444444444444444,\"#bd3786\"],[0.5555555555555556,\"#d8576b\"],[0.6666666666666666,\"#ed7953\"],[0.7777777777777778,\"#fb9f3a\"],[0.8888888888888888,\"#fdca26\"],[1.0,\"#f0f921\"]],\"type\":\"contour\"}],\"heatmapgl\":[{\"colorbar\":{\"outlinewidth\":0,\"ticks\":\"\"},\"colorscale\":[[0.0,\"#0d0887\"],[0.1111111111111111,\"#46039f\"],[0.2222222222222222,\"#7201a8\"],[0.3333333333333333,\"#9c179e\"],[0.4444444444444444,\"#bd3786\"],[0.5555555555555556,\"#d8576b\"],[0.6666666666666666,\"#ed7953\"],[0.7777777777777778,\"#fb9f3a\"],[0.8888888888888888,\"#fdca26\"],[1.0,\"#f0f921\"]],\"type\":\"heatmapgl\"}],\"heatmap\":[{\"colorbar\":{\"outlinewidth\":0,\"ticks\":\"\"},\"colorscale\":[[0.0,\"#0d0887\"],[0.1111111111111111,\"#46039f\"],[0.2222222222222222,\"#7201a8\"],[0.3333333333333333,\"#9c179e\"],[0.4444444444444444,\"#bd3786\"],[0.5555555555555556,\"#d8576b\"],[0.6666666666666666,\"#ed7953\"],[0.7777777777777778,\"#fb9f3a\"],[0.8888888888888888,\"#fdca26\"],[1.0,\"#f0f921\"]],\"type\":\"heatmap\"}],\"histogram2dcontour\":[{\"colorbar\":{\"outlinewidth\":0,\"ticks\":\"\"},\"colorscale\":[[0.0,\"#0d0887\"],[0.1111111111111111,\"#46039f\"],[0.2222222222222222,\"#7201a8\"],[0.3333333333333333,\"#9c179e\"],[0.4444444444444444,\"#bd3786\"],[0.5555555555555556,\"#d8576b\"],[0.6666666666666666,\"#ed7953\"],[0.7777777777777778,\"#fb9f3a\"],[0.8888888888888888,\"#fdca26\"],[1.0,\"#f0f921\"]],\"type\":\"histogram2dcontour\"}],\"histogram2d\":[{\"colorbar\":{\"outlinewidth\":0,\"ticks\":\"\"},\"colorscale\":[[0.0,\"#0d0887\"],[0.1111111111111111,\"#46039f\"],[0.2222222222222222,\"#7201a8\"],[0.3333333333333333,\"#9c179e\"],[0.4444444444444444,\"#bd3786\"],[0.5555555555555556,\"#d8576b\"],[0.6666666666666666,\"#ed7953\"],[0.7777777777777778,\"#fb9f3a\"],[0.8888888888888888,\"#fdca26\"],[1.0,\"#f0f921\"]],\"type\":\"histogram2d\"}],\"histogram\":[{\"marker\":{\"pattern\":{\"fillmode\":\"overlay\",\"size\":10,\"solidity\":0.2}},\"type\":\"histogram\"}],\"mesh3d\":[{\"colorbar\":{\"outlinewidth\":0,\"ticks\":\"\"},\"type\":\"mesh3d\"}],\"parcoords\":[{\"line\":{\"colorbar\":{\"outlinewidth\":0,\"ticks\":\"\"}},\"type\":\"parcoords\"}],\"pie\":[{\"automargin\":true,\"type\":\"pie\"}],\"scatter3d\":[{\"line\":{\"colorbar\":{\"outlinewidth\":0,\"ticks\":\"\"}},\"marker\":{\"colorbar\":{\"outlinewidth\":0,\"ticks\":\"\"}},\"type\":\"scatter3d\"}],\"scattercarpet\":[{\"marker\":{\"colorbar\":{\"outlinewidth\":0,\"ticks\":\"\"}},\"type\":\"scattercarpet\"}],\"scattergeo\":[{\"marker\":{\"colorbar\":{\"outlinewidth\":0,\"ticks\":\"\"}},\"type\":\"scattergeo\"}],\"scattergl\":[{\"marker\":{\"colorbar\":{\"outlinewidth\":0,\"ticks\":\"\"}},\"type\":\"scattergl\"}],\"scattermapbox\":[{\"marker\":{\"colorbar\":{\"outlinewidth\":0,\"ticks\":\"\"}},\"type\":\"scattermapbox\"}],\"scatterpolargl\":[{\"marker\":{\"colorbar\":{\"outlinewidth\":0,\"ticks\":\"\"}},\"type\":\"scatterpolargl\"}],\"scatterpolar\":[{\"marker\":{\"colorbar\":{\"outlinewidth\":0,\"ticks\":\"\"}},\"type\":\"scatterpolar\"}],\"scatter\":[{\"marker\":{\"colorbar\":{\"outlinewidth\":0,\"ticks\":\"\"}},\"type\":\"scatter\"}],\"scatterternary\":[{\"marker\":{\"colorbar\":{\"outlinewidth\":0,\"ticks\":\"\"}},\"type\":\"scatterternary\"}],\"surface\":[{\"colorbar\":{\"outlinewidth\":0,\"ticks\":\"\"},\"colorscale\":[[0.0,\"#0d0887\"],[0.1111111111111111,\"#46039f\"],[0.2222222222222222,\"#7201a8\"],[0.3333333333333333,\"#9c179e\"],[0.4444444444444444,\"#bd3786\"],[0.5555555555555556,\"#d8576b\"],[0.6666666666666666,\"#ed7953\"],[0.7777777777777778,\"#fb9f3a\"],[0.8888888888888888,\"#fdca26\"],[1.0,\"#f0f921\"]],\"type\":\"surface\"}],\"table\":[{\"cells\":{\"fill\":{\"color\":\"#EBF0F8\"},\"line\":{\"color\":\"white\"}},\"header\":{\"fill\":{\"color\":\"#C8D4E3\"},\"line\":{\"color\":\"white\"}},\"type\":\"table\"}]},\"layout\":{\"annotationdefaults\":{\"arrowcolor\":\"#2a3f5f\",\"arrowhead\":0,\"arrowwidth\":1},\"autotypenumbers\":\"strict\",\"coloraxis\":{\"colorbar\":{\"outlinewidth\":0,\"ticks\":\"\"}},\"colorscale\":{\"diverging\":[[0,\"#8e0152\"],[0.1,\"#c51b7d\"],[0.2,\"#de77ae\"],[0.3,\"#f1b6da\"],[0.4,\"#fde0ef\"],[0.5,\"#f7f7f7\"],[0.6,\"#e6f5d0\"],[0.7,\"#b8e186\"],[0.8,\"#7fbc41\"],[0.9,\"#4d9221\"],[1,\"#276419\"]],\"sequential\":[[0.0,\"#0d0887\"],[0.1111111111111111,\"#46039f\"],[0.2222222222222222,\"#7201a8\"],[0.3333333333333333,\"#9c179e\"],[0.4444444444444444,\"#bd3786\"],[0.5555555555555556,\"#d8576b\"],[0.6666666666666666,\"#ed7953\"],[0.7777777777777778,\"#fb9f3a\"],[0.8888888888888888,\"#fdca26\"],[1.0,\"#f0f921\"]],\"sequentialminus\":[[0.0,\"#0d0887\"],[0.1111111111111111,\"#46039f\"],[0.2222222222222222,\"#7201a8\"],[0.3333333333333333,\"#9c179e\"],[0.4444444444444444,\"#bd3786\"],[0.5555555555555556,\"#d8576b\"],[0.6666666666666666,\"#ed7953\"],[0.7777777777777778,\"#fb9f3a\"],[0.8888888888888888,\"#fdca26\"],[1.0,\"#f0f921\"]]},\"colorway\":[\"#636efa\",\"#EF553B\",\"#00cc96\",\"#ab63fa\",\"#FFA15A\",\"#19d3f3\",\"#FF6692\",\"#B6E880\",\"#FF97FF\",\"#FECB52\"],\"font\":{\"color\":\"#2a3f5f\"},\"geo\":{\"bgcolor\":\"white\",\"lakecolor\":\"white\",\"landcolor\":\"white\",\"showlakes\":true,\"showland\":true,\"subunitcolor\":\"#C8D4E3\"},\"hoverlabel\":{\"align\":\"left\"},\"hovermode\":\"closest\",\"mapbox\":{\"style\":\"light\"},\"paper_bgcolor\":\"white\",\"plot_bgcolor\":\"white\",\"polar\":{\"angularaxis\":{\"gridcolor\":\"#EBF0F8\",\"linecolor\":\"#EBF0F8\",\"ticks\":\"\"},\"bgcolor\":\"white\",\"radialaxis\":{\"gridcolor\":\"#EBF0F8\",\"linecolor\":\"#EBF0F8\",\"ticks\":\"\"}},\"scene\":{\"xaxis\":{\"backgroundcolor\":\"white\",\"gridcolor\":\"#DFE8F3\",\"gridwidth\":2,\"linecolor\":\"#EBF0F8\",\"showbackground\":true,\"ticks\":\"\",\"zerolinecolor\":\"#EBF0F8\"},\"yaxis\":{\"backgroundcolor\":\"white\",\"gridcolor\":\"#DFE8F3\",\"gridwidth\":2,\"linecolor\":\"#EBF0F8\",\"showbackground\":true,\"ticks\":\"\",\"zerolinecolor\":\"#EBF0F8\"},\"zaxis\":{\"backgroundcolor\":\"white\",\"gridcolor\":\"#DFE8F3\",\"gridwidth\":2,\"linecolor\":\"#EBF0F8\",\"showbackground\":true,\"ticks\":\"\",\"zerolinecolor\":\"#EBF0F8\"}},\"shapedefaults\":{\"line\":{\"color\":\"#2a3f5f\"}},\"ternary\":{\"aaxis\":{\"gridcolor\":\"#DFE8F3\",\"linecolor\":\"#A2B1C6\",\"ticks\":\"\"},\"baxis\":{\"gridcolor\":\"#DFE8F3\",\"linecolor\":\"#A2B1C6\",\"ticks\":\"\"},\"bgcolor\":\"white\",\"caxis\":{\"gridcolor\":\"#DFE8F3\",\"linecolor\":\"#A2B1C6\",\"ticks\":\"\"}},\"title\":{\"x\":0.05},\"xaxis\":{\"automargin\":true,\"gridcolor\":\"#EBF0F8\",\"linecolor\":\"#EBF0F8\",\"ticks\":\"\",\"title\":{\"standoff\":15},\"zerolinecolor\":\"#EBF0F8\",\"zerolinewidth\":2},\"yaxis\":{\"automargin\":true,\"gridcolor\":\"#EBF0F8\",\"linecolor\":\"#EBF0F8\",\"ticks\":\"\",\"title\":{\"standoff\":15},\"zerolinecolor\":\"#EBF0F8\",\"zerolinewidth\":2}}},\"xaxis\":{\"anchor\":\"y\",\"domain\":[0.0,0.31999999999999995],\"title\":{\"text\":\"algorithm\"},\"categoryorder\":\"array\",\"categoryarray\":[\"default\",\"hals\"]},\"yaxis\":{\"anchor\":\"x\",\"domain\":[0.0,1.0],\"title\":{\"text\":\"final_rec_error\"},\"type\":\"log\"},\"xaxis2\":{\"anchor\":\"y2\",\"domain\":[0.33999999999999997,0.6599999999999999],\"matches\":\"x\",\"title\":{\"text\":\"algorithm\"},\"categoryorder\":\"array\",\"categoryarray\":[\"default\",\"hals\"]},\"yaxis2\":{\"anchor\":\"x2\",\"domain\":[0.0,1.0],\"matches\":\"y\",\"showticklabels\":false,\"type\":\"log\"},\"xaxis3\":{\"anchor\":\"y3\",\"domain\":[0.6799999999999999,0.9999999999999999],\"matches\":\"x\",\"title\":{\"text\":\"algorithm\"},\"categoryorder\":\"array\",\"categoryarray\":[\"default\",\"hals\"]},\"yaxis3\":{\"anchor\":\"x3\",\"domain\":[0.0,1.0],\"matches\":\"y\",\"showticklabels\":false,\"type\":\"log\"},\"annotations\":[{\"font\":{},\"showarrow\":false,\"text\":\"rank_est=4\",\"x\":0.15999999999999998,\"xanchor\":\"center\",\"xref\":\"paper\",\"y\":1.0,\"yanchor\":\"bottom\",\"yref\":\"paper\"},{\"font\":{},\"showarrow\":false,\"text\":\"rank_est=5\",\"x\":0.49999999999999994,\"xanchor\":\"center\",\"xref\":\"paper\",\"y\":1.0,\"yanchor\":\"bottom\",\"yref\":\"paper\"},{\"font\":{},\"showarrow\":false,\"text\":\"rank_est=6\",\"x\":0.8399999999999999,\"xanchor\":\"center\",\"xref\":\"paper\",\"y\":1.0,\"yanchor\":\"bottom\",\"yref\":\"paper\"}],\"legend\":{\"title\":{\"text\":\"algorithm\"},\"tracegroupgap\":0},\"title\":{\"text\":\"Which algorithm is more accurate? Does rank have an impact?\"},\"boxmode\":\"overlay\",\"font\":{\"size\":20}},                        {\"responsive\": true}                    ).then(function(){\n",
       "                            \n",
       "var gd = document.getElementById('3e5f9346-b2c0-4aee-9c1f-838d8a5a6262');\n",
       "var x = new MutationObserver(function (mutations, observer) {{\n",
       "        var display = window.getComputedStyle(gd).display;\n",
       "        if (!display || display === 'none') {{\n",
       "            console.log([gd, 'removed!']);\n",
       "            Plotly.purge(gd);\n",
       "            observer.disconnect();\n",
       "        }}\n",
       "}});\n",
       "\n",
       "// Listen for the removal of the full notebook cells\n",
       "var notebookContainer = gd.closest('#notebook-container');\n",
       "if (notebookContainer) {{\n",
       "    x.observe(notebookContainer, {childList: true});\n",
       "}}\n",
       "\n",
       "// Listen for the clearing of the current output cell\n",
       "var outputEl = gd.closest('.output');\n",
       "if (outputEl) {{\n",
       "    x.observe(outputEl, {childList: true});\n",
       "}}\n",
       "\n",
       "                        })                };                });            </script>        </div>"
      ]
     },
     "metadata": {},
     "output_type": "display_data"
    }
   ],
   "source": [
    "# which algorithm is more accurate? What is the impact of rank value?\n",
    "fig = px.box(df, x='algorithm', y='final_rec_error', \n",
    "            title=\"Which algorithm is more accurate? Does rank have an impact?\",\n",
    "            template=\"plotly_white\", points=\"all\", facet_col=\"rank_est\",\n",
    "            color=\"algorithm\", log_y=True)\n",
    "fig.update_layout(font = dict(size = 20))\n",
    "fig.show()"
   ]
  },
  {
   "cell_type": "code",
   "execution_count": 22,
   "id": "f867ccca",
   "metadata": {},
   "outputs": [
    {
     "data": {
      "application/vnd.plotly.v1+json": {
       "config": {
        "plotlyServerURL": "https://plot.ly"
       },
       "data": [
        {
         "hovertemplate": "algorithm=default<br>rank_est=4<br>time=%{x}<br>final_rec_error=%{y}<extra></extra>",
         "legendgroup": "default, 4",
         "marker": {
          "color": "#636efa",
          "size": 10,
          "symbol": "circle"
         },
         "mode": "markers",
         "name": "default, 4",
         "orientation": "v",
         "showlegend": true,
         "type": "scatter",
         "x": [
          0.08178377151489258,
          0.08325839042663574,
          0.04980278015136719,
          0.050612688064575195,
          0.08162736892700195,
          0.08067846298217773,
          0.08141541481018066,
          0.0852210521697998,
          0.0503385066986084,
          0.05139350891113281
         ],
         "xaxis": "x",
         "y": [
          0.05785404846446754,
          0.05783601140019389,
          0.057884721725440146,
          0.057834432539435855,
          0.0578364926568708,
          0.05783612000552729,
          0.05783797039390483,
          0.05789099755894571,
          0.057835288341320824,
          0.05783474350222829
         ],
         "yaxis": "y"
        },
        {
         "hovertemplate": "algorithm=default<br>rank_est=5<br>time=%{x}<br>final_rec_error=%{y}<extra></extra>",
         "legendgroup": "default, 5",
         "marker": {
          "color": "#636efa",
          "size": 10,
          "symbol": "diamond"
         },
         "mode": "markers",
         "name": "default, 5",
         "orientation": "v",
         "showlegend": true,
         "type": "scatter",
         "x": [
          0.09975385665893555,
          0.0609135627746582,
          0.06566119194030762,
          0.09721755981445312,
          0.09870457649230957,
          0.09844541549682617,
          0.09876275062561035,
          0.10272884368896484,
          0.06716656684875488,
          0.06340622901916504
         ],
         "xaxis": "x",
         "y": [
          0.0012652356937934463,
          0.001361377321070042,
          0.000881954852822292,
          0.0014082234908795886,
          0.005195433956266564,
          0.0007561942833166471,
          0.002619013049825302,
          0.0013541267347375937,
          0.001756699250800343,
          0.000443410674781566
         ],
         "yaxis": "y"
        },
        {
         "hovertemplate": "algorithm=default<br>rank_est=6<br>time=%{x}<br>final_rec_error=%{y}<extra></extra>",
         "legendgroup": "default, 6",
         "marker": {
          "color": "#636efa",
          "size": 10,
          "symbol": "square"
         },
         "mode": "markers",
         "name": "default, 6",
         "orientation": "v",
         "showlegend": true,
         "type": "scatter",
         "x": [
          0.11580085754394531,
          0.0718240737915039,
          0.07002925872802734,
          0.11185240745544434,
          0.11232829093933105,
          0.11273312568664551,
          0.11124873161315918,
          0.08642363548278809,
          0.07053446769714355,
          0.07145237922668457
         ],
         "xaxis": "x",
         "y": [
          0.0028825960911548383,
          0.0017349589961733556,
          0.0065139403788332904,
          0.0002070605034467106,
          0.0009654645626410604,
          0.0009788015566365707,
          0.012375715679951788,
          0.010644878150760704,
          0.002020666022769563,
          0.0010232471071391835
         ],
         "yaxis": "y"
        },
        {
         "hovertemplate": "algorithm=hals<br>rank_est=4<br>time=%{x}<br>final_rec_error=%{y}<extra></extra>",
         "legendgroup": "hals, 4",
         "marker": {
          "color": "#EF553B",
          "size": 10,
          "symbol": "circle"
         },
         "mode": "markers",
         "name": "hals, 4",
         "orientation": "v",
         "showlegend": true,
         "type": "scatter",
         "x": [
          0.1784043312072754,
          0.195831298828125,
          0.1611020565032959,
          0.16113948822021484,
          0.18131136894226074,
          0.18092799186706543,
          0.17646241188049316,
          0.18850350379943848,
          0.12071466445922852,
          0.16283321380615234
         ],
         "xaxis": "x",
         "y": [
          0.057845840327500606,
          0.05784677380288308,
          0.05784771046022989,
          0.05793371854995371,
          0.0578459115904708,
          0.05784570483930169,
          0.057845614907849,
          0.05784553701040576,
          0.05784547470457591,
          0.05784701765551654
         ],
         "yaxis": "y"
        },
        {
         "hovertemplate": "algorithm=hals<br>rank_est=5<br>time=%{x}<br>final_rec_error=%{y}<extra></extra>",
         "legendgroup": "hals, 5",
         "marker": {
          "color": "#EF553B",
          "size": 10,
          "symbol": "diamond"
         },
         "mode": "markers",
         "name": "hals, 5",
         "orientation": "v",
         "showlegend": true,
         "type": "scatter",
         "x": [
          0.2204580307006836,
          0.18949484825134277,
          0.18979477882385254,
          0.22223949432373047,
          0.22444868087768555,
          0.2235567569732666,
          0.22280192375183105,
          0.22437191009521484,
          0.19582748413085938,
          0.19492220878601074
         ],
         "xaxis": "x",
         "y": [
          0.00040616671346608603,
          0.0004951112988338067,
          0.00044898264881835885,
          0.0007523669326312321,
          0.0005837008767284662,
          0.0005884421872920217,
          0.0005444813383681682,
          0.0005426717403538878,
          0.0006832702426949009,
          0.00035739564749403895
         ],
         "yaxis": "y"
        },
        {
         "hovertemplate": "algorithm=hals<br>rank_est=6<br>time=%{x}<br>final_rec_error=%{y}<extra></extra>",
         "legendgroup": "hals, 6",
         "marker": {
          "color": "#EF553B",
          "size": 10,
          "symbol": "square"
         },
         "mode": "markers",
         "name": "hals, 6",
         "orientation": "v",
         "showlegend": true,
         "type": "scatter",
         "x": [
          0.23989295959472656,
          0.20826077461242676,
          0.21466588973999023,
          0.24304461479187012,
          0.24245071411132812,
          0.24168705940246582,
          0.24273467063903809,
          0.22374677658081055,
          0.21403837203979492,
          0.21416044235229492
         ],
         "xaxis": "x",
         "y": [
          0.0016249890479646425,
          0.001456600928314479,
          0.0010100226607167291,
          0.0008386610504330627,
          0.0004818431789194077,
          0.000525607021775502,
          0.0006691172658987264,
          0.00045445604234884226,
          0.0015379358796161256,
          0.0002106550799057649
         ],
         "yaxis": "y"
        }
       ],
       "layout": {
        "legend": {
         "title": {
          "text": "algorithm, rank_est"
         },
         "tracegroupgap": 0
        },
        "margin": {
         "t": 60
        },
        "template": {
         "data": {
          "bar": [
           {
            "error_x": {
             "color": "#2a3f5f"
            },
            "error_y": {
             "color": "#2a3f5f"
            },
            "marker": {
             "line": {
              "color": "#E5ECF6",
              "width": 0.5
             },
             "pattern": {
              "fillmode": "overlay",
              "size": 10,
              "solidity": 0.2
             }
            },
            "type": "bar"
           }
          ],
          "barpolar": [
           {
            "marker": {
             "line": {
              "color": "#E5ECF6",
              "width": 0.5
             },
             "pattern": {
              "fillmode": "overlay",
              "size": 10,
              "solidity": 0.2
             }
            },
            "type": "barpolar"
           }
          ],
          "carpet": [
           {
            "aaxis": {
             "endlinecolor": "#2a3f5f",
             "gridcolor": "white",
             "linecolor": "white",
             "minorgridcolor": "white",
             "startlinecolor": "#2a3f5f"
            },
            "baxis": {
             "endlinecolor": "#2a3f5f",
             "gridcolor": "white",
             "linecolor": "white",
             "minorgridcolor": "white",
             "startlinecolor": "#2a3f5f"
            },
            "type": "carpet"
           }
          ],
          "choropleth": [
           {
            "colorbar": {
             "outlinewidth": 0,
             "ticks": ""
            },
            "type": "choropleth"
           }
          ],
          "contour": [
           {
            "colorbar": {
             "outlinewidth": 0,
             "ticks": ""
            },
            "colorscale": [
             [
              0,
              "#0d0887"
             ],
             [
              0.1111111111111111,
              "#46039f"
             ],
             [
              0.2222222222222222,
              "#7201a8"
             ],
             [
              0.3333333333333333,
              "#9c179e"
             ],
             [
              0.4444444444444444,
              "#bd3786"
             ],
             [
              0.5555555555555556,
              "#d8576b"
             ],
             [
              0.6666666666666666,
              "#ed7953"
             ],
             [
              0.7777777777777778,
              "#fb9f3a"
             ],
             [
              0.8888888888888888,
              "#fdca26"
             ],
             [
              1,
              "#f0f921"
             ]
            ],
            "type": "contour"
           }
          ],
          "contourcarpet": [
           {
            "colorbar": {
             "outlinewidth": 0,
             "ticks": ""
            },
            "type": "contourcarpet"
           }
          ],
          "heatmap": [
           {
            "colorbar": {
             "outlinewidth": 0,
             "ticks": ""
            },
            "colorscale": [
             [
              0,
              "#0d0887"
             ],
             [
              0.1111111111111111,
              "#46039f"
             ],
             [
              0.2222222222222222,
              "#7201a8"
             ],
             [
              0.3333333333333333,
              "#9c179e"
             ],
             [
              0.4444444444444444,
              "#bd3786"
             ],
             [
              0.5555555555555556,
              "#d8576b"
             ],
             [
              0.6666666666666666,
              "#ed7953"
             ],
             [
              0.7777777777777778,
              "#fb9f3a"
             ],
             [
              0.8888888888888888,
              "#fdca26"
             ],
             [
              1,
              "#f0f921"
             ]
            ],
            "type": "heatmap"
           }
          ],
          "heatmapgl": [
           {
            "colorbar": {
             "outlinewidth": 0,
             "ticks": ""
            },
            "colorscale": [
             [
              0,
              "#0d0887"
             ],
             [
              0.1111111111111111,
              "#46039f"
             ],
             [
              0.2222222222222222,
              "#7201a8"
             ],
             [
              0.3333333333333333,
              "#9c179e"
             ],
             [
              0.4444444444444444,
              "#bd3786"
             ],
             [
              0.5555555555555556,
              "#d8576b"
             ],
             [
              0.6666666666666666,
              "#ed7953"
             ],
             [
              0.7777777777777778,
              "#fb9f3a"
             ],
             [
              0.8888888888888888,
              "#fdca26"
             ],
             [
              1,
              "#f0f921"
             ]
            ],
            "type": "heatmapgl"
           }
          ],
          "histogram": [
           {
            "marker": {
             "pattern": {
              "fillmode": "overlay",
              "size": 10,
              "solidity": 0.2
             }
            },
            "type": "histogram"
           }
          ],
          "histogram2d": [
           {
            "colorbar": {
             "outlinewidth": 0,
             "ticks": ""
            },
            "colorscale": [
             [
              0,
              "#0d0887"
             ],
             [
              0.1111111111111111,
              "#46039f"
             ],
             [
              0.2222222222222222,
              "#7201a8"
             ],
             [
              0.3333333333333333,
              "#9c179e"
             ],
             [
              0.4444444444444444,
              "#bd3786"
             ],
             [
              0.5555555555555556,
              "#d8576b"
             ],
             [
              0.6666666666666666,
              "#ed7953"
             ],
             [
              0.7777777777777778,
              "#fb9f3a"
             ],
             [
              0.8888888888888888,
              "#fdca26"
             ],
             [
              1,
              "#f0f921"
             ]
            ],
            "type": "histogram2d"
           }
          ],
          "histogram2dcontour": [
           {
            "colorbar": {
             "outlinewidth": 0,
             "ticks": ""
            },
            "colorscale": [
             [
              0,
              "#0d0887"
             ],
             [
              0.1111111111111111,
              "#46039f"
             ],
             [
              0.2222222222222222,
              "#7201a8"
             ],
             [
              0.3333333333333333,
              "#9c179e"
             ],
             [
              0.4444444444444444,
              "#bd3786"
             ],
             [
              0.5555555555555556,
              "#d8576b"
             ],
             [
              0.6666666666666666,
              "#ed7953"
             ],
             [
              0.7777777777777778,
              "#fb9f3a"
             ],
             [
              0.8888888888888888,
              "#fdca26"
             ],
             [
              1,
              "#f0f921"
             ]
            ],
            "type": "histogram2dcontour"
           }
          ],
          "mesh3d": [
           {
            "colorbar": {
             "outlinewidth": 0,
             "ticks": ""
            },
            "type": "mesh3d"
           }
          ],
          "parcoords": [
           {
            "line": {
             "colorbar": {
              "outlinewidth": 0,
              "ticks": ""
             }
            },
            "type": "parcoords"
           }
          ],
          "pie": [
           {
            "automargin": true,
            "type": "pie"
           }
          ],
          "scatter": [
           {
            "marker": {
             "colorbar": {
              "outlinewidth": 0,
              "ticks": ""
             }
            },
            "type": "scatter"
           }
          ],
          "scatter3d": [
           {
            "line": {
             "colorbar": {
              "outlinewidth": 0,
              "ticks": ""
             }
            },
            "marker": {
             "colorbar": {
              "outlinewidth": 0,
              "ticks": ""
             }
            },
            "type": "scatter3d"
           }
          ],
          "scattercarpet": [
           {
            "marker": {
             "colorbar": {
              "outlinewidth": 0,
              "ticks": ""
             }
            },
            "type": "scattercarpet"
           }
          ],
          "scattergeo": [
           {
            "marker": {
             "colorbar": {
              "outlinewidth": 0,
              "ticks": ""
             }
            },
            "type": "scattergeo"
           }
          ],
          "scattergl": [
           {
            "marker": {
             "colorbar": {
              "outlinewidth": 0,
              "ticks": ""
             }
            },
            "type": "scattergl"
           }
          ],
          "scattermapbox": [
           {
            "marker": {
             "colorbar": {
              "outlinewidth": 0,
              "ticks": ""
             }
            },
            "type": "scattermapbox"
           }
          ],
          "scatterpolar": [
           {
            "marker": {
             "colorbar": {
              "outlinewidth": 0,
              "ticks": ""
             }
            },
            "type": "scatterpolar"
           }
          ],
          "scatterpolargl": [
           {
            "marker": {
             "colorbar": {
              "outlinewidth": 0,
              "ticks": ""
             }
            },
            "type": "scatterpolargl"
           }
          ],
          "scatterternary": [
           {
            "marker": {
             "colorbar": {
              "outlinewidth": 0,
              "ticks": ""
             }
            },
            "type": "scatterternary"
           }
          ],
          "surface": [
           {
            "colorbar": {
             "outlinewidth": 0,
             "ticks": ""
            },
            "colorscale": [
             [
              0,
              "#0d0887"
             ],
             [
              0.1111111111111111,
              "#46039f"
             ],
             [
              0.2222222222222222,
              "#7201a8"
             ],
             [
              0.3333333333333333,
              "#9c179e"
             ],
             [
              0.4444444444444444,
              "#bd3786"
             ],
             [
              0.5555555555555556,
              "#d8576b"
             ],
             [
              0.6666666666666666,
              "#ed7953"
             ],
             [
              0.7777777777777778,
              "#fb9f3a"
             ],
             [
              0.8888888888888888,
              "#fdca26"
             ],
             [
              1,
              "#f0f921"
             ]
            ],
            "type": "surface"
           }
          ],
          "table": [
           {
            "cells": {
             "fill": {
              "color": "#EBF0F8"
             },
             "line": {
              "color": "white"
             }
            },
            "header": {
             "fill": {
              "color": "#C8D4E3"
             },
             "line": {
              "color": "white"
             }
            },
            "type": "table"
           }
          ]
         },
         "layout": {
          "annotationdefaults": {
           "arrowcolor": "#2a3f5f",
           "arrowhead": 0,
           "arrowwidth": 1
          },
          "autotypenumbers": "strict",
          "coloraxis": {
           "colorbar": {
            "outlinewidth": 0,
            "ticks": ""
           }
          },
          "colorscale": {
           "diverging": [
            [
             0,
             "#8e0152"
            ],
            [
             0.1,
             "#c51b7d"
            ],
            [
             0.2,
             "#de77ae"
            ],
            [
             0.3,
             "#f1b6da"
            ],
            [
             0.4,
             "#fde0ef"
            ],
            [
             0.5,
             "#f7f7f7"
            ],
            [
             0.6,
             "#e6f5d0"
            ],
            [
             0.7,
             "#b8e186"
            ],
            [
             0.8,
             "#7fbc41"
            ],
            [
             0.9,
             "#4d9221"
            ],
            [
             1,
             "#276419"
            ]
           ],
           "sequential": [
            [
             0,
             "#0d0887"
            ],
            [
             0.1111111111111111,
             "#46039f"
            ],
            [
             0.2222222222222222,
             "#7201a8"
            ],
            [
             0.3333333333333333,
             "#9c179e"
            ],
            [
             0.4444444444444444,
             "#bd3786"
            ],
            [
             0.5555555555555556,
             "#d8576b"
            ],
            [
             0.6666666666666666,
             "#ed7953"
            ],
            [
             0.7777777777777778,
             "#fb9f3a"
            ],
            [
             0.8888888888888888,
             "#fdca26"
            ],
            [
             1,
             "#f0f921"
            ]
           ],
           "sequentialminus": [
            [
             0,
             "#0d0887"
            ],
            [
             0.1111111111111111,
             "#46039f"
            ],
            [
             0.2222222222222222,
             "#7201a8"
            ],
            [
             0.3333333333333333,
             "#9c179e"
            ],
            [
             0.4444444444444444,
             "#bd3786"
            ],
            [
             0.5555555555555556,
             "#d8576b"
            ],
            [
             0.6666666666666666,
             "#ed7953"
            ],
            [
             0.7777777777777778,
             "#fb9f3a"
            ],
            [
             0.8888888888888888,
             "#fdca26"
            ],
            [
             1,
             "#f0f921"
            ]
           ]
          },
          "colorway": [
           "#636efa",
           "#EF553B",
           "#00cc96",
           "#ab63fa",
           "#FFA15A",
           "#19d3f3",
           "#FF6692",
           "#B6E880",
           "#FF97FF",
           "#FECB52"
          ],
          "font": {
           "color": "#2a3f5f"
          },
          "geo": {
           "bgcolor": "white",
           "lakecolor": "white",
           "landcolor": "#E5ECF6",
           "showlakes": true,
           "showland": true,
           "subunitcolor": "white"
          },
          "hoverlabel": {
           "align": "left"
          },
          "hovermode": "closest",
          "mapbox": {
           "style": "light"
          },
          "paper_bgcolor": "white",
          "plot_bgcolor": "#E5ECF6",
          "polar": {
           "angularaxis": {
            "gridcolor": "white",
            "linecolor": "white",
            "ticks": ""
           },
           "bgcolor": "#E5ECF6",
           "radialaxis": {
            "gridcolor": "white",
            "linecolor": "white",
            "ticks": ""
           }
          },
          "scene": {
           "xaxis": {
            "backgroundcolor": "#E5ECF6",
            "gridcolor": "white",
            "gridwidth": 2,
            "linecolor": "white",
            "showbackground": true,
            "ticks": "",
            "zerolinecolor": "white"
           },
           "yaxis": {
            "backgroundcolor": "#E5ECF6",
            "gridcolor": "white",
            "gridwidth": 2,
            "linecolor": "white",
            "showbackground": true,
            "ticks": "",
            "zerolinecolor": "white"
           },
           "zaxis": {
            "backgroundcolor": "#E5ECF6",
            "gridcolor": "white",
            "gridwidth": 2,
            "linecolor": "white",
            "showbackground": true,
            "ticks": "",
            "zerolinecolor": "white"
           }
          },
          "shapedefaults": {
           "line": {
            "color": "#2a3f5f"
           }
          },
          "ternary": {
           "aaxis": {
            "gridcolor": "white",
            "linecolor": "white",
            "ticks": ""
           },
           "baxis": {
            "gridcolor": "white",
            "linecolor": "white",
            "ticks": ""
           },
           "bgcolor": "#E5ECF6",
           "caxis": {
            "gridcolor": "white",
            "linecolor": "white",
            "ticks": ""
           }
          },
          "title": {
           "x": 0.05
          },
          "xaxis": {
           "automargin": true,
           "gridcolor": "white",
           "linecolor": "white",
           "ticks": "",
           "title": {
            "standoff": 15
           },
           "zerolinecolor": "white",
           "zerolinewidth": 2
          },
          "yaxis": {
           "automargin": true,
           "gridcolor": "white",
           "linecolor": "white",
           "ticks": "",
           "title": {
            "standoff": 15
           },
           "zerolinecolor": "white",
           "zerolinewidth": 2
          }
         }
        },
        "xaxis": {
         "anchor": "y",
         "domain": [
          0,
          1
         ],
         "title": {
          "text": "time"
         }
        },
        "yaxis": {
         "anchor": "x",
         "domain": [
          0,
          1
         ],
         "title": {
          "text": "final_rec_error"
         }
        }
       }
      },
      "text/html": [
       "<div>                            <div id=\"5aee4281-869a-4bd2-88fd-9d866a95ad37\" class=\"plotly-graph-div\" style=\"height:525px; width:100%;\"></div>            <script type=\"text/javascript\">                require([\"plotly\"], function(Plotly) {                    window.PLOTLYENV=window.PLOTLYENV || {};                                    if (document.getElementById(\"5aee4281-869a-4bd2-88fd-9d866a95ad37\")) {                    Plotly.newPlot(                        \"5aee4281-869a-4bd2-88fd-9d866a95ad37\",                        [{\"hovertemplate\":\"algorithm=default<br>rank_est=4<br>time=%{x}<br>final_rec_error=%{y}<extra></extra>\",\"legendgroup\":\"default, 4\",\"marker\":{\"color\":\"#636efa\",\"symbol\":\"circle\",\"size\":10},\"mode\":\"markers\",\"name\":\"default, 4\",\"orientation\":\"v\",\"showlegend\":true,\"x\":[0.08178377151489258,0.08325839042663574,0.04980278015136719,0.050612688064575195,0.08162736892700195,0.08067846298217773,0.08141541481018066,0.0852210521697998,0.0503385066986084,0.05139350891113281],\"xaxis\":\"x\",\"y\":[0.05785404846446754,0.05783601140019389,0.057884721725440146,0.057834432539435855,0.0578364926568708,0.05783612000552729,0.05783797039390483,0.05789099755894571,0.057835288341320824,0.05783474350222829],\"yaxis\":\"y\",\"type\":\"scatter\"},{\"hovertemplate\":\"algorithm=default<br>rank_est=5<br>time=%{x}<br>final_rec_error=%{y}<extra></extra>\",\"legendgroup\":\"default, 5\",\"marker\":{\"color\":\"#636efa\",\"symbol\":\"diamond\",\"size\":10},\"mode\":\"markers\",\"name\":\"default, 5\",\"orientation\":\"v\",\"showlegend\":true,\"x\":[0.09975385665893555,0.0609135627746582,0.06566119194030762,0.09721755981445312,0.09870457649230957,0.09844541549682617,0.09876275062561035,0.10272884368896484,0.06716656684875488,0.06340622901916504],\"xaxis\":\"x\",\"y\":[0.0012652356937934463,0.001361377321070042,0.000881954852822292,0.0014082234908795886,0.005195433956266564,0.0007561942833166471,0.002619013049825302,0.0013541267347375937,0.001756699250800343,0.000443410674781566],\"yaxis\":\"y\",\"type\":\"scatter\"},{\"hovertemplate\":\"algorithm=default<br>rank_est=6<br>time=%{x}<br>final_rec_error=%{y}<extra></extra>\",\"legendgroup\":\"default, 6\",\"marker\":{\"color\":\"#636efa\",\"symbol\":\"square\",\"size\":10},\"mode\":\"markers\",\"name\":\"default, 6\",\"orientation\":\"v\",\"showlegend\":true,\"x\":[0.11580085754394531,0.0718240737915039,0.07002925872802734,0.11185240745544434,0.11232829093933105,0.11273312568664551,0.11124873161315918,0.08642363548278809,0.07053446769714355,0.07145237922668457],\"xaxis\":\"x\",\"y\":[0.0028825960911548383,0.0017349589961733556,0.0065139403788332904,0.0002070605034467106,0.0009654645626410604,0.0009788015566365707,0.012375715679951788,0.010644878150760704,0.002020666022769563,0.0010232471071391835],\"yaxis\":\"y\",\"type\":\"scatter\"},{\"hovertemplate\":\"algorithm=hals<br>rank_est=4<br>time=%{x}<br>final_rec_error=%{y}<extra></extra>\",\"legendgroup\":\"hals, 4\",\"marker\":{\"color\":\"#EF553B\",\"symbol\":\"circle\",\"size\":10},\"mode\":\"markers\",\"name\":\"hals, 4\",\"orientation\":\"v\",\"showlegend\":true,\"x\":[0.1784043312072754,0.195831298828125,0.1611020565032959,0.16113948822021484,0.18131136894226074,0.18092799186706543,0.17646241188049316,0.18850350379943848,0.12071466445922852,0.16283321380615234],\"xaxis\":\"x\",\"y\":[0.057845840327500606,0.05784677380288308,0.05784771046022989,0.05793371854995371,0.0578459115904708,0.05784570483930169,0.057845614907849,0.05784553701040576,0.05784547470457591,0.05784701765551654],\"yaxis\":\"y\",\"type\":\"scatter\"},{\"hovertemplate\":\"algorithm=hals<br>rank_est=5<br>time=%{x}<br>final_rec_error=%{y}<extra></extra>\",\"legendgroup\":\"hals, 5\",\"marker\":{\"color\":\"#EF553B\",\"symbol\":\"diamond\",\"size\":10},\"mode\":\"markers\",\"name\":\"hals, 5\",\"orientation\":\"v\",\"showlegend\":true,\"x\":[0.2204580307006836,0.18949484825134277,0.18979477882385254,0.22223949432373047,0.22444868087768555,0.2235567569732666,0.22280192375183105,0.22437191009521484,0.19582748413085938,0.19492220878601074],\"xaxis\":\"x\",\"y\":[0.00040616671346608603,0.0004951112988338067,0.00044898264881835885,0.0007523669326312321,0.0005837008767284662,0.0005884421872920217,0.0005444813383681682,0.0005426717403538878,0.0006832702426949009,0.00035739564749403895],\"yaxis\":\"y\",\"type\":\"scatter\"},{\"hovertemplate\":\"algorithm=hals<br>rank_est=6<br>time=%{x}<br>final_rec_error=%{y}<extra></extra>\",\"legendgroup\":\"hals, 6\",\"marker\":{\"color\":\"#EF553B\",\"symbol\":\"square\",\"size\":10},\"mode\":\"markers\",\"name\":\"hals, 6\",\"orientation\":\"v\",\"showlegend\":true,\"x\":[0.23989295959472656,0.20826077461242676,0.21466588973999023,0.24304461479187012,0.24245071411132812,0.24168705940246582,0.24273467063903809,0.22374677658081055,0.21403837203979492,0.21416044235229492],\"xaxis\":\"x\",\"y\":[0.0016249890479646425,0.001456600928314479,0.0010100226607167291,0.0008386610504330627,0.0004818431789194077,0.000525607021775502,0.0006691172658987264,0.00045445604234884226,0.0015379358796161256,0.0002106550799057649],\"yaxis\":\"y\",\"type\":\"scatter\"}],                        {\"template\":{\"data\":{\"bar\":[{\"error_x\":{\"color\":\"#2a3f5f\"},\"error_y\":{\"color\":\"#2a3f5f\"},\"marker\":{\"line\":{\"color\":\"#E5ECF6\",\"width\":0.5},\"pattern\":{\"fillmode\":\"overlay\",\"size\":10,\"solidity\":0.2}},\"type\":\"bar\"}],\"barpolar\":[{\"marker\":{\"line\":{\"color\":\"#E5ECF6\",\"width\":0.5},\"pattern\":{\"fillmode\":\"overlay\",\"size\":10,\"solidity\":0.2}},\"type\":\"barpolar\"}],\"carpet\":[{\"aaxis\":{\"endlinecolor\":\"#2a3f5f\",\"gridcolor\":\"white\",\"linecolor\":\"white\",\"minorgridcolor\":\"white\",\"startlinecolor\":\"#2a3f5f\"},\"baxis\":{\"endlinecolor\":\"#2a3f5f\",\"gridcolor\":\"white\",\"linecolor\":\"white\",\"minorgridcolor\":\"white\",\"startlinecolor\":\"#2a3f5f\"},\"type\":\"carpet\"}],\"choropleth\":[{\"colorbar\":{\"outlinewidth\":0,\"ticks\":\"\"},\"type\":\"choropleth\"}],\"contour\":[{\"colorbar\":{\"outlinewidth\":0,\"ticks\":\"\"},\"colorscale\":[[0.0,\"#0d0887\"],[0.1111111111111111,\"#46039f\"],[0.2222222222222222,\"#7201a8\"],[0.3333333333333333,\"#9c179e\"],[0.4444444444444444,\"#bd3786\"],[0.5555555555555556,\"#d8576b\"],[0.6666666666666666,\"#ed7953\"],[0.7777777777777778,\"#fb9f3a\"],[0.8888888888888888,\"#fdca26\"],[1.0,\"#f0f921\"]],\"type\":\"contour\"}],\"contourcarpet\":[{\"colorbar\":{\"outlinewidth\":0,\"ticks\":\"\"},\"type\":\"contourcarpet\"}],\"heatmap\":[{\"colorbar\":{\"outlinewidth\":0,\"ticks\":\"\"},\"colorscale\":[[0.0,\"#0d0887\"],[0.1111111111111111,\"#46039f\"],[0.2222222222222222,\"#7201a8\"],[0.3333333333333333,\"#9c179e\"],[0.4444444444444444,\"#bd3786\"],[0.5555555555555556,\"#d8576b\"],[0.6666666666666666,\"#ed7953\"],[0.7777777777777778,\"#fb9f3a\"],[0.8888888888888888,\"#fdca26\"],[1.0,\"#f0f921\"]],\"type\":\"heatmap\"}],\"heatmapgl\":[{\"colorbar\":{\"outlinewidth\":0,\"ticks\":\"\"},\"colorscale\":[[0.0,\"#0d0887\"],[0.1111111111111111,\"#46039f\"],[0.2222222222222222,\"#7201a8\"],[0.3333333333333333,\"#9c179e\"],[0.4444444444444444,\"#bd3786\"],[0.5555555555555556,\"#d8576b\"],[0.6666666666666666,\"#ed7953\"],[0.7777777777777778,\"#fb9f3a\"],[0.8888888888888888,\"#fdca26\"],[1.0,\"#f0f921\"]],\"type\":\"heatmapgl\"}],\"histogram\":[{\"marker\":{\"pattern\":{\"fillmode\":\"overlay\",\"size\":10,\"solidity\":0.2}},\"type\":\"histogram\"}],\"histogram2d\":[{\"colorbar\":{\"outlinewidth\":0,\"ticks\":\"\"},\"colorscale\":[[0.0,\"#0d0887\"],[0.1111111111111111,\"#46039f\"],[0.2222222222222222,\"#7201a8\"],[0.3333333333333333,\"#9c179e\"],[0.4444444444444444,\"#bd3786\"],[0.5555555555555556,\"#d8576b\"],[0.6666666666666666,\"#ed7953\"],[0.7777777777777778,\"#fb9f3a\"],[0.8888888888888888,\"#fdca26\"],[1.0,\"#f0f921\"]],\"type\":\"histogram2d\"}],\"histogram2dcontour\":[{\"colorbar\":{\"outlinewidth\":0,\"ticks\":\"\"},\"colorscale\":[[0.0,\"#0d0887\"],[0.1111111111111111,\"#46039f\"],[0.2222222222222222,\"#7201a8\"],[0.3333333333333333,\"#9c179e\"],[0.4444444444444444,\"#bd3786\"],[0.5555555555555556,\"#d8576b\"],[0.6666666666666666,\"#ed7953\"],[0.7777777777777778,\"#fb9f3a\"],[0.8888888888888888,\"#fdca26\"],[1.0,\"#f0f921\"]],\"type\":\"histogram2dcontour\"}],\"mesh3d\":[{\"colorbar\":{\"outlinewidth\":0,\"ticks\":\"\"},\"type\":\"mesh3d\"}],\"parcoords\":[{\"line\":{\"colorbar\":{\"outlinewidth\":0,\"ticks\":\"\"}},\"type\":\"parcoords\"}],\"pie\":[{\"automargin\":true,\"type\":\"pie\"}],\"scatter\":[{\"marker\":{\"colorbar\":{\"outlinewidth\":0,\"ticks\":\"\"}},\"type\":\"scatter\"}],\"scatter3d\":[{\"line\":{\"colorbar\":{\"outlinewidth\":0,\"ticks\":\"\"}},\"marker\":{\"colorbar\":{\"outlinewidth\":0,\"ticks\":\"\"}},\"type\":\"scatter3d\"}],\"scattercarpet\":[{\"marker\":{\"colorbar\":{\"outlinewidth\":0,\"ticks\":\"\"}},\"type\":\"scattercarpet\"}],\"scattergeo\":[{\"marker\":{\"colorbar\":{\"outlinewidth\":0,\"ticks\":\"\"}},\"type\":\"scattergeo\"}],\"scattergl\":[{\"marker\":{\"colorbar\":{\"outlinewidth\":0,\"ticks\":\"\"}},\"type\":\"scattergl\"}],\"scattermapbox\":[{\"marker\":{\"colorbar\":{\"outlinewidth\":0,\"ticks\":\"\"}},\"type\":\"scattermapbox\"}],\"scatterpolar\":[{\"marker\":{\"colorbar\":{\"outlinewidth\":0,\"ticks\":\"\"}},\"type\":\"scatterpolar\"}],\"scatterpolargl\":[{\"marker\":{\"colorbar\":{\"outlinewidth\":0,\"ticks\":\"\"}},\"type\":\"scatterpolargl\"}],\"scatterternary\":[{\"marker\":{\"colorbar\":{\"outlinewidth\":0,\"ticks\":\"\"}},\"type\":\"scatterternary\"}],\"surface\":[{\"colorbar\":{\"outlinewidth\":0,\"ticks\":\"\"},\"colorscale\":[[0.0,\"#0d0887\"],[0.1111111111111111,\"#46039f\"],[0.2222222222222222,\"#7201a8\"],[0.3333333333333333,\"#9c179e\"],[0.4444444444444444,\"#bd3786\"],[0.5555555555555556,\"#d8576b\"],[0.6666666666666666,\"#ed7953\"],[0.7777777777777778,\"#fb9f3a\"],[0.8888888888888888,\"#fdca26\"],[1.0,\"#f0f921\"]],\"type\":\"surface\"}],\"table\":[{\"cells\":{\"fill\":{\"color\":\"#EBF0F8\"},\"line\":{\"color\":\"white\"}},\"header\":{\"fill\":{\"color\":\"#C8D4E3\"},\"line\":{\"color\":\"white\"}},\"type\":\"table\"}]},\"layout\":{\"annotationdefaults\":{\"arrowcolor\":\"#2a3f5f\",\"arrowhead\":0,\"arrowwidth\":1},\"autotypenumbers\":\"strict\",\"coloraxis\":{\"colorbar\":{\"outlinewidth\":0,\"ticks\":\"\"}},\"colorscale\":{\"diverging\":[[0,\"#8e0152\"],[0.1,\"#c51b7d\"],[0.2,\"#de77ae\"],[0.3,\"#f1b6da\"],[0.4,\"#fde0ef\"],[0.5,\"#f7f7f7\"],[0.6,\"#e6f5d0\"],[0.7,\"#b8e186\"],[0.8,\"#7fbc41\"],[0.9,\"#4d9221\"],[1,\"#276419\"]],\"sequential\":[[0.0,\"#0d0887\"],[0.1111111111111111,\"#46039f\"],[0.2222222222222222,\"#7201a8\"],[0.3333333333333333,\"#9c179e\"],[0.4444444444444444,\"#bd3786\"],[0.5555555555555556,\"#d8576b\"],[0.6666666666666666,\"#ed7953\"],[0.7777777777777778,\"#fb9f3a\"],[0.8888888888888888,\"#fdca26\"],[1.0,\"#f0f921\"]],\"sequentialminus\":[[0.0,\"#0d0887\"],[0.1111111111111111,\"#46039f\"],[0.2222222222222222,\"#7201a8\"],[0.3333333333333333,\"#9c179e\"],[0.4444444444444444,\"#bd3786\"],[0.5555555555555556,\"#d8576b\"],[0.6666666666666666,\"#ed7953\"],[0.7777777777777778,\"#fb9f3a\"],[0.8888888888888888,\"#fdca26\"],[1.0,\"#f0f921\"]]},\"colorway\":[\"#636efa\",\"#EF553B\",\"#00cc96\",\"#ab63fa\",\"#FFA15A\",\"#19d3f3\",\"#FF6692\",\"#B6E880\",\"#FF97FF\",\"#FECB52\"],\"font\":{\"color\":\"#2a3f5f\"},\"geo\":{\"bgcolor\":\"white\",\"lakecolor\":\"white\",\"landcolor\":\"#E5ECF6\",\"showlakes\":true,\"showland\":true,\"subunitcolor\":\"white\"},\"hoverlabel\":{\"align\":\"left\"},\"hovermode\":\"closest\",\"mapbox\":{\"style\":\"light\"},\"paper_bgcolor\":\"white\",\"plot_bgcolor\":\"#E5ECF6\",\"polar\":{\"angularaxis\":{\"gridcolor\":\"white\",\"linecolor\":\"white\",\"ticks\":\"\"},\"bgcolor\":\"#E5ECF6\",\"radialaxis\":{\"gridcolor\":\"white\",\"linecolor\":\"white\",\"ticks\":\"\"}},\"scene\":{\"xaxis\":{\"backgroundcolor\":\"#E5ECF6\",\"gridcolor\":\"white\",\"gridwidth\":2,\"linecolor\":\"white\",\"showbackground\":true,\"ticks\":\"\",\"zerolinecolor\":\"white\"},\"yaxis\":{\"backgroundcolor\":\"#E5ECF6\",\"gridcolor\":\"white\",\"gridwidth\":2,\"linecolor\":\"white\",\"showbackground\":true,\"ticks\":\"\",\"zerolinecolor\":\"white\"},\"zaxis\":{\"backgroundcolor\":\"#E5ECF6\",\"gridcolor\":\"white\",\"gridwidth\":2,\"linecolor\":\"white\",\"showbackground\":true,\"ticks\":\"\",\"zerolinecolor\":\"white\"}},\"shapedefaults\":{\"line\":{\"color\":\"#2a3f5f\"}},\"ternary\":{\"aaxis\":{\"gridcolor\":\"white\",\"linecolor\":\"white\",\"ticks\":\"\"},\"baxis\":{\"gridcolor\":\"white\",\"linecolor\":\"white\",\"ticks\":\"\"},\"bgcolor\":\"#E5ECF6\",\"caxis\":{\"gridcolor\":\"white\",\"linecolor\":\"white\",\"ticks\":\"\"}},\"title\":{\"x\":0.05},\"xaxis\":{\"automargin\":true,\"gridcolor\":\"white\",\"linecolor\":\"white\",\"ticks\":\"\",\"title\":{\"standoff\":15},\"zerolinecolor\":\"white\",\"zerolinewidth\":2},\"yaxis\":{\"automargin\":true,\"gridcolor\":\"white\",\"linecolor\":\"white\",\"ticks\":\"\",\"title\":{\"standoff\":15},\"zerolinecolor\":\"white\",\"zerolinewidth\":2}}},\"xaxis\":{\"anchor\":\"y\",\"domain\":[0.0,1.0],\"title\":{\"text\":\"time\"}},\"yaxis\":{\"anchor\":\"x\",\"domain\":[0.0,1.0],\"title\":{\"text\":\"final_rec_error\"}},\"legend\":{\"title\":{\"text\":\"algorithm, rank_est\"},\"tracegroupgap\":0},\"margin\":{\"t\":60}},                        {\"responsive\": true}                    ).then(function(){\n",
       "                            \n",
       "var gd = document.getElementById('5aee4281-869a-4bd2-88fd-9d866a95ad37');\n",
       "var x = new MutationObserver(function (mutations, observer) {{\n",
       "        var display = window.getComputedStyle(gd).display;\n",
       "        if (!display || display === 'none') {{\n",
       "            console.log([gd, 'removed!']);\n",
       "            Plotly.purge(gd);\n",
       "            observer.disconnect();\n",
       "        }}\n",
       "}});\n",
       "\n",
       "// Listen for the removal of the full notebook cells\n",
       "var notebookContainer = gd.closest('#notebook-container');\n",
       "if (notebookContainer) {{\n",
       "    x.observe(notebookContainer, {childList: true});\n",
       "}}\n",
       "\n",
       "// Listen for the clearing of the current output cell\n",
       "var outputEl = gd.closest('.output');\n",
       "if (outputEl) {{\n",
       "    x.observe(outputEl, {childList: true});\n",
       "}}\n",
       "\n",
       "                        })                };                });            </script>        </div>"
      ]
     },
     "metadata": {},
     "output_type": "display_data"
    }
   ],
   "source": [
    "# time vs error ?\n",
    "fig = px.scatter(df, x=\"time\", y=\"final_rec_error\", \n",
    "                 color=\"algorithm\", symbol=\"rank_est\")\n",
    "fig.update_traces(marker=dict(size=10))\n",
    "fig.show()"
   ]
  },
  {
   "cell_type": "code",
   "execution_count": 63,
   "id": "a42412dc",
   "metadata": {},
   "outputs": [
    {
     "data": {
      "application/vnd.plotly.v1+json": {
       "config": {
        "plotlyServerURL": "https://plot.ly"
       },
       "data": [
        {
         "alignmentgroup": "True",
         "bingroup": "x",
         "hovertemplate": "algorithm=default<br>time=%{x}<br>count=%{y}<extra></extra>",
         "legendgroup": "default",
         "marker": {
          "color": "#636efa",
          "opacity": 0.5,
          "pattern": {
           "shape": ""
          }
         },
         "name": "default",
         "offsetgroup": "default",
         "orientation": "v",
         "showlegend": true,
         "type": "histogram",
         "x": [
          0.08178377151489258,
          0.08325839042663574,
          0.04980278015136719,
          0.050612688064575195,
          0.08162736892700195,
          0.08067846298217773,
          0.08141541481018066,
          0.0852210521697998,
          0.0503385066986084,
          0.05139350891113281
         ],
         "xaxis": "x",
         "yaxis": "y"
        },
        {
         "alignmentgroup": "True",
         "bingroup": "x",
         "hovertemplate": "algorithm=hals<br>time=%{x}<br>count=%{y}<extra></extra>",
         "legendgroup": "hals",
         "marker": {
          "color": "#EF553B",
          "opacity": 0.5,
          "pattern": {
           "shape": ""
          }
         },
         "name": "hals",
         "offsetgroup": "hals",
         "orientation": "v",
         "showlegend": true,
         "type": "histogram",
         "x": [
          0.1784043312072754,
          0.195831298828125,
          0.1611020565032959,
          0.16113948822021484,
          0.18131136894226074,
          0.18092799186706543,
          0.17646241188049316,
          0.18850350379943848,
          0.12071466445922852,
          0.16283321380615234
         ],
         "xaxis": "x2",
         "yaxis": "y2"
        }
       ],
       "layout": {
        "annotations": [
         {
          "font": {},
          "showarrow": false,
          "text": "algorithm=default",
          "x": 0.225,
          "xanchor": "center",
          "xref": "paper",
          "y": 1,
          "yanchor": "bottom",
          "yref": "paper"
         },
         {
          "font": {},
          "showarrow": false,
          "text": "algorithm=hals",
          "x": 0.775,
          "xanchor": "center",
          "xref": "paper",
          "y": 1,
          "yanchor": "bottom",
          "yref": "paper"
         }
        ],
        "barmode": "overlay",
        "font": {
         "size": 20
        },
        "legend": {
         "title": {
          "text": "algorithm"
         },
         "tracegroupgap": 0
        },
        "margin": {
         "t": 60
        },
        "template": {
         "data": {
          "bar": [
           {
            "error_x": {
             "color": "#2a3f5f"
            },
            "error_y": {
             "color": "#2a3f5f"
            },
            "marker": {
             "line": {
              "color": "white",
              "width": 0.5
             },
             "pattern": {
              "fillmode": "overlay",
              "size": 10,
              "solidity": 0.2
             }
            },
            "type": "bar"
           }
          ],
          "barpolar": [
           {
            "marker": {
             "line": {
              "color": "white",
              "width": 0.5
             },
             "pattern": {
              "fillmode": "overlay",
              "size": 10,
              "solidity": 0.2
             }
            },
            "type": "barpolar"
           }
          ],
          "carpet": [
           {
            "aaxis": {
             "endlinecolor": "#2a3f5f",
             "gridcolor": "#C8D4E3",
             "linecolor": "#C8D4E3",
             "minorgridcolor": "#C8D4E3",
             "startlinecolor": "#2a3f5f"
            },
            "baxis": {
             "endlinecolor": "#2a3f5f",
             "gridcolor": "#C8D4E3",
             "linecolor": "#C8D4E3",
             "minorgridcolor": "#C8D4E3",
             "startlinecolor": "#2a3f5f"
            },
            "type": "carpet"
           }
          ],
          "choropleth": [
           {
            "colorbar": {
             "outlinewidth": 0,
             "ticks": ""
            },
            "type": "choropleth"
           }
          ],
          "contour": [
           {
            "colorbar": {
             "outlinewidth": 0,
             "ticks": ""
            },
            "colorscale": [
             [
              0,
              "#0d0887"
             ],
             [
              0.1111111111111111,
              "#46039f"
             ],
             [
              0.2222222222222222,
              "#7201a8"
             ],
             [
              0.3333333333333333,
              "#9c179e"
             ],
             [
              0.4444444444444444,
              "#bd3786"
             ],
             [
              0.5555555555555556,
              "#d8576b"
             ],
             [
              0.6666666666666666,
              "#ed7953"
             ],
             [
              0.7777777777777778,
              "#fb9f3a"
             ],
             [
              0.8888888888888888,
              "#fdca26"
             ],
             [
              1,
              "#f0f921"
             ]
            ],
            "type": "contour"
           }
          ],
          "contourcarpet": [
           {
            "colorbar": {
             "outlinewidth": 0,
             "ticks": ""
            },
            "type": "contourcarpet"
           }
          ],
          "heatmap": [
           {
            "colorbar": {
             "outlinewidth": 0,
             "ticks": ""
            },
            "colorscale": [
             [
              0,
              "#0d0887"
             ],
             [
              0.1111111111111111,
              "#46039f"
             ],
             [
              0.2222222222222222,
              "#7201a8"
             ],
             [
              0.3333333333333333,
              "#9c179e"
             ],
             [
              0.4444444444444444,
              "#bd3786"
             ],
             [
              0.5555555555555556,
              "#d8576b"
             ],
             [
              0.6666666666666666,
              "#ed7953"
             ],
             [
              0.7777777777777778,
              "#fb9f3a"
             ],
             [
              0.8888888888888888,
              "#fdca26"
             ],
             [
              1,
              "#f0f921"
             ]
            ],
            "type": "heatmap"
           }
          ],
          "heatmapgl": [
           {
            "colorbar": {
             "outlinewidth": 0,
             "ticks": ""
            },
            "colorscale": [
             [
              0,
              "#0d0887"
             ],
             [
              0.1111111111111111,
              "#46039f"
             ],
             [
              0.2222222222222222,
              "#7201a8"
             ],
             [
              0.3333333333333333,
              "#9c179e"
             ],
             [
              0.4444444444444444,
              "#bd3786"
             ],
             [
              0.5555555555555556,
              "#d8576b"
             ],
             [
              0.6666666666666666,
              "#ed7953"
             ],
             [
              0.7777777777777778,
              "#fb9f3a"
             ],
             [
              0.8888888888888888,
              "#fdca26"
             ],
             [
              1,
              "#f0f921"
             ]
            ],
            "type": "heatmapgl"
           }
          ],
          "histogram": [
           {
            "marker": {
             "pattern": {
              "fillmode": "overlay",
              "size": 10,
              "solidity": 0.2
             }
            },
            "type": "histogram"
           }
          ],
          "histogram2d": [
           {
            "colorbar": {
             "outlinewidth": 0,
             "ticks": ""
            },
            "colorscale": [
             [
              0,
              "#0d0887"
             ],
             [
              0.1111111111111111,
              "#46039f"
             ],
             [
              0.2222222222222222,
              "#7201a8"
             ],
             [
              0.3333333333333333,
              "#9c179e"
             ],
             [
              0.4444444444444444,
              "#bd3786"
             ],
             [
              0.5555555555555556,
              "#d8576b"
             ],
             [
              0.6666666666666666,
              "#ed7953"
             ],
             [
              0.7777777777777778,
              "#fb9f3a"
             ],
             [
              0.8888888888888888,
              "#fdca26"
             ],
             [
              1,
              "#f0f921"
             ]
            ],
            "type": "histogram2d"
           }
          ],
          "histogram2dcontour": [
           {
            "colorbar": {
             "outlinewidth": 0,
             "ticks": ""
            },
            "colorscale": [
             [
              0,
              "#0d0887"
             ],
             [
              0.1111111111111111,
              "#46039f"
             ],
             [
              0.2222222222222222,
              "#7201a8"
             ],
             [
              0.3333333333333333,
              "#9c179e"
             ],
             [
              0.4444444444444444,
              "#bd3786"
             ],
             [
              0.5555555555555556,
              "#d8576b"
             ],
             [
              0.6666666666666666,
              "#ed7953"
             ],
             [
              0.7777777777777778,
              "#fb9f3a"
             ],
             [
              0.8888888888888888,
              "#fdca26"
             ],
             [
              1,
              "#f0f921"
             ]
            ],
            "type": "histogram2dcontour"
           }
          ],
          "mesh3d": [
           {
            "colorbar": {
             "outlinewidth": 0,
             "ticks": ""
            },
            "type": "mesh3d"
           }
          ],
          "parcoords": [
           {
            "line": {
             "colorbar": {
              "outlinewidth": 0,
              "ticks": ""
             }
            },
            "type": "parcoords"
           }
          ],
          "pie": [
           {
            "automargin": true,
            "type": "pie"
           }
          ],
          "scatter": [
           {
            "marker": {
             "colorbar": {
              "outlinewidth": 0,
              "ticks": ""
             }
            },
            "type": "scatter"
           }
          ],
          "scatter3d": [
           {
            "line": {
             "colorbar": {
              "outlinewidth": 0,
              "ticks": ""
             }
            },
            "marker": {
             "colorbar": {
              "outlinewidth": 0,
              "ticks": ""
             }
            },
            "type": "scatter3d"
           }
          ],
          "scattercarpet": [
           {
            "marker": {
             "colorbar": {
              "outlinewidth": 0,
              "ticks": ""
             }
            },
            "type": "scattercarpet"
           }
          ],
          "scattergeo": [
           {
            "marker": {
             "colorbar": {
              "outlinewidth": 0,
              "ticks": ""
             }
            },
            "type": "scattergeo"
           }
          ],
          "scattergl": [
           {
            "marker": {
             "colorbar": {
              "outlinewidth": 0,
              "ticks": ""
             }
            },
            "type": "scattergl"
           }
          ],
          "scattermapbox": [
           {
            "marker": {
             "colorbar": {
              "outlinewidth": 0,
              "ticks": ""
             }
            },
            "type": "scattermapbox"
           }
          ],
          "scatterpolar": [
           {
            "marker": {
             "colorbar": {
              "outlinewidth": 0,
              "ticks": ""
             }
            },
            "type": "scatterpolar"
           }
          ],
          "scatterpolargl": [
           {
            "marker": {
             "colorbar": {
              "outlinewidth": 0,
              "ticks": ""
             }
            },
            "type": "scatterpolargl"
           }
          ],
          "scatterternary": [
           {
            "marker": {
             "colorbar": {
              "outlinewidth": 0,
              "ticks": ""
             }
            },
            "type": "scatterternary"
           }
          ],
          "surface": [
           {
            "colorbar": {
             "outlinewidth": 0,
             "ticks": ""
            },
            "colorscale": [
             [
              0,
              "#0d0887"
             ],
             [
              0.1111111111111111,
              "#46039f"
             ],
             [
              0.2222222222222222,
              "#7201a8"
             ],
             [
              0.3333333333333333,
              "#9c179e"
             ],
             [
              0.4444444444444444,
              "#bd3786"
             ],
             [
              0.5555555555555556,
              "#d8576b"
             ],
             [
              0.6666666666666666,
              "#ed7953"
             ],
             [
              0.7777777777777778,
              "#fb9f3a"
             ],
             [
              0.8888888888888888,
              "#fdca26"
             ],
             [
              1,
              "#f0f921"
             ]
            ],
            "type": "surface"
           }
          ],
          "table": [
           {
            "cells": {
             "fill": {
              "color": "#EBF0F8"
             },
             "line": {
              "color": "white"
             }
            },
            "header": {
             "fill": {
              "color": "#C8D4E3"
             },
             "line": {
              "color": "white"
             }
            },
            "type": "table"
           }
          ]
         },
         "layout": {
          "annotationdefaults": {
           "arrowcolor": "#2a3f5f",
           "arrowhead": 0,
           "arrowwidth": 1
          },
          "autotypenumbers": "strict",
          "coloraxis": {
           "colorbar": {
            "outlinewidth": 0,
            "ticks": ""
           }
          },
          "colorscale": {
           "diverging": [
            [
             0,
             "#8e0152"
            ],
            [
             0.1,
             "#c51b7d"
            ],
            [
             0.2,
             "#de77ae"
            ],
            [
             0.3,
             "#f1b6da"
            ],
            [
             0.4,
             "#fde0ef"
            ],
            [
             0.5,
             "#f7f7f7"
            ],
            [
             0.6,
             "#e6f5d0"
            ],
            [
             0.7,
             "#b8e186"
            ],
            [
             0.8,
             "#7fbc41"
            ],
            [
             0.9,
             "#4d9221"
            ],
            [
             1,
             "#276419"
            ]
           ],
           "sequential": [
            [
             0,
             "#0d0887"
            ],
            [
             0.1111111111111111,
             "#46039f"
            ],
            [
             0.2222222222222222,
             "#7201a8"
            ],
            [
             0.3333333333333333,
             "#9c179e"
            ],
            [
             0.4444444444444444,
             "#bd3786"
            ],
            [
             0.5555555555555556,
             "#d8576b"
            ],
            [
             0.6666666666666666,
             "#ed7953"
            ],
            [
             0.7777777777777778,
             "#fb9f3a"
            ],
            [
             0.8888888888888888,
             "#fdca26"
            ],
            [
             1,
             "#f0f921"
            ]
           ],
           "sequentialminus": [
            [
             0,
             "#0d0887"
            ],
            [
             0.1111111111111111,
             "#46039f"
            ],
            [
             0.2222222222222222,
             "#7201a8"
            ],
            [
             0.3333333333333333,
             "#9c179e"
            ],
            [
             0.4444444444444444,
             "#bd3786"
            ],
            [
             0.5555555555555556,
             "#d8576b"
            ],
            [
             0.6666666666666666,
             "#ed7953"
            ],
            [
             0.7777777777777778,
             "#fb9f3a"
            ],
            [
             0.8888888888888888,
             "#fdca26"
            ],
            [
             1,
             "#f0f921"
            ]
           ]
          },
          "colorway": [
           "#636efa",
           "#EF553B",
           "#00cc96",
           "#ab63fa",
           "#FFA15A",
           "#19d3f3",
           "#FF6692",
           "#B6E880",
           "#FF97FF",
           "#FECB52"
          ],
          "font": {
           "color": "#2a3f5f"
          },
          "geo": {
           "bgcolor": "white",
           "lakecolor": "white",
           "landcolor": "white",
           "showlakes": true,
           "showland": true,
           "subunitcolor": "#C8D4E3"
          },
          "hoverlabel": {
           "align": "left"
          },
          "hovermode": "closest",
          "mapbox": {
           "style": "light"
          },
          "paper_bgcolor": "white",
          "plot_bgcolor": "white",
          "polar": {
           "angularaxis": {
            "gridcolor": "#EBF0F8",
            "linecolor": "#EBF0F8",
            "ticks": ""
           },
           "bgcolor": "white",
           "radialaxis": {
            "gridcolor": "#EBF0F8",
            "linecolor": "#EBF0F8",
            "ticks": ""
           }
          },
          "scene": {
           "xaxis": {
            "backgroundcolor": "white",
            "gridcolor": "#DFE8F3",
            "gridwidth": 2,
            "linecolor": "#EBF0F8",
            "showbackground": true,
            "ticks": "",
            "zerolinecolor": "#EBF0F8"
           },
           "yaxis": {
            "backgroundcolor": "white",
            "gridcolor": "#DFE8F3",
            "gridwidth": 2,
            "linecolor": "#EBF0F8",
            "showbackground": true,
            "ticks": "",
            "zerolinecolor": "#EBF0F8"
           },
           "zaxis": {
            "backgroundcolor": "white",
            "gridcolor": "#DFE8F3",
            "gridwidth": 2,
            "linecolor": "#EBF0F8",
            "showbackground": true,
            "ticks": "",
            "zerolinecolor": "#EBF0F8"
           }
          },
          "shapedefaults": {
           "line": {
            "color": "#2a3f5f"
           }
          },
          "ternary": {
           "aaxis": {
            "gridcolor": "#DFE8F3",
            "linecolor": "#A2B1C6",
            "ticks": ""
           },
           "baxis": {
            "gridcolor": "#DFE8F3",
            "linecolor": "#A2B1C6",
            "ticks": ""
           },
           "bgcolor": "white",
           "caxis": {
            "gridcolor": "#DFE8F3",
            "linecolor": "#A2B1C6",
            "ticks": ""
           }
          },
          "title": {
           "x": 0.05
          },
          "xaxis": {
           "automargin": true,
           "gridcolor": "#EBF0F8",
           "linecolor": "#EBF0F8",
           "ticks": "",
           "title": {
            "standoff": 15
           },
           "zerolinecolor": "#EBF0F8",
           "zerolinewidth": 2
          },
          "yaxis": {
           "automargin": true,
           "gridcolor": "#EBF0F8",
           "linecolor": "#EBF0F8",
           "ticks": "",
           "title": {
            "standoff": 15
           },
           "zerolinecolor": "#EBF0F8",
           "zerolinewidth": 2
          }
         }
        },
        "xaxis": {
         "anchor": "y",
         "domain": [
          0,
          0.45
         ],
         "title": {
          "text": "time"
         }
        },
        "xaxis2": {
         "anchor": "y2",
         "domain": [
          0.55,
          1
         ],
         "matches": "x",
         "title": {
          "text": "time"
         }
        },
        "yaxis": {
         "anchor": "x",
         "domain": [
          0,
          1
         ],
         "title": {
          "text": "count"
         }
        },
        "yaxis2": {
         "anchor": "x2",
         "domain": [
          0,
          1
         ],
         "matches": "y",
         "showticklabels": false
        }
       }
      },
      "text/html": [
       "<div>                            <div id=\"a10966fb-fba1-4513-91c9-8de036ad820a\" class=\"plotly-graph-div\" style=\"height:525px; width:100%;\"></div>            <script type=\"text/javascript\">                require([\"plotly\"], function(Plotly) {                    window.PLOTLYENV=window.PLOTLYENV || {};                                    if (document.getElementById(\"a10966fb-fba1-4513-91c9-8de036ad820a\")) {                    Plotly.newPlot(                        \"a10966fb-fba1-4513-91c9-8de036ad820a\",                        [{\"alignmentgroup\":\"True\",\"bingroup\":\"x\",\"hovertemplate\":\"algorithm=default<br>time=%{x}<br>count=%{y}<extra></extra>\",\"legendgroup\":\"default\",\"marker\":{\"color\":\"#636efa\",\"opacity\":0.5,\"pattern\":{\"shape\":\"\"}},\"name\":\"default\",\"offsetgroup\":\"default\",\"orientation\":\"v\",\"showlegend\":true,\"x\":[0.08178377151489258,0.08325839042663574,0.04980278015136719,0.050612688064575195,0.08162736892700195,0.08067846298217773,0.08141541481018066,0.0852210521697998,0.0503385066986084,0.05139350891113281],\"xaxis\":\"x\",\"yaxis\":\"y\",\"type\":\"histogram\"},{\"alignmentgroup\":\"True\",\"bingroup\":\"x\",\"hovertemplate\":\"algorithm=hals<br>time=%{x}<br>count=%{y}<extra></extra>\",\"legendgroup\":\"hals\",\"marker\":{\"color\":\"#EF553B\",\"opacity\":0.5,\"pattern\":{\"shape\":\"\"}},\"name\":\"hals\",\"offsetgroup\":\"hals\",\"orientation\":\"v\",\"showlegend\":true,\"x\":[0.1784043312072754,0.195831298828125,0.1611020565032959,0.16113948822021484,0.18131136894226074,0.18092799186706543,0.17646241188049316,0.18850350379943848,0.12071466445922852,0.16283321380615234],\"xaxis\":\"x2\",\"yaxis\":\"y2\",\"type\":\"histogram\"}],                        {\"template\":{\"data\":{\"barpolar\":[{\"marker\":{\"line\":{\"color\":\"white\",\"width\":0.5},\"pattern\":{\"fillmode\":\"overlay\",\"size\":10,\"solidity\":0.2}},\"type\":\"barpolar\"}],\"bar\":[{\"error_x\":{\"color\":\"#2a3f5f\"},\"error_y\":{\"color\":\"#2a3f5f\"},\"marker\":{\"line\":{\"color\":\"white\",\"width\":0.5},\"pattern\":{\"fillmode\":\"overlay\",\"size\":10,\"solidity\":0.2}},\"type\":\"bar\"}],\"carpet\":[{\"aaxis\":{\"endlinecolor\":\"#2a3f5f\",\"gridcolor\":\"#C8D4E3\",\"linecolor\":\"#C8D4E3\",\"minorgridcolor\":\"#C8D4E3\",\"startlinecolor\":\"#2a3f5f\"},\"baxis\":{\"endlinecolor\":\"#2a3f5f\",\"gridcolor\":\"#C8D4E3\",\"linecolor\":\"#C8D4E3\",\"minorgridcolor\":\"#C8D4E3\",\"startlinecolor\":\"#2a3f5f\"},\"type\":\"carpet\"}],\"choropleth\":[{\"colorbar\":{\"outlinewidth\":0,\"ticks\":\"\"},\"type\":\"choropleth\"}],\"contourcarpet\":[{\"colorbar\":{\"outlinewidth\":0,\"ticks\":\"\"},\"type\":\"contourcarpet\"}],\"contour\":[{\"colorbar\":{\"outlinewidth\":0,\"ticks\":\"\"},\"colorscale\":[[0.0,\"#0d0887\"],[0.1111111111111111,\"#46039f\"],[0.2222222222222222,\"#7201a8\"],[0.3333333333333333,\"#9c179e\"],[0.4444444444444444,\"#bd3786\"],[0.5555555555555556,\"#d8576b\"],[0.6666666666666666,\"#ed7953\"],[0.7777777777777778,\"#fb9f3a\"],[0.8888888888888888,\"#fdca26\"],[1.0,\"#f0f921\"]],\"type\":\"contour\"}],\"heatmapgl\":[{\"colorbar\":{\"outlinewidth\":0,\"ticks\":\"\"},\"colorscale\":[[0.0,\"#0d0887\"],[0.1111111111111111,\"#46039f\"],[0.2222222222222222,\"#7201a8\"],[0.3333333333333333,\"#9c179e\"],[0.4444444444444444,\"#bd3786\"],[0.5555555555555556,\"#d8576b\"],[0.6666666666666666,\"#ed7953\"],[0.7777777777777778,\"#fb9f3a\"],[0.8888888888888888,\"#fdca26\"],[1.0,\"#f0f921\"]],\"type\":\"heatmapgl\"}],\"heatmap\":[{\"colorbar\":{\"outlinewidth\":0,\"ticks\":\"\"},\"colorscale\":[[0.0,\"#0d0887\"],[0.1111111111111111,\"#46039f\"],[0.2222222222222222,\"#7201a8\"],[0.3333333333333333,\"#9c179e\"],[0.4444444444444444,\"#bd3786\"],[0.5555555555555556,\"#d8576b\"],[0.6666666666666666,\"#ed7953\"],[0.7777777777777778,\"#fb9f3a\"],[0.8888888888888888,\"#fdca26\"],[1.0,\"#f0f921\"]],\"type\":\"heatmap\"}],\"histogram2dcontour\":[{\"colorbar\":{\"outlinewidth\":0,\"ticks\":\"\"},\"colorscale\":[[0.0,\"#0d0887\"],[0.1111111111111111,\"#46039f\"],[0.2222222222222222,\"#7201a8\"],[0.3333333333333333,\"#9c179e\"],[0.4444444444444444,\"#bd3786\"],[0.5555555555555556,\"#d8576b\"],[0.6666666666666666,\"#ed7953\"],[0.7777777777777778,\"#fb9f3a\"],[0.8888888888888888,\"#fdca26\"],[1.0,\"#f0f921\"]],\"type\":\"histogram2dcontour\"}],\"histogram2d\":[{\"colorbar\":{\"outlinewidth\":0,\"ticks\":\"\"},\"colorscale\":[[0.0,\"#0d0887\"],[0.1111111111111111,\"#46039f\"],[0.2222222222222222,\"#7201a8\"],[0.3333333333333333,\"#9c179e\"],[0.4444444444444444,\"#bd3786\"],[0.5555555555555556,\"#d8576b\"],[0.6666666666666666,\"#ed7953\"],[0.7777777777777778,\"#fb9f3a\"],[0.8888888888888888,\"#fdca26\"],[1.0,\"#f0f921\"]],\"type\":\"histogram2d\"}],\"histogram\":[{\"marker\":{\"pattern\":{\"fillmode\":\"overlay\",\"size\":10,\"solidity\":0.2}},\"type\":\"histogram\"}],\"mesh3d\":[{\"colorbar\":{\"outlinewidth\":0,\"ticks\":\"\"},\"type\":\"mesh3d\"}],\"parcoords\":[{\"line\":{\"colorbar\":{\"outlinewidth\":0,\"ticks\":\"\"}},\"type\":\"parcoords\"}],\"pie\":[{\"automargin\":true,\"type\":\"pie\"}],\"scatter3d\":[{\"line\":{\"colorbar\":{\"outlinewidth\":0,\"ticks\":\"\"}},\"marker\":{\"colorbar\":{\"outlinewidth\":0,\"ticks\":\"\"}},\"type\":\"scatter3d\"}],\"scattercarpet\":[{\"marker\":{\"colorbar\":{\"outlinewidth\":0,\"ticks\":\"\"}},\"type\":\"scattercarpet\"}],\"scattergeo\":[{\"marker\":{\"colorbar\":{\"outlinewidth\":0,\"ticks\":\"\"}},\"type\":\"scattergeo\"}],\"scattergl\":[{\"marker\":{\"colorbar\":{\"outlinewidth\":0,\"ticks\":\"\"}},\"type\":\"scattergl\"}],\"scattermapbox\":[{\"marker\":{\"colorbar\":{\"outlinewidth\":0,\"ticks\":\"\"}},\"type\":\"scattermapbox\"}],\"scatterpolargl\":[{\"marker\":{\"colorbar\":{\"outlinewidth\":0,\"ticks\":\"\"}},\"type\":\"scatterpolargl\"}],\"scatterpolar\":[{\"marker\":{\"colorbar\":{\"outlinewidth\":0,\"ticks\":\"\"}},\"type\":\"scatterpolar\"}],\"scatter\":[{\"marker\":{\"colorbar\":{\"outlinewidth\":0,\"ticks\":\"\"}},\"type\":\"scatter\"}],\"scatterternary\":[{\"marker\":{\"colorbar\":{\"outlinewidth\":0,\"ticks\":\"\"}},\"type\":\"scatterternary\"}],\"surface\":[{\"colorbar\":{\"outlinewidth\":0,\"ticks\":\"\"},\"colorscale\":[[0.0,\"#0d0887\"],[0.1111111111111111,\"#46039f\"],[0.2222222222222222,\"#7201a8\"],[0.3333333333333333,\"#9c179e\"],[0.4444444444444444,\"#bd3786\"],[0.5555555555555556,\"#d8576b\"],[0.6666666666666666,\"#ed7953\"],[0.7777777777777778,\"#fb9f3a\"],[0.8888888888888888,\"#fdca26\"],[1.0,\"#f0f921\"]],\"type\":\"surface\"}],\"table\":[{\"cells\":{\"fill\":{\"color\":\"#EBF0F8\"},\"line\":{\"color\":\"white\"}},\"header\":{\"fill\":{\"color\":\"#C8D4E3\"},\"line\":{\"color\":\"white\"}},\"type\":\"table\"}]},\"layout\":{\"annotationdefaults\":{\"arrowcolor\":\"#2a3f5f\",\"arrowhead\":0,\"arrowwidth\":1},\"autotypenumbers\":\"strict\",\"coloraxis\":{\"colorbar\":{\"outlinewidth\":0,\"ticks\":\"\"}},\"colorscale\":{\"diverging\":[[0,\"#8e0152\"],[0.1,\"#c51b7d\"],[0.2,\"#de77ae\"],[0.3,\"#f1b6da\"],[0.4,\"#fde0ef\"],[0.5,\"#f7f7f7\"],[0.6,\"#e6f5d0\"],[0.7,\"#b8e186\"],[0.8,\"#7fbc41\"],[0.9,\"#4d9221\"],[1,\"#276419\"]],\"sequential\":[[0.0,\"#0d0887\"],[0.1111111111111111,\"#46039f\"],[0.2222222222222222,\"#7201a8\"],[0.3333333333333333,\"#9c179e\"],[0.4444444444444444,\"#bd3786\"],[0.5555555555555556,\"#d8576b\"],[0.6666666666666666,\"#ed7953\"],[0.7777777777777778,\"#fb9f3a\"],[0.8888888888888888,\"#fdca26\"],[1.0,\"#f0f921\"]],\"sequentialminus\":[[0.0,\"#0d0887\"],[0.1111111111111111,\"#46039f\"],[0.2222222222222222,\"#7201a8\"],[0.3333333333333333,\"#9c179e\"],[0.4444444444444444,\"#bd3786\"],[0.5555555555555556,\"#d8576b\"],[0.6666666666666666,\"#ed7953\"],[0.7777777777777778,\"#fb9f3a\"],[0.8888888888888888,\"#fdca26\"],[1.0,\"#f0f921\"]]},\"colorway\":[\"#636efa\",\"#EF553B\",\"#00cc96\",\"#ab63fa\",\"#FFA15A\",\"#19d3f3\",\"#FF6692\",\"#B6E880\",\"#FF97FF\",\"#FECB52\"],\"font\":{\"color\":\"#2a3f5f\"},\"geo\":{\"bgcolor\":\"white\",\"lakecolor\":\"white\",\"landcolor\":\"white\",\"showlakes\":true,\"showland\":true,\"subunitcolor\":\"#C8D4E3\"},\"hoverlabel\":{\"align\":\"left\"},\"hovermode\":\"closest\",\"mapbox\":{\"style\":\"light\"},\"paper_bgcolor\":\"white\",\"plot_bgcolor\":\"white\",\"polar\":{\"angularaxis\":{\"gridcolor\":\"#EBF0F8\",\"linecolor\":\"#EBF0F8\",\"ticks\":\"\"},\"bgcolor\":\"white\",\"radialaxis\":{\"gridcolor\":\"#EBF0F8\",\"linecolor\":\"#EBF0F8\",\"ticks\":\"\"}},\"scene\":{\"xaxis\":{\"backgroundcolor\":\"white\",\"gridcolor\":\"#DFE8F3\",\"gridwidth\":2,\"linecolor\":\"#EBF0F8\",\"showbackground\":true,\"ticks\":\"\",\"zerolinecolor\":\"#EBF0F8\"},\"yaxis\":{\"backgroundcolor\":\"white\",\"gridcolor\":\"#DFE8F3\",\"gridwidth\":2,\"linecolor\":\"#EBF0F8\",\"showbackground\":true,\"ticks\":\"\",\"zerolinecolor\":\"#EBF0F8\"},\"zaxis\":{\"backgroundcolor\":\"white\",\"gridcolor\":\"#DFE8F3\",\"gridwidth\":2,\"linecolor\":\"#EBF0F8\",\"showbackground\":true,\"ticks\":\"\",\"zerolinecolor\":\"#EBF0F8\"}},\"shapedefaults\":{\"line\":{\"color\":\"#2a3f5f\"}},\"ternary\":{\"aaxis\":{\"gridcolor\":\"#DFE8F3\",\"linecolor\":\"#A2B1C6\",\"ticks\":\"\"},\"baxis\":{\"gridcolor\":\"#DFE8F3\",\"linecolor\":\"#A2B1C6\",\"ticks\":\"\"},\"bgcolor\":\"white\",\"caxis\":{\"gridcolor\":\"#DFE8F3\",\"linecolor\":\"#A2B1C6\",\"ticks\":\"\"}},\"title\":{\"x\":0.05},\"xaxis\":{\"automargin\":true,\"gridcolor\":\"#EBF0F8\",\"linecolor\":\"#EBF0F8\",\"ticks\":\"\",\"title\":{\"standoff\":15},\"zerolinecolor\":\"#EBF0F8\",\"zerolinewidth\":2},\"yaxis\":{\"automargin\":true,\"gridcolor\":\"#EBF0F8\",\"linecolor\":\"#EBF0F8\",\"ticks\":\"\",\"title\":{\"standoff\":15},\"zerolinecolor\":\"#EBF0F8\",\"zerolinewidth\":2}}},\"xaxis\":{\"anchor\":\"y\",\"domain\":[0.0,0.45],\"title\":{\"text\":\"time\"}},\"yaxis\":{\"anchor\":\"x\",\"domain\":[0.0,1.0],\"title\":{\"text\":\"count\"}},\"xaxis2\":{\"anchor\":\"y2\",\"domain\":[0.55,1.0],\"matches\":\"x\",\"title\":{\"text\":\"time\"}},\"yaxis2\":{\"anchor\":\"x2\",\"domain\":[0.0,1.0],\"matches\":\"y\",\"showticklabels\":false},\"annotations\":[{\"font\":{},\"showarrow\":false,\"text\":\"algorithm=default\",\"x\":0.225,\"xanchor\":\"center\",\"xref\":\"paper\",\"y\":1.0,\"yanchor\":\"bottom\",\"yref\":\"paper\"},{\"font\":{},\"showarrow\":false,\"text\":\"algorithm=hals\",\"x\":0.775,\"xanchor\":\"center\",\"xref\":\"paper\",\"y\":1.0,\"yanchor\":\"bottom\",\"yref\":\"paper\"}],\"legend\":{\"title\":{\"text\":\"algorithm\"},\"tracegroupgap\":0},\"margin\":{\"t\":60},\"barmode\":\"overlay\",\"font\":{\"size\":20}},                        {\"responsive\": true}                    ).then(function(){\n",
       "                            \n",
       "var gd = document.getElementById('a10966fb-fba1-4513-91c9-8de036ad820a');\n",
       "var x = new MutationObserver(function (mutations, observer) {{\n",
       "        var display = window.getComputedStyle(gd).display;\n",
       "        if (!display || display === 'none') {{\n",
       "            console.log([gd, 'removed!']);\n",
       "            Plotly.purge(gd);\n",
       "            observer.disconnect();\n",
       "        }}\n",
       "}});\n",
       "\n",
       "// Listen for the removal of the full notebook cells\n",
       "var notebookContainer = gd.closest('#notebook-container');\n",
       "if (notebookContainer) {{\n",
       "    x.observe(notebookContainer, {childList: true});\n",
       "}}\n",
       "\n",
       "// Listen for the clearing of the current output cell\n",
       "var outputEl = gd.closest('.output');\n",
       "if (outputEl) {{\n",
       "    x.observe(outputEl, {childList: true});\n",
       "}}\n",
       "\n",
       "                        })                };                });            </script>        </div>"
      ]
     },
     "metadata": {},
     "output_type": "display_data"
    }
   ],
   "source": [
    "# distributions of the timings\n",
    "fig = px.histogram(df[df[\"rank_est\"]==4], x=\"time\", facet_col=\"algorithm\", \n",
    "                   barmode=\"overlay\", facet_col_spacing=0.1,\n",
    "                   template=\"plotly_white\",\n",
    "                   color= 'algorithm')\n",
    "fig.update_layout(font = dict(size = 20))\n",
    "\n",
    "fig.show()"
   ]
  },
  {
   "cell_type": "markdown",
   "id": "c3cb6aa1",
   "metadata": {},
   "source": [
    "### A more complicated example: convergence plots\n",
    "Sadly I have not found a convenient way with plotly express to use the lists of errors (i.e. objects) stored in the dataframe.\n",
    "Two solutions:\n",
    "- Use plotly graph_objects, or matplotlib, to do it by hand (meh)\n",
    "- transform df into another DataFrame suited for line plots (one error per iteration per row)\n",
    "\n",
    "Let's do the second one (some pandas manipulation !!)"
   ]
  },
  {
   "cell_type": "code",
   "execution_count": 24,
   "id": "8715671b",
   "metadata": {},
   "outputs": [],
   "source": [
    "# we want to plot error vs iteration vs algorithm vs run\n",
    "# we can discard anything else\n",
    "df2 = pd.DataFrame()\n",
    "for idx_pd,i in enumerate(df[\"rec_error\"]):\n",
    "    for it,j in enumerate(i):\n",
    "        df2=pd.concat([df2, pd.DataFrame({\n",
    "            \"it\":[it],\n",
    "            \"rec_err\":j,\n",
    "            \"algorithm\":df.iloc[idx_pd][\"algorithm\"],\n",
    "            \"run\":df.iloc[idx_pd][\"init_nb\"],\n",
    "            \"rank_est\":df.iloc[idx_pd][\"rank_est\"],\n",
    "        })], ignore_index=True)"
   ]
  },
  {
   "cell_type": "code",
   "execution_count": 25,
   "id": "f6538ae4",
   "metadata": {},
   "outputs": [
    {
     "data": {
      "application/vnd.plotly.v1+json": {
       "config": {
        "plotlyServerURL": "https://plot.ly"
       },
       "data": [
        {
         "hovertemplate": "algorithm=default<br>rank_est=4<br>run=0<br>it=%{x}<br>rec_err=%{y}<extra></extra>",
         "legendgroup": "default",
         "line": {
          "color": "#636efa",
          "dash": "solid"
         },
         "marker": {
          "symbol": "circle"
         },
         "mode": "lines",
         "name": "default",
         "showlegend": true,
         "type": "scattergl",
         "x": [
          0,
          1,
          2,
          3,
          4,
          5,
          6,
          7,
          8,
          9,
          10,
          11,
          12,
          13,
          14,
          15,
          16,
          17,
          18,
          19,
          20,
          21,
          22,
          23,
          24,
          25,
          26,
          27,
          28,
          29,
          30,
          31,
          32,
          33,
          34,
          35,
          36,
          37,
          38,
          39,
          40,
          41,
          42,
          43,
          44,
          45,
          46,
          47,
          48,
          49,
          50,
          51,
          52,
          53,
          54,
          55,
          56,
          57,
          58,
          59,
          60,
          61,
          62,
          63,
          64,
          65,
          66,
          67,
          68,
          69,
          70,
          71,
          72,
          73,
          74,
          75,
          76,
          77,
          78,
          79,
          80,
          81,
          82,
          83,
          84,
          85,
          86,
          87,
          88,
          89,
          90,
          91,
          92,
          93,
          94,
          95,
          96,
          97,
          98,
          99
         ],
         "xaxis": "x7",
         "y": [
          0.16135338106959818,
          0.11910553687611242,
          0.10575279609076324,
          0.09867535161699463,
          0.09466300123058208,
          0.0917246330336827,
          0.08899616640559202,
          0.08628238945221708,
          0.08372894090138672,
          0.08146049880534915,
          0.07942678188168538,
          0.07751022563719573,
          0.07564224443510081,
          0.07381283131347868,
          0.0720275324067668,
          0.07028662297137173,
          0.06861484393067491,
          0.06709939589167209,
          0.06584812584897198,
          0.06488324219971078,
          0.06412929630395979,
          0.06349879637272068,
          0.06294023912530601,
          0.06243224758016519,
          0.06196786504537141,
          0.06154525980152885,
          0.06116369663323844,
          0.060822029897481665,
          0.06051828987579151,
          0.06024974452554218,
          0.06001314874289737,
          0.0598050308659593,
          0.059621939411173025,
          0.05946061959326364,
          0.059318117870213585,
          0.05919182732685417,
          0.05907949129634123,
          0.05897918143440851,
          0.058889262830405256,
          0.05880835472891437,
          0.058735292044633125,
          0.05866909037966726,
          0.05860891563640575,
          0.058554058366538334,
          0.058503912500478115,
          0.05845795789118187,
          0.05841574606044384,
          0.058376888573597775,
          0.05834104754261758,
          0.0583079278406608,
          0.058277270689225,
          0.05824884834761003,
          0.058222459690375705,
          0.05819792650404022,
          0.05817509036983882,
          0.058153810027218186,
          0.05813395913428906,
          0.058115424358249,
          0.058098103741599155,
          0.058081905300222836,
          0.058066745817237995,
          0.05805254980286705,
          0.05803924859551838,
          0.05802677958338965,
          0.058015085529175545,
          0.058004113983097225,
          0.05799381677179687,
          0.05798414955242813,
          0.05797507142296328,
          0.05796654458081205,
          0.05795853402324551,
          0.057951007283903476,
          0.05794393420043752,
          0.05793728670922157,
          0.05793103866337147,
          0.05792516567114201,
          0.057919644951899114,
          0.057914455207464834,
          0.05790957650683893,
          0.05790499018256573,
          0.05790067873733631,
          0.05789662575952072,
          0.0578928158465843,
          0.05788923453541352,
          0.057885868238724984,
          0.05788270418697551,
          0.057879730374959804,
          0.057876935512759936,
          0.05787430898053153,
          0.05787184078664465,
          0.05786952152897184,
          0.05786734235892525,
          0.05786529494800906,
          0.05786337145667223,
          0.05786156450521125,
          0.0578598671466298,
          0.05785827284114875,
          0.057856775432451116,
          0.05785536912527726,
          0.05785404846446754
         ],
         "yaxis": "y7"
        },
        {
         "hovertemplate": "algorithm=default<br>rank_est=4<br>run=1<br>it=%{x}<br>rec_err=%{y}<extra></extra>",
         "legendgroup": "default",
         "line": {
          "color": "#636efa",
          "dash": "solid"
         },
         "marker": {
          "symbol": "circle"
         },
         "mode": "lines",
         "name": "default",
         "showlegend": false,
         "type": "scattergl",
         "x": [
          0,
          1,
          2,
          3,
          4,
          5,
          6,
          7,
          8,
          9,
          10,
          11,
          12,
          13,
          14,
          15,
          16,
          17,
          18,
          19,
          20,
          21,
          22,
          23,
          24,
          25,
          26,
          27,
          28,
          29,
          30,
          31,
          32,
          33,
          34,
          35,
          36,
          37,
          38,
          39,
          40,
          41,
          42,
          43,
          44,
          45,
          46,
          47,
          48,
          49,
          50,
          51,
          52,
          53,
          54,
          55,
          56,
          57,
          58,
          59,
          60,
          61,
          62,
          63,
          64,
          65,
          66,
          67,
          68,
          69,
          70,
          71,
          72,
          73,
          74,
          75,
          76,
          77,
          78,
          79,
          80,
          81,
          82,
          83,
          84,
          85,
          86,
          87,
          88,
          89,
          90,
          91,
          92,
          93,
          94,
          95,
          96,
          97,
          98,
          99
         ],
         "xaxis": "x8",
         "y": [
          0.1387443992530884,
          0.09613659738207948,
          0.08743627349223727,
          0.08423133701178076,
          0.08226142531093888,
          0.08078286316548852,
          0.07947190835371738,
          0.07818094676938761,
          0.07683065614866876,
          0.0753557460098048,
          0.07369113524896663,
          0.07178928271171103,
          0.0696822320831931,
          0.0675623107120383,
          0.06570678331331706,
          0.06421362391540412,
          0.06299637091839419,
          0.0619869245180048,
          0.06116685542403664,
          0.060522025775184604,
          0.06002792632157259,
          0.059654481360176086,
          0.05937262987891706,
          0.0591579257821035,
          0.0589914808627568,
          0.058859466776787786,
          0.0587520981696779,
          0.05866258968040592,
          0.05858628318193468,
          0.05851998638142278,
          0.05846149930727375,
          0.058409287031208394,
          0.0583622585006249,
          0.0583196192200849,
          0.058280773988100026,
          0.05824526297964358,
          0.05821271979063278,
          0.05818284384081991,
          0.058155382123573796,
          0.05813011702889759,
          0.058106858113841545,
          0.05808543644515487,
          0.05806570062611183,
          0.05804751393438738,
          0.05803075220049723,
          0.05801530218681779,
          0.058001060310892555,
          0.057987931610549895,
          0.05797582888338413,
          0.057964671955101986,
          0.057954387046219094,
          0.05794490621579023,
          0.05793616686731374,
          0.057928111305964904,
          0.057920686339171606,
          0.05791384291440007,
          0.05790753578951958,
          0.057901723231676826,
          0.057896366741864734,
          0.05789143080223369,
          0.05788688264414329,
          0.05788269203493231,
          0.05787883108164712,
          0.05787527405036098,
          0.0578719971996454,
          0.05786897862710941,
          0.057866198127748895,
          0.05786363706335787,
          0.05786127824200733,
          0.057859105806702,
          0.057857105132719175,
          0.0578552627326874,
          0.057853566169036426,
          0.05785200397307024,
          0.05785056557028067,
          0.057849241211309674,
          0.057848021908257635,
          0.05784689937580432,
          0.057845865976839085,
          0.05784491467230489,
          0.057844038974792095,
          0.05784323290576319,
          0.057842490956035615,
          0.05784180804925722,
          0.057841179508264624,
          0.05784060102394824,
          0.05784006862657273,
          0.05783957865926867,
          0.057839127753621454,
          0.05783871280705304,
          0.05783833096207869,
          0.05783797958704541,
          0.05783765625844111,
          0.0578373587445634,
          0.05783708499044968,
          0.05783683310394769,
          0.057836601342942495,
          0.05783638810350872,
          0.05783619190904362,
          0.05783601140019389
         ],
         "yaxis": "y8"
        },
        {
         "hovertemplate": "algorithm=default<br>rank_est=4<br>run=2<br>it=%{x}<br>rec_err=%{y}<extra></extra>",
         "legendgroup": "default",
         "line": {
          "color": "#636efa",
          "dash": "solid"
         },
         "marker": {
          "symbol": "circle"
         },
         "mode": "lines",
         "name": "default",
         "showlegend": false,
         "type": "scattergl",
         "x": [
          0,
          1,
          2,
          3,
          4,
          5,
          6,
          7,
          8,
          9,
          10,
          11,
          12,
          13,
          14,
          15,
          16,
          17,
          18,
          19,
          20,
          21,
          22,
          23,
          24,
          25,
          26,
          27,
          28,
          29,
          30,
          31,
          32,
          33,
          34,
          35,
          36,
          37,
          38,
          39,
          40,
          41,
          42,
          43,
          44,
          45,
          46,
          47,
          48,
          49,
          50,
          51,
          52,
          53,
          54,
          55,
          56,
          57,
          58,
          59,
          60,
          61,
          62,
          63,
          64,
          65,
          66,
          67,
          68,
          69,
          70,
          71,
          72,
          73,
          74,
          75,
          76,
          77,
          78,
          79,
          80,
          81,
          82,
          83,
          84,
          85,
          86,
          87,
          88,
          89,
          90,
          91,
          92,
          93,
          94,
          95,
          96,
          97,
          98,
          99
         ],
         "xaxis": "x9",
         "y": [
          0.12090363861923044,
          0.08783467609613639,
          0.08422684941090673,
          0.08168183339214452,
          0.07910716030593078,
          0.07630418159839104,
          0.0736648456458939,
          0.07187653960662146,
          0.0710208242365605,
          0.07063109925704456,
          0.07038752066779912,
          0.07018578081026695,
          0.07000046783871382,
          0.06982537104808345,
          0.069658299421736,
          0.06949777003144493,
          0.06934227871349444,
          0.06919010253012987,
          0.06903920694895108,
          0.06888717129322941,
          0.0687311189717769,
          0.06856765729509812,
          0.0683928397101145,
          0.06820217012333568,
          0.06799067560538806,
          0.06775307837950195,
          0.06748409697858757,
          0.06717889501962804,
          0.06683366989993164,
          0.06644633222478898,
          0.06601717662192849,
          0.06554940151770938,
          0.06504932091078382,
          0.06452614345069423,
          0.0639912773903708,
          0.06345723747550312,
          0.0629363452540763,
          0.062439482879894315,
          0.061975148973406086,
          0.061548972842025526,
          0.06116370834624066,
          0.060819607865119536,
          0.06051501283376697,
          0.060246998178404475,
          0.06001195223572012,
          0.05980603091770521,
          0.059625472582305626,
          0.05946678947357656,
          0.05932686403339001,
          0.059202979475248815,
          0.05909280941471001,
          0.058994385021647694,
          0.05890605222087766,
          0.058826426749325,
          0.05875435149300137,
          0.058688858277416676,
          0.058629134890694816,
          0.0585744973175554,
          0.0585243667491113,
          0.05847825075909866,
          0.05843572800051209,
          0.05839643581386574,
          0.058360060208201794,
          0.05832632775719991,
          0.05829499903124852,
          0.05826586325727051,
          0.05823873395883896,
          0.058213445379361156,
          0.05818984953223174,
          0.05816781375434572,
          0.05814721866574011,
          0.05812795645809427,
          0.05810992945129353,
          0.058093048869445114,
          0.05807723379768675,
          0.058062410288834014,
          0.05804851059475447,
          0.058035472502258205,
          0.05802323875691292,
          0.058011756561271346,
          0.058000977136254545,
          0.057990855336452686,
          0.05798134931154466,
          0.057972420207416095,
          0.057964031901385125,
          0.057956150767115945,
          0.05794874546503578,
          0.057941786755180275,
          0.05793524732941117,
          0.05792910166066217,
          0.057923325867107266,
          0.05791789758940956,
          0.05791279587950155,
          0.05790800109960636,
          0.057903494830198785,
          0.0578992597860399,
          0.05789527973931987,
          0.05789153944912677,
          0.057888024596649997,
          0.057884721725440146
         ],
         "yaxis": "y9"
        },
        {
         "hovertemplate": "algorithm=default<br>rank_est=5<br>run=0<br>it=%{x}<br>rec_err=%{y}<extra></extra>",
         "legendgroup": "default",
         "line": {
          "color": "#636efa",
          "dash": "solid"
         },
         "marker": {
          "symbol": "circle"
         },
         "mode": "lines",
         "name": "default",
         "showlegend": false,
         "type": "scattergl",
         "x": [
          0,
          1,
          2,
          3,
          4,
          5,
          6,
          7,
          8,
          9,
          10,
          11,
          12,
          13,
          14,
          15,
          16,
          17,
          18,
          19,
          20,
          21,
          22,
          23,
          24,
          25,
          26,
          27,
          28,
          29,
          30,
          31,
          32,
          33,
          34,
          35,
          36,
          37,
          38,
          39,
          40,
          41,
          42,
          43,
          44,
          45,
          46,
          47,
          48,
          49,
          50,
          51,
          52,
          53,
          54,
          55,
          56,
          57,
          58,
          59,
          60,
          61,
          62,
          63,
          64,
          65,
          66,
          67,
          68,
          69,
          70,
          71,
          72,
          73,
          74,
          75,
          76,
          77,
          78,
          79,
          80,
          81,
          82,
          83,
          84,
          85,
          86,
          87,
          88,
          89,
          90,
          91,
          92,
          93,
          94,
          95,
          96,
          97,
          98,
          99
         ],
         "xaxis": "x4",
         "y": [
          0.17606326144954407,
          0.08374195332669614,
          0.07569825508714517,
          0.07273498115718591,
          0.07070316681493448,
          0.06922028867820477,
          0.06810141705008516,
          0.06721148648668172,
          0.06644566314895714,
          0.06571718752400411,
          0.06493953192594551,
          0.06400177463706061,
          0.06273828437374171,
          0.0609262807615575,
          0.05847939337086754,
          0.05588302757500729,
          0.053593356496081726,
          0.051165885393451856,
          0.04807067590697963,
          0.044030012371326095,
          0.03907196417681823,
          0.033645578004568424,
          0.028394235377511262,
          0.023796273934761924,
          0.02005653782844274,
          0.017144498078556395,
          0.014919427583872023,
          0.013228840712840582,
          0.01194217222103895,
          0.010954843653232307,
          0.01018572174970518,
          0.009573669329987914,
          0.009073876667566025,
          0.008654254644224557,
          0.008292219164293737,
          0.00797206012627206,
          0.007682921657471899,
          0.0074173192793209625,
          0.007170084027610522,
          0.006937626005199324,
          0.006717427848508823,
          0.006507699560039252,
          0.006307144735585981,
          0.006114802844640229,
          0.005929943053184555,
          0.005751992805332654,
          0.005580489768481045,
          0.005415049448987052,
          0.005255343307006507,
          0.005101083900199792,
          0.004952014736519696,
          0.004807903282745695,
          0.004668536092360866,
          0.004533715360987954,
          0.004403256446351202,
          0.004276986044631939,
          0.004154740815953617,
          0.004036366320490036,
          0.003921716173085563,
          0.0038106513526204827,
          0.003703039623669997,
          0.0035987550422443685,
          0.0034976775246885806,
          0.003399692465736258,
          0.0033046903973783723,
          0.0032125666786714155,
          0.003123221213488771,
          0.0030365581926755343,
          0.002952485854168264,
          0.0028709162634001886,
          0.0027917651073643564,
          0.0027149515054717983,
          0.0026403978312726692,
          0.002568029546413158,
          0.0024977750469016846,
          0.0024295655168949833,
          0.0023633347935705304,
          0.0022990192390262803,
          0.0022365576207467983,
          0.0021758909993351283,
          0.0021169626212960407,
          0.0020597178205158757,
          0.002004103923361459,
          0.0019500701597623326,
          0.0018975675800336927,
          0.0018465489745845584,
          0.00179696879956997,
          0.0017487831059218716,
          0.0017019494719842806,
          0.0016564269397100762,
          0.0016121759546838769,
          0.0015691583078755451,
          0.0015273370824346944,
          0.0014866766007392439,
          0.0014471423758402769,
          0.0014087010650861084,
          0.0013713204241325534,
          0.0013349692661614326,
          0.0012996174204092609,
          0.0012652356937934463
         ],
         "yaxis": "y4"
        },
        {
         "hovertemplate": "algorithm=default<br>rank_est=5<br>run=1<br>it=%{x}<br>rec_err=%{y}<extra></extra>",
         "legendgroup": "default",
         "line": {
          "color": "#636efa",
          "dash": "solid"
         },
         "marker": {
          "symbol": "circle"
         },
         "mode": "lines",
         "name": "default",
         "showlegend": false,
         "type": "scattergl",
         "x": [
          0,
          1,
          2,
          3,
          4,
          5,
          6,
          7,
          8,
          9,
          10,
          11,
          12,
          13,
          14,
          15,
          16,
          17,
          18,
          19,
          20,
          21,
          22,
          23,
          24,
          25,
          26,
          27,
          28,
          29,
          30,
          31,
          32,
          33,
          34,
          35,
          36,
          37,
          38,
          39,
          40,
          41,
          42,
          43,
          44,
          45,
          46,
          47,
          48,
          49,
          50,
          51,
          52,
          53,
          54,
          55,
          56,
          57,
          58,
          59,
          60,
          61,
          62,
          63,
          64,
          65,
          66,
          67,
          68,
          69,
          70,
          71,
          72,
          73,
          74,
          75,
          76,
          77,
          78,
          79,
          80,
          81,
          82,
          83,
          84,
          85,
          86,
          87,
          88,
          89,
          90,
          91,
          92,
          93,
          94,
          95,
          96,
          97,
          98,
          99
         ],
         "xaxis": "x5",
         "y": [
          0.13145918977348373,
          0.0908001968085309,
          0.08061309934599191,
          0.07536295489858232,
          0.07109878473268692,
          0.06712824012990912,
          0.06304034224525801,
          0.057896454538339644,
          0.05081909703460676,
          0.04228727024264647,
          0.033954935927910025,
          0.027934989310624925,
          0.024348812941068762,
          0.022001556564753295,
          0.020252593089648857,
          0.018863302338268977,
          0.017720549712598645,
          0.016755821793146584,
          0.015923101804666426,
          0.015190310059182012,
          0.014534695454269749,
          0.013939923340222714,
          0.013394125304715598,
          0.012888566672469194,
          0.012416728628518982,
          0.011973672633117188,
          0.011555597948978634,
          0.011159531642256706,
          0.010783109765271337,
          0.01042442159650324,
          0.010081897753309813,
          0.009754229053363076,
          0.00944030710294483,
          0.009139180370687625,
          0.008850021399512067,
          0.00857210210147737,
          0.008304774970582867,
          0.0080474586661243,
          0.007799626849206653,
          0.007560799460439584,
          0.007330535841693694,
          0.007108429262191125,
          0.00689410251882941,
          0.006687204366283646,
          0.006487406589599533,
          0.006294401579676557,
          0.006107900303228955,
          0.005927630585190711,
          0.005753335640897431,
          0.005584772808452958,
          0.00542171244279206,
          0.005263936943673401,
          0.005111239892175107,
          0.004963425278662005,
          0.004820306808163694,
          0.004681707270161595,
          0.004547457964987582,
          0.004417398178431713,
          0.004291374699410044,
          0.0041692413742405975,
          0.004050858695223499,
          0.003936093418501127,
          0.0038248182090555288,
          0.003716911310748687,
          0.003612256237209846,
          0.0035107414852160387,
          0.0034122602650226725,
          0.0033167102491659874,
          0.003223993336892459,
          0.0031340154328724245,
          0.003046686241178933,
          0.0029619190704313204,
          0.0028796306519997925,
          0.002799740968210863,
          0.0027221730923570565,
          0.0026468530367883677,
          0.002573709611188589,
          0.0025026742888625956,
          0.002433681080484199,
          0.0023666664155025004,
          0.0023015690311250932,
          0.002238329865800407,
          0.002176891961225554,
          0.002117200367406701,
          0.0020592020554412067,
          0.002002845832700247,
          0.0019480822646192632,
          0.001894863599931028,
          0.0018431436999646331,
          0.0017928779717399151,
          0.0017440233046345755,
          0.001696538010260746,
          0.0016503817659604192,
          0.001605515559751447,
          0.0015619016406288933,
          0.0015195034687005117,
          0.0014782856690230297,
          0.0014382139878300467,
          0.0013992552502730823,
          0.001361377321070042
         ],
         "yaxis": "y5"
        },
        {
         "hovertemplate": "algorithm=default<br>rank_est=5<br>run=2<br>it=%{x}<br>rec_err=%{y}<extra></extra>",
         "legendgroup": "default",
         "line": {
          "color": "#636efa",
          "dash": "solid"
         },
         "marker": {
          "symbol": "circle"
         },
         "mode": "lines",
         "name": "default",
         "showlegend": false,
         "type": "scattergl",
         "x": [
          0,
          1,
          2,
          3,
          4,
          5,
          6,
          7,
          8,
          9,
          10,
          11,
          12,
          13,
          14,
          15,
          16,
          17,
          18,
          19,
          20,
          21,
          22,
          23,
          24,
          25,
          26,
          27,
          28,
          29,
          30,
          31,
          32,
          33,
          34,
          35,
          36,
          37,
          38,
          39,
          40,
          41,
          42,
          43,
          44,
          45,
          46,
          47,
          48,
          49,
          50,
          51,
          52,
          53,
          54,
          55,
          56,
          57,
          58,
          59,
          60,
          61,
          62,
          63,
          64,
          65,
          66,
          67,
          68,
          69,
          70,
          71,
          72,
          73,
          74,
          75,
          76,
          77,
          78,
          79,
          80,
          81,
          82,
          83,
          84,
          85,
          86,
          87,
          88,
          89,
          90,
          91,
          92,
          93,
          94,
          95,
          96,
          97,
          98,
          99
         ],
         "xaxis": "x6",
         "y": [
          0.13673914641573412,
          0.08350049685702468,
          0.07651479180078477,
          0.07167669845407575,
          0.06727518371331422,
          0.0632992090050397,
          0.05974222866926564,
          0.05641284025129642,
          0.05295673448493436,
          0.048927254292140794,
          0.043905087953572286,
          0.03795846743705784,
          0.03224704138108458,
          0.02787960382499737,
          0.024736442348552472,
          0.022366947510223736,
          0.020469831468090047,
          0.018881228312514136,
          0.01751460006813301,
          0.016320504787324698,
          0.015266815978363742,
          0.014330191558763895,
          0.01349245427652088,
          0.012738925113111062,
          0.012057528535638514,
          0.011438228652734113,
          0.010872630918187253,
          0.010353681757323567,
          0.009875433717926521,
          0.009432857760457512,
          0.009021690911222124,
          0.008638311202799471,
          0.008279634150474606,
          0.007943026551113152,
          0.007626234433699935,
          0.007327322709598952,
          0.0070446245765443385,
          0.006776699095241343,
          0.006522295633192359,
          0.006280324082010545,
          0.006049829929039275,
          0.005829973402920551,
          0.0056200120358168015,
          0.005419286084083049,
          0.005227206337567998,
          0.005043243921756975,
          0.00486692176083567,
          0.004697807422165316,
          0.004535507111708019,
          0.004379660624882025,
          0.004229937092688,
          0.004086031388876841,
          0.003947661087171322,
          0.0038145638765672563,
          0.003686495358131063,
          0.003563227161121305,
          0.003444545324438338,
          0.0033302489021311433,
          0.003220148755761369,
          0.0031140665044452733,
          0.003011833607809813,
          0.0029132905616930586,
          0.002818286188048089,
          0.0027266770085899346,
          0.002638326685486269,
          0.002553105522468664,
          0.002470890017737918,
          0.0023915624603022953,
          0.0023150105657344334,
          0.0022411271442105037,
          0.002169809799176802,
          0.0021009606504227866,
          0.00203448608156826,
          0.001970296505697726,
          0.0019083061499624726,
          0.0018484328569412936,
          0.0017905978984503234,
          0.0017347258036694597,
          0.0016807441985204974,
          0.001628583654797813,
          0.0015781775503535492,
          0.0015294619369736959,
          0.001482375416141366,
          0.00143685902296652,
          0.001392856115518712,
          0.001350312271807339,
          0.0013091751913707963,
          0.001269394603460907,
          0.0012309221775820291,
          0.0011937114420586111,
          0.0011577177042215447,
          0.001122897975343795,
          0.0010892108999146575,
          0.0010566166875985493,
          0.0010250770485348913,
          0.0009945551322161309,
          0.00096501546885227,
          0.0009364239134439423,
          0.0009087475922802608,
          0.000881954852822292
         ],
         "yaxis": "y6"
        },
        {
         "hovertemplate": "algorithm=default<br>rank_est=6<br>run=0<br>it=%{x}<br>rec_err=%{y}<extra></extra>",
         "legendgroup": "default",
         "line": {
          "color": "#636efa",
          "dash": "solid"
         },
         "marker": {
          "symbol": "circle"
         },
         "mode": "lines",
         "name": "default",
         "showlegend": false,
         "type": "scattergl",
         "x": [
          0,
          1,
          2,
          3,
          4,
          5,
          6,
          7,
          8,
          9,
          10,
          11,
          12,
          13,
          14,
          15,
          16,
          17,
          18,
          19,
          20,
          21,
          22,
          23,
          24,
          25,
          26,
          27,
          28,
          29,
          30,
          31,
          32,
          33,
          34,
          35,
          36,
          37,
          38,
          39,
          40,
          41,
          42,
          43,
          44,
          45,
          46,
          47,
          48,
          49,
          50,
          51,
          52,
          53,
          54,
          55,
          56,
          57,
          58,
          59,
          60,
          61,
          62,
          63,
          64,
          65,
          66,
          67,
          68,
          69,
          70,
          71,
          72,
          73,
          74,
          75,
          76,
          77,
          78,
          79,
          80,
          81,
          82,
          83,
          84,
          85,
          86,
          87,
          88,
          89,
          90,
          91,
          92,
          93,
          94,
          95,
          96,
          97,
          98,
          99
         ],
         "xaxis": "x",
         "y": [
          0.136643663656339,
          0.08910767795340095,
          0.06827652856744618,
          0.059030450169277035,
          0.05503321236407003,
          0.052447673289870524,
          0.05019436591552575,
          0.048005827669981724,
          0.04579436821211124,
          0.04351453249478043,
          0.041121425476894756,
          0.03856901228920371,
          0.03589279288055468,
          0.03347985080770964,
          0.03185004520049942,
          0.030871608346150072,
          0.030206570097823536,
          0.029692329941805568,
          0.029260520295424697,
          0.02887728369153288,
          0.028523677248982422,
          0.02818806488715954,
          0.02786274010561314,
          0.0275423203141706,
          0.0272229381527164,
          0.026901812264980385,
          0.026577005489912986,
          0.0262472746697778,
          0.025911960402186535,
          0.025570887789793804,
          0.025224263194884248,
          0.024872562147291128,
          0.02451641131389406,
          0.02415647268699185,
          0.023793340376755283,
          0.02342745949739198,
          0.023059073257073827,
          0.02268819975804714,
          0.022314635619560933,
          0.021937980449459982,
          0.021557674875774212,
          0.021173045155579263,
          0.02078334876147784,
          0.02038781717714437,
          0.01998569390449761,
          0.019576267103309397,
          0.019158897250431402,
          0.018733040752118128,
          0.018298270654277943,
          0.017854295566083738,
          0.01740097771546285,
          0.0169383507355046,
          0.01646663736889842,
          0.01598626678429331,
          0.015497890648644952,
          0.015002396521091171,
          0.014500916590496264,
          0.013994829355951798,
          0.013485751664820704,
          0.01297551870640453,
          0.012466150219867191,
          0.011959802354599335,
          0.011458706251908774,
          0.01096509627868001,
          0.010481132598039152,
          0.010008824022659586,
          0.009549957563377919,
          0.009106040684163251,
          0.008678261182496889,
          0.00826746822387686,
          0.00787417678976819,
          0.007498596904793475,
          0.007140688388093646,
          0.0068002409299116945,
          0.006476976872474549,
          0.006170668646945572,
          0.005881253284555099,
          0.005608913939372307,
          0.005354088888875147,
          0.005117373439934265,
          0.004899310640507385,
          0.004700119659166934,
          0.004519458382806529,
          0.004356319622379813,
          0.004209104104130228,
          0.004075832092662023,
          0.003954403948611142,
          0.0038428238782790545,
          0.0037393419405202357,
          0.0036425122393266072,
          0.0035511895680947546,
          0.0034644918407554176,
          0.0033817499894316185,
          0.003302458604833123,
          0.003226233628314474,
          0.0031527789210464086,
          0.003081861214801409,
          0.0030132920018061627,
          0.0029469147612228024,
          0.0028825960911548383
         ],
         "yaxis": "y"
        },
        {
         "hovertemplate": "algorithm=default<br>rank_est=6<br>run=1<br>it=%{x}<br>rec_err=%{y}<extra></extra>",
         "legendgroup": "default",
         "line": {
          "color": "#636efa",
          "dash": "solid"
         },
         "marker": {
          "symbol": "circle"
         },
         "mode": "lines",
         "name": "default",
         "showlegend": false,
         "type": "scattergl",
         "x": [
          0,
          1,
          2,
          3,
          4,
          5,
          6,
          7,
          8,
          9,
          10,
          11,
          12,
          13,
          14,
          15,
          16,
          17,
          18,
          19,
          20,
          21,
          22,
          23,
          24,
          25,
          26,
          27,
          28,
          29,
          30,
          31,
          32,
          33,
          34,
          35,
          36,
          37,
          38,
          39,
          40,
          41,
          42,
          43,
          44,
          45,
          46,
          47,
          48,
          49,
          50,
          51,
          52,
          53,
          54,
          55,
          56,
          57,
          58,
          59,
          60,
          61,
          62,
          63,
          64,
          65,
          66,
          67,
          68,
          69,
          70,
          71,
          72,
          73,
          74,
          75,
          76,
          77,
          78,
          79,
          80,
          81,
          82,
          83,
          84,
          85,
          86,
          87,
          88,
          89,
          90,
          91,
          92,
          93,
          94,
          95,
          96,
          97,
          98,
          99
         ],
         "xaxis": "x2",
         "y": [
          0.1024241390109571,
          0.0758443799193823,
          0.06952597762885875,
          0.06549115427516136,
          0.06231621638081411,
          0.059434549268185394,
          0.056687345940717185,
          0.05422310185688248,
          0.052120149453657345,
          0.05014581671728542,
          0.04784282568347898,
          0.0445367217766495,
          0.039470587978994214,
          0.033490745477643115,
          0.028986138233019064,
          0.025909525266146278,
          0.02362416201856309,
          0.021821504077032854,
          0.020324531985497964,
          0.01903240595118237,
          0.017889757130261703,
          0.01686529583250074,
          0.015939818876474287,
          0.015100178897900347,
          0.014336368618092019,
          0.013640127879297467,
          0.013004282295150972,
          0.012422431752719466,
          0.011888803682343048,
          0.011398180707182733,
          0.010945858916722931,
          0.010527616353778474,
          0.010139682991181257,
          0.009778709196623245,
          0.009441732337114142,
          0.009126142254860104,
          0.008829646651413997,
          0.008550237354801425,
          0.008286158241571522,
          0.008035875346869267,
          0.007798049474904104,
          0.007571511443942551,
          0.007355239961683983,
          0.007148342032695812,
          0.0069500357366956604,
          0.006759635182917515,
          0.006576537428263148,
          0.006400211147881938,
          0.006230186851611369,
          0.006066048455982431,
          0.005907426035767175,
          0.005753989596623741,
          0.005605443730181671,
          0.005461523027500267,
          0.005321988142942142,
          0.005186622417005136,
          0.005055228975683422,
          0.004927628238606825,
          0.004803655776279484,
          0.0046831604650522515,
          0.004566002898502465,
          0.0044520540150128065,
          0.0043411939137890316,
          0.004233310829086477,
          0.004128300242380507,
          0.004026064111529333,
          0.003926510200122474,
          0.0038295514941025332,
          0.003735105692568729,
          0.0036430947621830757,
          0.0035534445479779345,
          0.003466084429674392,
          0.003380947022086246,
          0.0032979679085371467,
          0.0032170854065594764,
          0.003138240360010163,
          0.0030613759546186366,
          0.0029864375532491433,
          0.002913372549367645,
          0.00284213023556951,
          0.0027726616859161026,
          0.0027049196493520835,
          0.0026388584541703728,
          0.0025744339207521227,
          0.002511603283578751,
          0.002450325118341821,
          0.0023905592769052136,
          0.002332266827603677,
          0.0022754099989097426,
          0.002219952129204136,
          0.0021658576195572195,
          0.0021130918902091504,
          0.002061621339413565,
          0.002011413306333469,
          0.0019624360349814393,
          0.0019146586414560641,
          0.001868051082879058,
          0.0018225841276893508,
          0.0017782293287407895,
          0.0017349589961733556
         ],
         "yaxis": "y2"
        },
        {
         "hovertemplate": "algorithm=default<br>rank_est=6<br>run=2<br>it=%{x}<br>rec_err=%{y}<extra></extra>",
         "legendgroup": "default",
         "line": {
          "color": "#636efa",
          "dash": "solid"
         },
         "marker": {
          "symbol": "circle"
         },
         "mode": "lines",
         "name": "default",
         "showlegend": false,
         "type": "scattergl",
         "x": [
          0,
          1,
          2,
          3,
          4,
          5,
          6,
          7,
          8,
          9,
          10,
          11,
          12,
          13,
          14,
          15,
          16,
          17,
          18,
          19,
          20,
          21,
          22,
          23,
          24,
          25,
          26,
          27,
          28,
          29,
          30,
          31,
          32,
          33,
          34,
          35,
          36,
          37,
          38,
          39,
          40,
          41,
          42,
          43,
          44,
          45,
          46,
          47,
          48,
          49,
          50,
          51,
          52,
          53,
          54,
          55,
          56,
          57,
          58,
          59,
          60,
          61,
          62,
          63,
          64,
          65,
          66,
          67,
          68,
          69,
          70,
          71,
          72,
          73,
          74,
          75,
          76,
          77,
          78,
          79,
          80,
          81,
          82,
          83,
          84,
          85,
          86,
          87,
          88,
          89,
          90,
          91,
          92,
          93,
          94,
          95,
          96,
          97,
          98,
          99
         ],
         "xaxis": "x3",
         "y": [
          0.10845708629202021,
          0.06725182689317492,
          0.057904172054577,
          0.051403187916035376,
          0.04558311679427007,
          0.0402694345934442,
          0.03547619896380003,
          0.03141103688871867,
          0.02825658740754018,
          0.02592852102718964,
          0.024198521144810373,
          0.022860561038495725,
          0.021778338689179062,
          0.020871774607521407,
          0.020094240487878223,
          0.019416791464441342,
          0.01881972833463672,
          0.018288526586232562,
          0.017811900089351018,
          0.01738082403069346,
          0.016987980231829316,
          0.01662739577334657,
          0.016294179955604716,
          0.015984319777537923,
          0.015694515931085794,
          0.01542204978743678,
          0.01516467524408344,
          0.014920530844338776,
          0.014688068468014931,
          0.014465995533144756,
          0.0142532281760057,
          0.014048853322249468,
          0.01385209794426883,
          0.013662304117468103,
          0.013478908753592589,
          0.013301427105607602,
          0.013129439315833378,
          0.012962579421050675,
          0.0128005263440202,
          0.012642996492529472,
          0.012489737661445854,
          0.012340523992853765,
          0.012195151796222421,
          0.012053436069049175,
          0.011915207588937148,
          0.011780310472273695,
          0.011648600115040764,
          0.011519941446128971,
          0.011394207437492695,
          0.011271277825413397,
          0.011151038005109101,
          0.011033378068800464,
          0.010918191962405266,
          0.010805376740592544,
          0.010694831904076569,
          0.010586458806651499,
          0.01048016012112146,
          0.010375839356799433,
          0.010273400422369686,
          0.010172747230331762,
          0.01007378334053551,
          0.0099764116417555,
          0.009880534071658554,
          0.009786051376912071,
          0.009692862916039713,
          0.009600866508824453,
          0.009509958337724648,
          0.009420032906015981,
          0.009330983060849514,
          0.009242700087204105,
          0.009155073880989862,
          0.009067993209629963,
          0.008981346067295313,
          0.008895020132363889,
          0.008808903333262256,
          0.008722884526956276,
          0.00863685429183423,
          0.008550705834951535,
          0.008464336007098195,
          0.008377646417208286,
          0.008290544630604565,
          0.008202945429210316,
          0.00811477210759915,
          0.008025957769634504,
          0.00793644658672885,
          0.007846194972020364,
          0.007755172622234577,
          0.007663363376849826,
          0.007570765844662922,
          0.00747739375313683,
          0.007383275981682772,
          0.007288456251983865,
          0.007192992461254703,
          0.007096955660377013,
          0.00700042869705365,
          0.006903504560849208,
          0.0068062844842861295,
          0.006708875866778715,
          0.006611390100578893,
          0.0065139403788332904
         ],
         "yaxis": "y3"
        },
        {
         "hovertemplate": "algorithm=hals<br>rank_est=4<br>run=0<br>it=%{x}<br>rec_err=%{y}<extra></extra>",
         "legendgroup": "hals",
         "line": {
          "color": "#EF553B",
          "dash": "solid"
         },
         "marker": {
          "symbol": "circle"
         },
         "mode": "lines",
         "name": "hals",
         "showlegend": true,
         "type": "scattergl",
         "x": [
          0,
          1,
          2,
          3,
          4,
          5,
          6,
          7,
          8,
          9,
          10,
          11,
          12,
          13,
          14,
          15,
          16,
          17,
          18,
          19,
          20,
          21,
          22,
          23,
          24,
          25,
          26,
          27,
          28,
          29,
          30,
          31,
          32,
          33,
          34,
          35,
          36,
          37,
          38,
          39,
          40,
          41,
          42,
          43,
          44,
          45,
          46,
          47,
          48,
          49,
          50,
          51,
          52,
          53,
          54,
          55,
          56,
          57,
          58,
          59,
          60,
          61,
          62,
          63,
          64,
          65,
          66,
          67,
          68,
          69,
          70,
          71,
          72,
          73,
          74,
          75,
          76,
          77,
          78,
          79,
          80,
          81,
          82,
          83,
          84,
          85,
          86,
          87,
          88,
          89,
          90,
          91,
          92,
          93
         ],
         "xaxis": "x7",
         "y": [
          0.17067386434147208,
          0.10696447543733074,
          0.0856144735974796,
          0.07614209464522148,
          0.07122941607572075,
          0.06856911483492081,
          0.06707419757495126,
          0.066135218231194,
          0.06538155125704359,
          0.06469938358464566,
          0.06406641939811052,
          0.06347866787944825,
          0.06292516728244821,
          0.0624010267890973,
          0.06190551611314419,
          0.06144012736847829,
          0.06100729204051838,
          0.06060945391043604,
          0.0602484443388935,
          0.05992511966374269,
          0.059639225982770716,
          0.05938944554160854,
          0.059173569422573846,
          0.05898873917797647,
          0.05883170672773325,
          0.058699074589388,
          0.058587493341821506,
          0.058493806724069765,
          0.058415144957522654,
          0.05834897320724068,
          0.058293105013110504,
          0.058245690939424805,
          0.05820519159003099,
          0.05817034232670715,
          0.05814011507555941,
          0.05811368083854985,
          0.0580903750943993,
          0.058069667205483046,
          0.05805113421078882,
          0.05803443891643039,
          0.058019311927640635,
          0.058005537138448734,
          0.05799294015876008,
          0.05798137917737063,
          0.05797073780697511,
          0.057960919518093235,
          0.0579518433311408,
          0.057943440495275035,
          0.05793565193459035,
          0.05792842628731903,
          0.05792171840075689,
          0.05791548817478347,
          0.05790969967116773,
          0.057904320425077815,
          0.0578993209099201,
          0.057894674118488205,
          0.057890355232323325,
          0.05788634135780976,
          0.05788261131320628,
          0.057879145454200816,
          0.057875925529173394,
          0.057872934557119185,
          0.05787015672324008,
          0.05786757728827788,
          0.05786518250873753,
          0.057863000904212855,
          0.05786108498176115,
          0.057859380982459095,
          0.05785786542401817,
          0.05785651534954518,
          0.0578553112989847,
          0.05785423652346693,
          0.057853276469352864,
          0.05785241838486138,
          0.057851651037923425,
          0.057850964502590224,
          0.05785034998864491,
          0.057849799700401876,
          0.0578493067168171,
          0.057848864888193186,
          0.057848468746291154,
          0.05784811342581545,
          0.057847794595428756,
          0.057847508397130855,
          0.057847251392786236,
          0.05784702051699679,
          0.05784681303541808,
          0.057846626507950485,
          0.0578464587561321,
          0.05784630783430506,
          0.05784617200401182,
          0.057846049711344605,
          0.05784593956682331,
          0.057845840327500606
         ],
         "yaxis": "y7"
        },
        {
         "hovertemplate": "algorithm=hals<br>rank_est=4<br>run=1<br>it=%{x}<br>rec_err=%{y}<extra></extra>",
         "legendgroup": "hals",
         "line": {
          "color": "#EF553B",
          "dash": "solid"
         },
         "marker": {
          "symbol": "circle"
         },
         "mode": "lines",
         "name": "hals",
         "showlegend": false,
         "type": "scattergl",
         "x": [
          0,
          1,
          2,
          3,
          4,
          5,
          6,
          7,
          8,
          9,
          10,
          11,
          12,
          13,
          14,
          15,
          16,
          17,
          18,
          19,
          20,
          21,
          22,
          23,
          24,
          25,
          26,
          27,
          28,
          29,
          30,
          31,
          32,
          33,
          34,
          35,
          36,
          37,
          38,
          39,
          40,
          41,
          42,
          43,
          44,
          45,
          46,
          47,
          48,
          49,
          50,
          51,
          52,
          53,
          54,
          55,
          56,
          57,
          58,
          59,
          60,
          61,
          62,
          63,
          64,
          65,
          66,
          67,
          68,
          69,
          70,
          71,
          72,
          73,
          74,
          75,
          76,
          77,
          78,
          79,
          80,
          81,
          82,
          83,
          84,
          85,
          86,
          87,
          88,
          89,
          90,
          91,
          92,
          93,
          94,
          95,
          96,
          97,
          98,
          99
         ],
         "xaxis": "x8",
         "y": [
          0.15332801622433792,
          0.11043837002145528,
          0.09842988186171372,
          0.0850946567207364,
          0.07866501376960745,
          0.07620771656926333,
          0.07505484078043735,
          0.07438406331038057,
          0.07387164903556197,
          0.07341946979504002,
          0.07299965389582522,
          0.07260129238694613,
          0.07221543146593887,
          0.07183153495830856,
          0.07144381128447419,
          0.07104652651261832,
          0.07063399683748081,
          0.07020069838504273,
          0.06974149535049148,
          0.0692519680974089,
          0.06872883789557237,
          0.06817045383391998,
          0.06757686786940902,
          0.06694945033061701,
          0.06629283977685047,
          0.06561457165988978,
          0.06492616879194857,
          0.06424071800559983,
          0.06357161820618157,
          0.06293127694726787,
          0.06233005291076384,
          0.061775586111426854,
          0.06127256437157555,
          0.06082287274297881,
          0.060426009685989344,
          0.060079638129590086,
          0.059780154251762384,
          0.059522072919077615,
          0.059299025577110566,
          0.05910625370859006,
          0.05893979125121835,
          0.05879619624213199,
          0.05867240132387351,
          0.058565696950558306,
          0.05847370801903235,
          0.05839436648941435,
          0.058325881082797286,
          0.05826670659055505,
          0.05821551431323562,
          0.05817116451276092,
          0.05813268132861687,
          0.05809923032274668,
          0.05807009863266418,
          0.05804467759932926,
          0.058022447673708163,
          0.05800299033288031,
          0.05798617700116955,
          0.05797168205713818,
          0.05795902450090371,
          0.05794786933652585,
          0.05793796300538135,
          0.05792911103245433,
          0.05792116098664959,
          0.05791400017198198,
          0.057907578917739504,
          0.057901788798416204,
          0.057896539769390735,
          0.05789176281869079,
          0.05788740192643444,
          0.05788341063583982,
          0.057879749830652014,
          0.05787638615213654,
          0.05787329084015895,
          0.057870438867287294,
          0.05786780827831523,
          0.057865379677343017,
          0.057863246171456786,
          0.05786136329439904,
          0.057859693326803394,
          0.057858209001072324,
          0.05785688670398131,
          0.05785570648555697,
          0.05785465133830429,
          0.05785370663766625,
          0.05785285971909864,
          0.057852099557519084,
          0.05785141651629451,
          0.057850802145155644,
          0.05785024901402215,
          0.0578497505742681,
          0.05784930104189978,
          0.05784889529830896,
          0.05784852880561238,
          0.05784819753401237,
          0.05784789789934733,
          0.05784762670914808,
          0.057847381115938165,
          0.05784715857668278,
          0.05784695681750268,
          0.05784677380288308
         ],
         "yaxis": "y8"
        },
        {
         "hovertemplate": "algorithm=hals<br>rank_est=4<br>run=2<br>it=%{x}<br>rec_err=%{y}<extra></extra>",
         "legendgroup": "hals",
         "line": {
          "color": "#EF553B",
          "dash": "solid"
         },
         "marker": {
          "symbol": "circle"
         },
         "mode": "lines",
         "name": "hals",
         "showlegend": false,
         "type": "scattergl",
         "x": [
          0,
          1,
          2,
          3,
          4,
          5,
          6,
          7,
          8,
          9,
          10,
          11,
          12,
          13,
          14,
          15,
          16,
          17,
          18,
          19,
          20,
          21,
          22,
          23,
          24,
          25,
          26,
          27,
          28,
          29,
          30,
          31,
          32,
          33,
          34,
          35,
          36,
          37,
          38,
          39,
          40,
          41,
          42,
          43,
          44,
          45,
          46,
          47,
          48,
          49,
          50,
          51,
          52,
          53,
          54,
          55,
          56,
          57,
          58,
          59,
          60,
          61,
          62,
          63,
          64,
          65,
          66,
          67,
          68,
          69,
          70,
          71,
          72,
          73,
          74,
          75,
          76,
          77,
          78,
          79,
          80,
          81,
          82,
          83,
          84,
          85,
          86,
          87,
          88,
          89,
          90,
          91,
          92,
          93,
          94,
          95,
          96,
          97,
          98,
          99
         ],
         "xaxis": "x9",
         "y": [
          0.14479124942844213,
          0.07672183860423348,
          0.07353075868266605,
          0.07283908176182632,
          0.0724601314188529,
          0.07218535064883479,
          0.07195267935801952,
          0.07174128600120833,
          0.07154118461567449,
          0.07134503843814635,
          0.07114577078560043,
          0.07093585467745443,
          0.07071153627933345,
          0.07046769142231858,
          0.07019421608247103,
          0.0698802355736696,
          0.06951439966335597,
          0.06908561031470921,
          0.06858458278959655,
          0.06800606477947112,
          0.06735135319190057,
          0.06663027048212802,
          0.06586148649167214,
          0.0650704194829116,
          0.06428463246683737,
          0.06352344125968705,
          0.06280676662675483,
          0.062150527947231096,
          0.06156334583198435,
          0.06104718824108348,
          0.0605991608243057,
          0.06021351602518051,
          0.05988326791157432,
          0.0596037905303242,
          0.05936605774729074,
          0.05916305133510947,
          0.05898946440035628,
          0.0588409420959809,
          0.05871382343891384,
          0.05860497242216433,
          0.05851168204413587,
          0.05843160815068081,
          0.05836276477195428,
          0.058303414001183204,
          0.05825209490091281,
          0.05820757408783439,
          0.058168815280591465,
          0.05813495018303021,
          0.05810525257103296,
          0.05807911542924872,
          0.05805603120389888,
          0.0580355749737673,
          0.05801739025723672,
          0.05800117714553294,
          0.05798668249906759,
          0.05797369182845941,
          0.05796202153431112,
          0.05795151269671352,
          0.05794203228550435,
          0.05793346440739269,
          0.05792570930938668,
          0.05791868012659435,
          0.05791230095100936,
          0.057906505183125866,
          0.05790123416860812,
          0.05789643606284714,
          0.05789206488567193,
          0.0578880797313497,
          0.05788444410517477,
          0.05788112536363984,
          0.05787809423940381,
          0.0578753244363486,
          0.05787279228248963,
          0.057870476431165496,
          0.05786835760243995,
          0.0578664183584214,
          0.057864642907139024,
          0.057863016930693505,
          0.05786152743411491,
          0.05786016261193688,
          0.05785891173012578,
          0.057857765021173,
          0.05785671359068648,
          0.05785574933407668,
          0.05785486486196982,
          0.05785405343334759,
          0.057853308895571456,
          0.05785262563033456,
          0.05785199850503869,
          0.05785142282889318,
          0.05785089431327586,
          0.0578504090358566,
          0.05784996340814837,
          0.05784955414606245,
          0.05784917824323577,
          0.05784883294676591,
          0.057848515735249045,
          0.057848224298698805,
          0.057847956520388516,
          0.05784771046022989
         ],
         "yaxis": "y9"
        },
        {
         "hovertemplate": "algorithm=hals<br>rank_est=5<br>run=0<br>it=%{x}<br>rec_err=%{y}<extra></extra>",
         "legendgroup": "hals",
         "line": {
          "color": "#EF553B",
          "dash": "solid"
         },
         "marker": {
          "symbol": "circle"
         },
         "mode": "lines",
         "name": "hals",
         "showlegend": false,
         "type": "scattergl",
         "x": [
          0,
          1,
          2,
          3,
          4,
          5,
          6,
          7,
          8,
          9,
          10,
          11,
          12,
          13,
          14,
          15,
          16,
          17,
          18,
          19,
          20,
          21,
          22,
          23,
          24,
          25,
          26,
          27,
          28,
          29,
          30,
          31,
          32,
          33,
          34,
          35,
          36,
          37,
          38,
          39,
          40,
          41,
          42,
          43,
          44,
          45,
          46,
          47,
          48,
          49,
          50,
          51,
          52,
          53,
          54,
          55,
          56,
          57,
          58,
          59,
          60,
          61,
          62,
          63,
          64,
          65,
          66,
          67,
          68,
          69,
          70,
          71,
          72,
          73,
          74,
          75,
          76,
          77,
          78,
          79,
          80,
          81,
          82,
          83,
          84,
          85,
          86,
          87,
          88,
          89,
          90,
          91,
          92,
          93,
          94,
          95,
          96,
          97,
          98,
          99
         ],
         "xaxis": "x4",
         "y": [
          0.1682406029688855,
          0.09115272739385925,
          0.07438127924315024,
          0.06781405281581118,
          0.06336960416569672,
          0.057423712318357696,
          0.05158939687694012,
          0.04812217997492901,
          0.046168220961422944,
          0.04461736670568564,
          0.0430982621867383,
          0.04148973131298997,
          0.03971146568697299,
          0.03770387290346263,
          0.03543443807138801,
          0.03289788641313043,
          0.030127690205938612,
          0.027209821832401008,
          0.024267866742369727,
          0.021438860949704583,
          0.01883964951617331,
          0.016550139316514702,
          0.014605881130354072,
          0.01296236211952271,
          0.011565520315174384,
          0.010379907808401707,
          0.009359183707670575,
          0.008482110790521689,
          0.007730516064008184,
          0.007088399060370715,
          0.00654121298941991,
          0.006071991482156093,
          0.005662878927744093,
          0.0053018792362338986,
          0.004980369725082864,
          0.004692177990468595,
          0.004432419357262733,
          0.004197128060871302,
          0.0039830501742905014,
          0.0037874999904499093,
          0.0036082496086210186,
          0.0034433622542776416,
          0.003290949611872707,
          0.003149099292410019,
          0.0030164801992897043,
          0.002891995280778367,
          0.0027747378224288917,
          0.002663934746197829,
          0.002558837440346373,
          0.0024589385593878216,
          0.0023638440525391895,
          0.0022731996593856663,
          0.002186695694350385,
          0.002104059577932578,
          0.002025048843664209,
          0.0019494460514081326,
          0.0018770548435492272,
          0.0018076968169335494,
          0.0017412089962539432,
          0.0016774417678572656,
          0.0016162571726201808,
          0.0015575274890040757,
          0.0015011340451213696,
          0.0014469662181357515,
          0.001394920590035726,
          0.0013449002249531516,
          0.001296814050423927,
          0.0012505763269268762,
          0.0012061061829362401,
          0.001163327214109581,
          0.0011221671265375665,
          0.0010825574276028455,
          0.0010444331456072448,
          0.0010077325846981258,
          0.0009723971011141812,
          0.0009383709039087113,
          0.0009056008731241133,
          0.0008740363950578982,
          0.000843629212472706,
          0.0008143332860413179,
          0.0007861046660438385,
          0.00075890137926577,
          0.0007326833158786982,
          0.0007074121329908775,
          0.000683051159953968,
          0.0006595653105962697,
          0.0006369210034869451,
          0.0006150860851444958,
          0.0005940297600991698,
          0.0005737225230138527,
          0.0005541360973656744,
          0.0005352433753489803,
          0.0005170183619508195,
          0.0004994361256309501,
          0.0004824727472098615,
          0.00046610527102127386,
          0.00045031166477208987,
          0.00043507077672652193,
          0.00042036229602746683,
          0.00040616671346608603
         ],
         "yaxis": "y4"
        },
        {
         "hovertemplate": "algorithm=hals<br>rank_est=5<br>run=1<br>it=%{x}<br>rec_err=%{y}<extra></extra>",
         "legendgroup": "hals",
         "line": {
          "color": "#EF553B",
          "dash": "solid"
         },
         "marker": {
          "symbol": "circle"
         },
         "mode": "lines",
         "name": "hals",
         "showlegend": false,
         "type": "scattergl",
         "x": [
          0,
          1,
          2,
          3,
          4,
          5,
          6,
          7,
          8,
          9,
          10,
          11,
          12,
          13,
          14,
          15,
          16,
          17,
          18,
          19,
          20,
          21,
          22,
          23,
          24,
          25,
          26,
          27,
          28,
          29,
          30,
          31,
          32,
          33,
          34,
          35,
          36,
          37,
          38,
          39,
          40,
          41,
          42,
          43,
          44,
          45,
          46,
          47,
          48,
          49,
          50,
          51,
          52,
          53,
          54,
          55,
          56,
          57,
          58,
          59,
          60,
          61,
          62,
          63,
          64,
          65,
          66,
          67,
          68,
          69,
          70,
          71,
          72,
          73,
          74,
          75,
          76,
          77,
          78,
          79,
          80,
          81,
          82,
          83,
          84,
          85,
          86,
          87,
          88,
          89,
          90,
          91,
          92,
          93,
          94,
          95,
          96,
          97,
          98,
          99
         ],
         "xaxis": "x5",
         "y": [
          0.1464294323500054,
          0.07215509488616327,
          0.0598808631315986,
          0.054779164779841606,
          0.05147555167786535,
          0.048126231145642524,
          0.04409002963907024,
          0.039364032325409214,
          0.034385206180022415,
          0.029693642083331882,
          0.02563576011289876,
          0.022255645362814876,
          0.019407679576450117,
          0.016997584069142715,
          0.014975365207262682,
          0.013304525417514625,
          0.01193748947310039,
          0.010819410855741455,
          0.009897334358425446,
          0.009131773095323113,
          0.008495364816831465,
          0.007952782769720765,
          0.007478003129936181,
          0.007055706275570161,
          0.0066759371691479516,
          0.006331866895457744,
          0.006018618575201783,
          0.005732387500812054,
          0.005468297282581479,
          0.005222492624047777,
          0.004992758416533078,
          0.004777530950206484,
          0.004575594781827738,
          0.004385973574615119,
          0.004207851622332804,
          0.004040524460036408,
          0.0038833607386357036,
          0.003735397113414755,
          0.0035950756009116335,
          0.003461571554131857,
          0.0033342069381429537,
          0.0032125149704842764,
          0.0030961356856911426,
          0.002984770632402651,
          0.0028781415999940842,
          0.0027759903564416946,
          0.0026780811743777077,
          0.002584196644861053,
          0.0024941351094421313,
          0.0024077086672089337,
          0.0023247416262327943,
          0.002245069254657366,
          0.0021685367478974866,
          0.002094998359199806,
          0.0020243166544803492,
          0.001956361866225371,
          0.0018910113255292166,
          0.001828148957792328,
          0.0017676648307489392,
          0.0017094547470819493,
          0.001653419874531552,
          0.0015994664079446224,
          0.001547505259887979,
          0.00149745177623077,
          0.0014492254741545058,
          0.0014027497971248902,
          0.0013579518928290076,
          0.0013147623998362797,
          0.0012731152561727703,
          0.0012329475154307496,
          0.001194199177139126,
          0.001156813028920266,
          0.0011207344961350885,
          0.0010859115046711223,
          0.0010522943479022956,
          0.0010198355651025609,
          0.000988489826573948,
          0.0009582138222220377,
          0.0009289661628930972,
          0.0009007072816447488,
          0.0008733993438886443,
          0.0008470061606302578,
          0.0008214931088816159,
          0.0007968270536569094,
          0.0007729762780430168,
          0.0007499104126076211,
          0.0007276003716454841,
          0.0007060182927254915,
          0.0006851374782199198,
          0.0006649323410658359,
          0.0006453783511630286,
          0.0006264519881929036,
          0.0006081306935869251,
          0.0005903928284467158,
          0.000573217627043309,
          0.0005565851610988015,
          0.0005404763023120353,
          0.0005248726824593528,
          0.0005097566624127489,
          0.0004951112988338067
         ],
         "yaxis": "y5"
        },
        {
         "hovertemplate": "algorithm=hals<br>rank_est=5<br>run=2<br>it=%{x}<br>rec_err=%{y}<extra></extra>",
         "legendgroup": "hals",
         "line": {
          "color": "#EF553B",
          "dash": "solid"
         },
         "marker": {
          "symbol": "circle"
         },
         "mode": "lines",
         "name": "hals",
         "showlegend": false,
         "type": "scattergl",
         "x": [
          0,
          1,
          2,
          3,
          4,
          5,
          6,
          7,
          8,
          9,
          10,
          11,
          12,
          13,
          14,
          15,
          16,
          17,
          18,
          19,
          20,
          21,
          22,
          23,
          24,
          25,
          26,
          27,
          28,
          29,
          30,
          31,
          32,
          33,
          34,
          35,
          36,
          37,
          38,
          39,
          40,
          41,
          42,
          43,
          44,
          45,
          46,
          47,
          48,
          49,
          50,
          51,
          52,
          53,
          54,
          55,
          56,
          57,
          58,
          59,
          60,
          61,
          62,
          63,
          64,
          65,
          66,
          67,
          68,
          69,
          70,
          71,
          72,
          73,
          74,
          75,
          76,
          77,
          78,
          79,
          80,
          81,
          82,
          83,
          84,
          85,
          86,
          87,
          88,
          89,
          90,
          91,
          92,
          93,
          94,
          95,
          96,
          97,
          98,
          99
         ],
         "xaxis": "x6",
         "y": [
          0.1653186630236311,
          0.08453718265086685,
          0.07270295931944683,
          0.0658831919996171,
          0.060595593471306615,
          0.055633821385061406,
          0.05109807114182886,
          0.04702189949274807,
          0.04315422055242075,
          0.03935851960630788,
          0.03565013033148781,
          0.032083076651269665,
          0.028762439249810506,
          0.025748135678125856,
          0.023046393534225863,
          0.02065927045373927,
          0.018573303566651253,
          0.016769941885472626,
          0.0152513615038664,
          0.013977054787218324,
          0.012901355978123816,
          0.011988369364660391,
          0.011208956483530432,
          0.010535497716310644,
          0.00994325980583881,
          0.009415504541166441,
          0.00893986290398483,
          0.008506887063595793,
          0.00810931175678798,
          0.007741508155757574,
          0.0073990855390483,
          0.007078592839226716,
          0.006777294061106396,
          0.006492999272282569,
          0.006223937377492929,
          0.005968660216421314,
          0.005725970092512648,
          0.005494864824584237,
          0.0052745088814273,
          0.005064061822343041,
          0.0048624933516919384,
          0.004669333137676936,
          0.004484130148579657,
          0.004306488427074921,
          0.004136046510557643,
          0.003972471507020011,
          0.0038154546712255697,
          0.003664708153726145,
          0.0035199622974865425,
          0.003380963415096124,
          0.0032474719642838204,
          0.0031192610527676465,
          0.002996115208703148,
          0.002877829364510078,
          0.002764208007936455,
          0.0026550644668431093,
          0.0025502202987025533,
          0.0024495047637540135,
          0.0023527543641189723,
          0.002259812437199661,
          0.0021705287900721892,
          0.0020847593724835694,
          0.002002365976099271,
          0.00192321595904934,
          0.0018471819931568574,
          0.001774141824913484,
          0.0017039780556064046,
          0.0016365779327392363,
          0.0015718331546006807,
          0.0015096396840018505,
          0.0014498975733025048,
          0.0013925107980705606,
          0.0013373870966487302,
          0.0012844378205431545,
          0.0012335777891099697,
          0.0011847251519344168,
          0.0011378012572778123,
          0.0010927305246055717,
          0.0010494403248609374,
          0.001007860865196383,
          0.0009679250759822271,
          0.0009295685068521265,
          0.0008927292229039458,
          0.000857347707213382,
          0.0008233667666076291,
          0.0007907314428821762,
          0.0007593889236577761,
          0.0007292884611959382,
          0.0007003812909100388,
          0.0006726205557758809,
          0.000645961232316399,
          0.0006203600591663879,
          0.0005957754685285491,
          0.0005721675220831077,
          0.0005494978470044694,
          0.00052772957527379,
          0.0005068272860555056,
          0.00048675694944731675,
          0.00046748587260434725,
          0.00044898264881835885
         ],
         "yaxis": "y6"
        },
        {
         "hovertemplate": "algorithm=hals<br>rank_est=6<br>run=0<br>it=%{x}<br>rec_err=%{y}<extra></extra>",
         "legendgroup": "hals",
         "line": {
          "color": "#EF553B",
          "dash": "solid"
         },
         "marker": {
          "symbol": "circle"
         },
         "mode": "lines",
         "name": "hals",
         "showlegend": false,
         "type": "scattergl",
         "x": [
          0,
          1,
          2,
          3,
          4,
          5,
          6,
          7,
          8,
          9,
          10,
          11,
          12,
          13,
          14,
          15,
          16,
          17,
          18,
          19,
          20,
          21,
          22,
          23,
          24,
          25,
          26,
          27,
          28,
          29,
          30,
          31,
          32,
          33,
          34,
          35,
          36,
          37,
          38,
          39,
          40,
          41,
          42,
          43,
          44,
          45,
          46,
          47,
          48,
          49,
          50,
          51,
          52,
          53,
          54,
          55,
          56,
          57,
          58,
          59,
          60,
          61,
          62,
          63,
          64,
          65,
          66,
          67,
          68,
          69,
          70,
          71,
          72,
          73,
          74,
          75,
          76,
          77,
          78,
          79,
          80,
          81,
          82,
          83,
          84,
          85,
          86,
          87,
          88,
          89,
          90,
          91,
          92,
          93,
          94,
          95,
          96,
          97,
          98,
          99
         ],
         "xaxis": "x",
         "y": [
          0.16320293832892074,
          0.08918308911737952,
          0.06896041726323773,
          0.05655737501201784,
          0.04872135222370772,
          0.04178853743476906,
          0.035091721067724395,
          0.028885717925082162,
          0.023580580568971197,
          0.01935127783948669,
          0.016095459552760222,
          0.013573254131169317,
          0.011624383618049532,
          0.01017122943241089,
          0.009073756166085967,
          0.008199311033923705,
          0.007480942444619352,
          0.006881261149367057,
          0.006375671884235715,
          0.005945463139763802,
          0.00557608992127285,
          0.005256189187459069,
          0.004976855703455075,
          0.004731086374906146,
          0.004513350962382827,
          0.004319261457464239,
          0.0041453080354461715,
          0.003988201832291325,
          0.003844938332591197,
          0.003713652983652107,
          0.0035929461317207,
          0.0034817364035286936,
          0.0033791698354148124,
          0.0032845501594491082,
          0.0031972888255149385,
          0.0031168793336516258,
          0.003042713732876182,
          0.002974259179838692,
          0.0029110791851725865,
          0.0028527807218336975,
          0.0027989957145928175,
          0.002749314468306402,
          0.002703101027645201,
          0.0026599014799210466,
          0.0026193933367321914,
          0.0025812998015096013,
          0.0025453849591139843,
          0.0025114420865301177,
          0.0024792873735716334,
          0.0024487560098365355,
          0.0024196995298094554,
          0.002391983857432965,
          0.002365487768315591,
          0.002340101621166063,
          0.0023157262697759045,
          0.0022922721067759845,
          0.0022696582042296314,
          0.00224781153341415,
          0.0022266662506808753,
          0.0022061630390485254,
          0.0021862485032029416,
          0.0021668746101257065,
          0.002147998175998407,
          0.002129580393019834,
          0.002111586397547185,
          0.0020939848753543377,
          0.0020767476993240916,
          0.002059849604262534,
          0.002043267889167049,
          0.00202698214942135,
          0.0020109740344609345,
          0.0019952270304501325,
          0.0019797262656940408,
          0.0019644583331865683,
          0.0019494111361547809,
          0.0019345737458596832,
          0.0019199362780074189,
          0.0019054897794251997,
          0.0018912261299128816,
          0.0018771379521164502,
          0.0018632185338619913,
          0.0018494617567869263,
          0.0018358620337715413,
          0.0018224142542901873,
          0.0018091137330502273,
          0.0017959561674085606,
          0.001782937596640663,
          0.0017700543680821894,
          0.0017573031050777126,
          0.001744680679314752,
          0.0017321841862901431,
          0.0017198109219036947,
          0.0017075583640165913,
          0.0016954241540861462,
          0.0016834060810364962,
          0.0016715020674357537,
          0.001659710156282917,
          0.0016480285002383245,
          0.0016364553504848419,
          0.0016249890479646425
         ],
         "yaxis": "y"
        },
        {
         "hovertemplate": "algorithm=hals<br>rank_est=6<br>run=1<br>it=%{x}<br>rec_err=%{y}<extra></extra>",
         "legendgroup": "hals",
         "line": {
          "color": "#EF553B",
          "dash": "solid"
         },
         "marker": {
          "symbol": "circle"
         },
         "mode": "lines",
         "name": "hals",
         "showlegend": false,
         "type": "scattergl",
         "x": [
          0,
          1,
          2,
          3,
          4,
          5,
          6,
          7,
          8,
          9,
          10,
          11,
          12,
          13,
          14,
          15,
          16,
          17,
          18,
          19,
          20,
          21,
          22,
          23,
          24,
          25,
          26,
          27,
          28,
          29,
          30,
          31,
          32,
          33,
          34,
          35,
          36,
          37,
          38,
          39,
          40,
          41,
          42,
          43,
          44,
          45,
          46,
          47,
          48,
          49,
          50,
          51,
          52,
          53,
          54,
          55,
          56,
          57,
          58,
          59,
          60,
          61,
          62,
          63,
          64,
          65,
          66,
          67,
          68,
          69,
          70,
          71,
          72,
          73,
          74,
          75,
          76,
          77,
          78,
          79,
          80,
          81,
          82,
          83,
          84,
          85,
          86,
          87,
          88,
          89,
          90,
          91,
          92,
          93,
          94,
          95,
          96,
          97,
          98,
          99
         ],
         "xaxis": "x2",
         "y": [
          0.15203190421283794,
          0.08653033624589918,
          0.074357572600947,
          0.06306242778557576,
          0.05340456749759243,
          0.047745368785188404,
          0.04269518624094203,
          0.0380199202684491,
          0.03400756839675364,
          0.030708257421336555,
          0.027998147529167124,
          0.02573266073061706,
          0.023804422289653796,
          0.022137186098105614,
          0.020693432880772106,
          0.019443185981750107,
          0.018362241383582337,
          0.01742018029592274,
          0.016588821397337906,
          0.015849167215123312,
          0.015187789705482986,
          0.014595630171486447,
          0.014058624175268665,
          0.013566520386688947,
          0.013108907148852125,
          0.012680937502721224,
          0.012279381819962958,
          0.011900763205127979,
          0.011542132004760116,
          0.011201289985609675,
          0.010876465533938846,
          0.010566165632712475,
          0.01026913440559271,
          0.009984523489639366,
          0.00971090502785402,
          0.009447125480913155,
          0.009192406791207473,
          0.008946092237903708,
          0.008707628886448361,
          0.008476537849635042,
          0.008252394219912149,
          0.00803481181707337,
          0.007823431696467239,
          0.007617913430460802,
          0.007417928443707308,
          0.007223154865726257,
          0.007033273504542219,
          0.006847964656167919,
          0.006666905549963119,
          0.006489768298954866,
          0.006316218283072044,
          0.006145912944267539,
          0.005978501022380055,
          0.005813622305593546,
          0.005650908019962363,
          0.005489982030564554,
          0.005330463075204495,
          0.005171968298065099,
          0.005014118386688766,
          0.004856544633325536,
          0.004698898226635491,
          0.004540861960244434,
          0.004382149887628182,
          0.004222472374273897,
          0.004061663199214395,
          0.003904490196741301,
          0.003759266776785729,
          0.0036162859292161935,
          0.003476514877114719,
          0.0033405495403923255,
          0.003208795016328627,
          0.003081637397535286,
          0.0029594317945035474,
          0.0028424940457301264,
          0.002731090254389756,
          0.0026254272301842727,
          0.00252564495039841,
          0.00243181188398943,
          0.002343923602570503,
          0.0022619047464606415,
          0.00218561408904102,
          0.002114852188875517,
          0.002049370938101528,
          0.001988884228129933,
          0.001933078959102622,
          0.0018816272668475379,
          0.001834196706059277,
          0.0017904579441812333,
          0.0017500656309947875,
          0.001712689173725257,
          0.0016780396151590859,
          0.0016461063613997457,
          0.0016172957515521776,
          0.0015902499745968138,
          0.001564841992065851,
          0.001540879618800866,
          0.0015182026913858138,
          0.0014966737916752894,
          0.0014761742505644605,
          0.001456600928314479
         ],
         "yaxis": "y2"
        },
        {
         "hovertemplate": "algorithm=hals<br>rank_est=6<br>run=2<br>it=%{x}<br>rec_err=%{y}<extra></extra>",
         "legendgroup": "hals",
         "line": {
          "color": "#EF553B",
          "dash": "solid"
         },
         "marker": {
          "symbol": "circle"
         },
         "mode": "lines",
         "name": "hals",
         "showlegend": false,
         "type": "scattergl",
         "x": [
          0,
          1,
          2,
          3,
          4,
          5,
          6,
          7,
          8,
          9,
          10,
          11,
          12,
          13,
          14,
          15,
          16,
          17,
          18,
          19,
          20,
          21,
          22,
          23,
          24,
          25,
          26,
          27,
          28,
          29,
          30,
          31,
          32,
          33,
          34,
          35,
          36,
          37,
          38,
          39,
          40,
          41,
          42,
          43,
          44,
          45,
          46,
          47,
          48,
          49,
          50,
          51,
          52,
          53,
          54,
          55,
          56,
          57,
          58,
          59,
          60,
          61,
          62,
          63,
          64,
          65,
          66,
          67,
          68,
          69,
          70,
          71,
          72,
          73,
          74,
          75,
          76,
          77,
          78,
          79,
          80,
          81,
          82,
          83,
          84,
          85,
          86,
          87,
          88,
          89,
          90,
          91,
          92,
          93,
          94,
          95,
          96,
          97,
          98,
          99
         ],
         "xaxis": "x3",
         "y": [
          0.14977970701493468,
          0.08905400913960132,
          0.060087154596313155,
          0.04461728024281151,
          0.03483014723244777,
          0.028710525114925084,
          0.024834526640022912,
          0.022086679112153937,
          0.01995256472659687,
          0.018236681474839072,
          0.016835411282380423,
          0.015676813444882885,
          0.014705782395557216,
          0.013873606160735836,
          0.01314519753534701,
          0.012495800011069553,
          0.011907448516315698,
          0.011368394876388715,
          0.010870826397034907,
          0.010409349888368927,
          0.00998004736004993,
          0.009579932523929751,
          0.00920660688219526,
          0.008858041633849543,
          0.008532378836980083,
          0.008226674916573667,
          0.007938613927176798,
          0.007666570751444766,
          0.007409207110761328,
          0.007165391865436792,
          0.0069341262125116425,
          0.006714493602297299,
          0.006505628522965942,
          0.006306618676210331,
          0.006116402443004791,
          0.0059342941425589955,
          0.005759672650150651,
          0.005592007381722477,
          0.005430820522274058,
          0.00527569566128113,
          0.005126254358270439,
          0.004982155110984786,
          0.004843089793763136,
          0.00470878009805101,
          0.00457897431667663,
          0.004453418019630234,
          0.004331640733353314,
          0.004213324603261968,
          0.004098326341449045,
          0.003986531113998803,
          0.0038778351116162267,
          0.0037721417142720422,
          0.003669359450119691,
          0.003569401184487477,
          0.0034721838488688027,
          0.003377628146405119,
          0.003285658224110336,
          0.0031962013484950432,
          0.0031091876087874677,
          0.003024549656258876,
          0.002942222481045298,
          0.002862143222936812,
          0.0027842510103939485,
          0.0027084868246034424,
          0.0026347933839926114,
          0.002563115045273632,
          0.0024933977182480397,
          0.0024255887924775335,
          0.0023596370717947754,
          0.0022954927183139783,
          0.0022331072017405295,
          0.002172433253382599,
          0.002113424826266757,
          0.0020560370572383076,
          0.002000226231772741,
          0.0019459497540984252,
          0.00189316611571921,
          0.00184183486828963,
          0.0017919165971481397,
          0.0017433728964567042,
          0.0016961663447059103,
          0.0016502604823728383,
          0.0016056197890945646,
          0.0015622096628223469,
          0.0015199963982315667,
          0.0014789471671646387,
          0.0014390299985390198,
          0.001400213759129699,
          0.0013624681345775355,
          0.001325763610631324,
          0.0012900714560654465,
          0.0012553637028977138,
          0.0012216131308934414,
          0.0011887932484033843,
          0.0011568782776376358,
          0.001125843136431574,
          0.0010956634208536696,
          0.001066315392331277,
          0.0010377759589925595,
          0.0010100226607167291
         ],
         "yaxis": "y3"
        }
       ],
       "layout": {
        "annotations": [
         {
          "font": {},
          "showarrow": false,
          "text": "run=0",
          "x": 0.15666666666666665,
          "xanchor": "center",
          "xref": "paper",
          "y": 0.9999999999999998,
          "yanchor": "bottom",
          "yref": "paper"
         },
         {
          "font": {},
          "showarrow": false,
          "text": "run=1",
          "x": 0.49,
          "xanchor": "center",
          "xref": "paper",
          "y": 0.9999999999999998,
          "yanchor": "bottom",
          "yref": "paper"
         },
         {
          "font": {},
          "showarrow": false,
          "text": "run=2",
          "x": 0.8233333333333333,
          "xanchor": "center",
          "xref": "paper",
          "y": 0.9999999999999998,
          "yanchor": "bottom",
          "yref": "paper"
         },
         {
          "font": {},
          "showarrow": false,
          "text": "rank_est=6",
          "textangle": 90,
          "x": 0.98,
          "xanchor": "left",
          "xref": "paper",
          "y": 0.15666666666666665,
          "yanchor": "middle",
          "yref": "paper"
         },
         {
          "font": {},
          "showarrow": false,
          "text": "rank_est=5",
          "textangle": 90,
          "x": 0.98,
          "xanchor": "left",
          "xref": "paper",
          "y": 0.4999999999999999,
          "yanchor": "middle",
          "yref": "paper"
         },
         {
          "font": {},
          "showarrow": false,
          "text": "rank_est=4",
          "textangle": 90,
          "x": 0.98,
          "xanchor": "left",
          "xref": "paper",
          "y": 0.8433333333333332,
          "yanchor": "middle",
          "yref": "paper"
         }
        ],
        "font": {
         "size": 20
        },
        "height": 1000,
        "legend": {
         "title": {
          "text": "algorithm"
         },
         "tracegroupgap": 0
        },
        "margin": {
         "t": 60
        },
        "template": {
         "data": {
          "bar": [
           {
            "error_x": {
             "color": "#2a3f5f"
            },
            "error_y": {
             "color": "#2a3f5f"
            },
            "marker": {
             "line": {
              "color": "#E5ECF6",
              "width": 0.5
             },
             "pattern": {
              "fillmode": "overlay",
              "size": 10,
              "solidity": 0.2
             }
            },
            "type": "bar"
           }
          ],
          "barpolar": [
           {
            "marker": {
             "line": {
              "color": "#E5ECF6",
              "width": 0.5
             },
             "pattern": {
              "fillmode": "overlay",
              "size": 10,
              "solidity": 0.2
             }
            },
            "type": "barpolar"
           }
          ],
          "carpet": [
           {
            "aaxis": {
             "endlinecolor": "#2a3f5f",
             "gridcolor": "white",
             "linecolor": "white",
             "minorgridcolor": "white",
             "startlinecolor": "#2a3f5f"
            },
            "baxis": {
             "endlinecolor": "#2a3f5f",
             "gridcolor": "white",
             "linecolor": "white",
             "minorgridcolor": "white",
             "startlinecolor": "#2a3f5f"
            },
            "type": "carpet"
           }
          ],
          "choropleth": [
           {
            "colorbar": {
             "outlinewidth": 0,
             "ticks": ""
            },
            "type": "choropleth"
           }
          ],
          "contour": [
           {
            "colorbar": {
             "outlinewidth": 0,
             "ticks": ""
            },
            "colorscale": [
             [
              0,
              "#0d0887"
             ],
             [
              0.1111111111111111,
              "#46039f"
             ],
             [
              0.2222222222222222,
              "#7201a8"
             ],
             [
              0.3333333333333333,
              "#9c179e"
             ],
             [
              0.4444444444444444,
              "#bd3786"
             ],
             [
              0.5555555555555556,
              "#d8576b"
             ],
             [
              0.6666666666666666,
              "#ed7953"
             ],
             [
              0.7777777777777778,
              "#fb9f3a"
             ],
             [
              0.8888888888888888,
              "#fdca26"
             ],
             [
              1,
              "#f0f921"
             ]
            ],
            "type": "contour"
           }
          ],
          "contourcarpet": [
           {
            "colorbar": {
             "outlinewidth": 0,
             "ticks": ""
            },
            "type": "contourcarpet"
           }
          ],
          "heatmap": [
           {
            "colorbar": {
             "outlinewidth": 0,
             "ticks": ""
            },
            "colorscale": [
             [
              0,
              "#0d0887"
             ],
             [
              0.1111111111111111,
              "#46039f"
             ],
             [
              0.2222222222222222,
              "#7201a8"
             ],
             [
              0.3333333333333333,
              "#9c179e"
             ],
             [
              0.4444444444444444,
              "#bd3786"
             ],
             [
              0.5555555555555556,
              "#d8576b"
             ],
             [
              0.6666666666666666,
              "#ed7953"
             ],
             [
              0.7777777777777778,
              "#fb9f3a"
             ],
             [
              0.8888888888888888,
              "#fdca26"
             ],
             [
              1,
              "#f0f921"
             ]
            ],
            "type": "heatmap"
           }
          ],
          "heatmapgl": [
           {
            "colorbar": {
             "outlinewidth": 0,
             "ticks": ""
            },
            "colorscale": [
             [
              0,
              "#0d0887"
             ],
             [
              0.1111111111111111,
              "#46039f"
             ],
             [
              0.2222222222222222,
              "#7201a8"
             ],
             [
              0.3333333333333333,
              "#9c179e"
             ],
             [
              0.4444444444444444,
              "#bd3786"
             ],
             [
              0.5555555555555556,
              "#d8576b"
             ],
             [
              0.6666666666666666,
              "#ed7953"
             ],
             [
              0.7777777777777778,
              "#fb9f3a"
             ],
             [
              0.8888888888888888,
              "#fdca26"
             ],
             [
              1,
              "#f0f921"
             ]
            ],
            "type": "heatmapgl"
           }
          ],
          "histogram": [
           {
            "marker": {
             "pattern": {
              "fillmode": "overlay",
              "size": 10,
              "solidity": 0.2
             }
            },
            "type": "histogram"
           }
          ],
          "histogram2d": [
           {
            "colorbar": {
             "outlinewidth": 0,
             "ticks": ""
            },
            "colorscale": [
             [
              0,
              "#0d0887"
             ],
             [
              0.1111111111111111,
              "#46039f"
             ],
             [
              0.2222222222222222,
              "#7201a8"
             ],
             [
              0.3333333333333333,
              "#9c179e"
             ],
             [
              0.4444444444444444,
              "#bd3786"
             ],
             [
              0.5555555555555556,
              "#d8576b"
             ],
             [
              0.6666666666666666,
              "#ed7953"
             ],
             [
              0.7777777777777778,
              "#fb9f3a"
             ],
             [
              0.8888888888888888,
              "#fdca26"
             ],
             [
              1,
              "#f0f921"
             ]
            ],
            "type": "histogram2d"
           }
          ],
          "histogram2dcontour": [
           {
            "colorbar": {
             "outlinewidth": 0,
             "ticks": ""
            },
            "colorscale": [
             [
              0,
              "#0d0887"
             ],
             [
              0.1111111111111111,
              "#46039f"
             ],
             [
              0.2222222222222222,
              "#7201a8"
             ],
             [
              0.3333333333333333,
              "#9c179e"
             ],
             [
              0.4444444444444444,
              "#bd3786"
             ],
             [
              0.5555555555555556,
              "#d8576b"
             ],
             [
              0.6666666666666666,
              "#ed7953"
             ],
             [
              0.7777777777777778,
              "#fb9f3a"
             ],
             [
              0.8888888888888888,
              "#fdca26"
             ],
             [
              1,
              "#f0f921"
             ]
            ],
            "type": "histogram2dcontour"
           }
          ],
          "mesh3d": [
           {
            "colorbar": {
             "outlinewidth": 0,
             "ticks": ""
            },
            "type": "mesh3d"
           }
          ],
          "parcoords": [
           {
            "line": {
             "colorbar": {
              "outlinewidth": 0,
              "ticks": ""
             }
            },
            "type": "parcoords"
           }
          ],
          "pie": [
           {
            "automargin": true,
            "type": "pie"
           }
          ],
          "scatter": [
           {
            "marker": {
             "colorbar": {
              "outlinewidth": 0,
              "ticks": ""
             }
            },
            "type": "scatter"
           }
          ],
          "scatter3d": [
           {
            "line": {
             "colorbar": {
              "outlinewidth": 0,
              "ticks": ""
             }
            },
            "marker": {
             "colorbar": {
              "outlinewidth": 0,
              "ticks": ""
             }
            },
            "type": "scatter3d"
           }
          ],
          "scattercarpet": [
           {
            "marker": {
             "colorbar": {
              "outlinewidth": 0,
              "ticks": ""
             }
            },
            "type": "scattercarpet"
           }
          ],
          "scattergeo": [
           {
            "marker": {
             "colorbar": {
              "outlinewidth": 0,
              "ticks": ""
             }
            },
            "type": "scattergeo"
           }
          ],
          "scattergl": [
           {
            "marker": {
             "colorbar": {
              "outlinewidth": 0,
              "ticks": ""
             }
            },
            "type": "scattergl"
           }
          ],
          "scattermapbox": [
           {
            "marker": {
             "colorbar": {
              "outlinewidth": 0,
              "ticks": ""
             }
            },
            "type": "scattermapbox"
           }
          ],
          "scatterpolar": [
           {
            "marker": {
             "colorbar": {
              "outlinewidth": 0,
              "ticks": ""
             }
            },
            "type": "scatterpolar"
           }
          ],
          "scatterpolargl": [
           {
            "marker": {
             "colorbar": {
              "outlinewidth": 0,
              "ticks": ""
             }
            },
            "type": "scatterpolargl"
           }
          ],
          "scatterternary": [
           {
            "marker": {
             "colorbar": {
              "outlinewidth": 0,
              "ticks": ""
             }
            },
            "type": "scatterternary"
           }
          ],
          "surface": [
           {
            "colorbar": {
             "outlinewidth": 0,
             "ticks": ""
            },
            "colorscale": [
             [
              0,
              "#0d0887"
             ],
             [
              0.1111111111111111,
              "#46039f"
             ],
             [
              0.2222222222222222,
              "#7201a8"
             ],
             [
              0.3333333333333333,
              "#9c179e"
             ],
             [
              0.4444444444444444,
              "#bd3786"
             ],
             [
              0.5555555555555556,
              "#d8576b"
             ],
             [
              0.6666666666666666,
              "#ed7953"
             ],
             [
              0.7777777777777778,
              "#fb9f3a"
             ],
             [
              0.8888888888888888,
              "#fdca26"
             ],
             [
              1,
              "#f0f921"
             ]
            ],
            "type": "surface"
           }
          ],
          "table": [
           {
            "cells": {
             "fill": {
              "color": "#EBF0F8"
             },
             "line": {
              "color": "white"
             }
            },
            "header": {
             "fill": {
              "color": "#C8D4E3"
             },
             "line": {
              "color": "white"
             }
            },
            "type": "table"
           }
          ]
         },
         "layout": {
          "annotationdefaults": {
           "arrowcolor": "#2a3f5f",
           "arrowhead": 0,
           "arrowwidth": 1
          },
          "autotypenumbers": "strict",
          "coloraxis": {
           "colorbar": {
            "outlinewidth": 0,
            "ticks": ""
           }
          },
          "colorscale": {
           "diverging": [
            [
             0,
             "#8e0152"
            ],
            [
             0.1,
             "#c51b7d"
            ],
            [
             0.2,
             "#de77ae"
            ],
            [
             0.3,
             "#f1b6da"
            ],
            [
             0.4,
             "#fde0ef"
            ],
            [
             0.5,
             "#f7f7f7"
            ],
            [
             0.6,
             "#e6f5d0"
            ],
            [
             0.7,
             "#b8e186"
            ],
            [
             0.8,
             "#7fbc41"
            ],
            [
             0.9,
             "#4d9221"
            ],
            [
             1,
             "#276419"
            ]
           ],
           "sequential": [
            [
             0,
             "#0d0887"
            ],
            [
             0.1111111111111111,
             "#46039f"
            ],
            [
             0.2222222222222222,
             "#7201a8"
            ],
            [
             0.3333333333333333,
             "#9c179e"
            ],
            [
             0.4444444444444444,
             "#bd3786"
            ],
            [
             0.5555555555555556,
             "#d8576b"
            ],
            [
             0.6666666666666666,
             "#ed7953"
            ],
            [
             0.7777777777777778,
             "#fb9f3a"
            ],
            [
             0.8888888888888888,
             "#fdca26"
            ],
            [
             1,
             "#f0f921"
            ]
           ],
           "sequentialminus": [
            [
             0,
             "#0d0887"
            ],
            [
             0.1111111111111111,
             "#46039f"
            ],
            [
             0.2222222222222222,
             "#7201a8"
            ],
            [
             0.3333333333333333,
             "#9c179e"
            ],
            [
             0.4444444444444444,
             "#bd3786"
            ],
            [
             0.5555555555555556,
             "#d8576b"
            ],
            [
             0.6666666666666666,
             "#ed7953"
            ],
            [
             0.7777777777777778,
             "#fb9f3a"
            ],
            [
             0.8888888888888888,
             "#fdca26"
            ],
            [
             1,
             "#f0f921"
            ]
           ]
          },
          "colorway": [
           "#636efa",
           "#EF553B",
           "#00cc96",
           "#ab63fa",
           "#FFA15A",
           "#19d3f3",
           "#FF6692",
           "#B6E880",
           "#FF97FF",
           "#FECB52"
          ],
          "font": {
           "color": "#2a3f5f"
          },
          "geo": {
           "bgcolor": "white",
           "lakecolor": "white",
           "landcolor": "#E5ECF6",
           "showlakes": true,
           "showland": true,
           "subunitcolor": "white"
          },
          "hoverlabel": {
           "align": "left"
          },
          "hovermode": "closest",
          "mapbox": {
           "style": "light"
          },
          "paper_bgcolor": "white",
          "plot_bgcolor": "#E5ECF6",
          "polar": {
           "angularaxis": {
            "gridcolor": "white",
            "linecolor": "white",
            "ticks": ""
           },
           "bgcolor": "#E5ECF6",
           "radialaxis": {
            "gridcolor": "white",
            "linecolor": "white",
            "ticks": ""
           }
          },
          "scene": {
           "xaxis": {
            "backgroundcolor": "#E5ECF6",
            "gridcolor": "white",
            "gridwidth": 2,
            "linecolor": "white",
            "showbackground": true,
            "ticks": "",
            "zerolinecolor": "white"
           },
           "yaxis": {
            "backgroundcolor": "#E5ECF6",
            "gridcolor": "white",
            "gridwidth": 2,
            "linecolor": "white",
            "showbackground": true,
            "ticks": "",
            "zerolinecolor": "white"
           },
           "zaxis": {
            "backgroundcolor": "#E5ECF6",
            "gridcolor": "white",
            "gridwidth": 2,
            "linecolor": "white",
            "showbackground": true,
            "ticks": "",
            "zerolinecolor": "white"
           }
          },
          "shapedefaults": {
           "line": {
            "color": "#2a3f5f"
           }
          },
          "ternary": {
           "aaxis": {
            "gridcolor": "white",
            "linecolor": "white",
            "ticks": ""
           },
           "baxis": {
            "gridcolor": "white",
            "linecolor": "white",
            "ticks": ""
           },
           "bgcolor": "#E5ECF6",
           "caxis": {
            "gridcolor": "white",
            "linecolor": "white",
            "ticks": ""
           }
          },
          "title": {
           "x": 0.05
          },
          "xaxis": {
           "automargin": true,
           "gridcolor": "white",
           "linecolor": "white",
           "ticks": "",
           "title": {
            "standoff": 15
           },
           "zerolinecolor": "white",
           "zerolinewidth": 2
          },
          "yaxis": {
           "automargin": true,
           "gridcolor": "white",
           "linecolor": "white",
           "ticks": "",
           "title": {
            "standoff": 15
           },
           "zerolinecolor": "white",
           "zerolinewidth": 2
          }
         }
        },
        "xaxis": {
         "anchor": "y",
         "domain": [
          0,
          0.3133333333333333
         ],
         "title": {
          "text": "it"
         }
        },
        "xaxis2": {
         "anchor": "y2",
         "domain": [
          0.3333333333333333,
          0.6466666666666666
         ],
         "matches": "x",
         "title": {
          "text": "it"
         }
        },
        "xaxis3": {
         "anchor": "y3",
         "domain": [
          0.6666666666666666,
          0.98
         ],
         "matches": "x",
         "title": {
          "text": "it"
         }
        },
        "xaxis4": {
         "anchor": "y4",
         "domain": [
          0,
          0.3133333333333333
         ],
         "matches": "x",
         "showticklabels": false
        },
        "xaxis5": {
         "anchor": "y5",
         "domain": [
          0.3333333333333333,
          0.6466666666666666
         ],
         "matches": "x",
         "showticklabels": false
        },
        "xaxis6": {
         "anchor": "y6",
         "domain": [
          0.6666666666666666,
          0.98
         ],
         "matches": "x",
         "showticklabels": false
        },
        "xaxis7": {
         "anchor": "y7",
         "domain": [
          0,
          0.3133333333333333
         ],
         "matches": "x",
         "showticklabels": false
        },
        "xaxis8": {
         "anchor": "y8",
         "domain": [
          0.3333333333333333,
          0.6466666666666666
         ],
         "matches": "x",
         "showticklabels": false
        },
        "xaxis9": {
         "anchor": "y9",
         "domain": [
          0.6666666666666666,
          0.98
         ],
         "matches": "x",
         "showticklabels": false
        },
        "yaxis": {
         "anchor": "x",
         "domain": [
          0,
          0.3133333333333333
         ],
         "title": {
          "text": "rec_err"
         },
         "type": "log"
        },
        "yaxis2": {
         "anchor": "x2",
         "domain": [
          0,
          0.3133333333333333
         ],
         "matches": "y",
         "showticklabels": false,
         "type": "log"
        },
        "yaxis3": {
         "anchor": "x3",
         "domain": [
          0,
          0.3133333333333333
         ],
         "matches": "y",
         "showticklabels": false,
         "type": "log"
        },
        "yaxis4": {
         "anchor": "x4",
         "domain": [
          0.34333333333333327,
          0.6566666666666665
         ],
         "matches": "y",
         "title": {
          "text": "rec_err"
         },
         "type": "log"
        },
        "yaxis5": {
         "anchor": "x5",
         "domain": [
          0.34333333333333327,
          0.6566666666666665
         ],
         "matches": "y",
         "showticklabels": false,
         "type": "log"
        },
        "yaxis6": {
         "anchor": "x6",
         "domain": [
          0.34333333333333327,
          0.6566666666666665
         ],
         "matches": "y",
         "showticklabels": false,
         "type": "log"
        },
        "yaxis7": {
         "anchor": "x7",
         "domain": [
          0.6866666666666665,
          0.9999999999999998
         ],
         "matches": "y",
         "title": {
          "text": "rec_err"
         },
         "type": "log"
        },
        "yaxis8": {
         "anchor": "x8",
         "domain": [
          0.6866666666666665,
          0.9999999999999998
         ],
         "matches": "y",
         "showticklabels": false,
         "type": "log"
        },
        "yaxis9": {
         "anchor": "x9",
         "domain": [
          0.6866666666666665,
          0.9999999999999998
         ],
         "matches": "y",
         "showticklabels": false,
         "type": "log"
        }
       }
      },
      "text/html": [
       "<div>                            <div id=\"ae7605aa-b4be-4da7-a6ae-8f244eae07a6\" class=\"plotly-graph-div\" style=\"height:1000px; width:100%;\"></div>            <script type=\"text/javascript\">                require([\"plotly\"], function(Plotly) {                    window.PLOTLYENV=window.PLOTLYENV || {};                                    if (document.getElementById(\"ae7605aa-b4be-4da7-a6ae-8f244eae07a6\")) {                    Plotly.newPlot(                        \"ae7605aa-b4be-4da7-a6ae-8f244eae07a6\",                        [{\"hovertemplate\":\"algorithm=default<br>rank_est=4<br>run=0<br>it=%{x}<br>rec_err=%{y}<extra></extra>\",\"legendgroup\":\"default\",\"line\":{\"color\":\"#636efa\",\"dash\":\"solid\"},\"marker\":{\"symbol\":\"circle\"},\"mode\":\"lines\",\"name\":\"default\",\"showlegend\":true,\"x\":[0,1,2,3,4,5,6,7,8,9,10,11,12,13,14,15,16,17,18,19,20,21,22,23,24,25,26,27,28,29,30,31,32,33,34,35,36,37,38,39,40,41,42,43,44,45,46,47,48,49,50,51,52,53,54,55,56,57,58,59,60,61,62,63,64,65,66,67,68,69,70,71,72,73,74,75,76,77,78,79,80,81,82,83,84,85,86,87,88,89,90,91,92,93,94,95,96,97,98,99],\"xaxis\":\"x7\",\"y\":[0.16135338106959818,0.11910553687611242,0.10575279609076324,0.09867535161699463,0.09466300123058208,0.0917246330336827,0.08899616640559202,0.08628238945221708,0.08372894090138672,0.08146049880534915,0.07942678188168538,0.07751022563719573,0.07564224443510081,0.07381283131347868,0.0720275324067668,0.07028662297137173,0.06861484393067491,0.06709939589167209,0.06584812584897198,0.06488324219971078,0.06412929630395979,0.06349879637272068,0.06294023912530601,0.06243224758016519,0.06196786504537141,0.06154525980152885,0.06116369663323844,0.060822029897481665,0.06051828987579151,0.06024974452554218,0.06001314874289737,0.0598050308659593,0.059621939411173025,0.05946061959326364,0.059318117870213585,0.05919182732685417,0.05907949129634123,0.05897918143440851,0.058889262830405256,0.05880835472891437,0.058735292044633125,0.05866909037966726,0.05860891563640575,0.058554058366538334,0.058503912500478115,0.05845795789118187,0.05841574606044384,0.058376888573597775,0.05834104754261758,0.0583079278406608,0.058277270689225,0.05824884834761003,0.058222459690375705,0.05819792650404022,0.05817509036983882,0.058153810027218186,0.05813395913428906,0.058115424358249,0.058098103741599155,0.058081905300222836,0.058066745817237995,0.05805254980286705,0.05803924859551838,0.05802677958338965,0.058015085529175545,0.058004113983097225,0.05799381677179687,0.05798414955242813,0.05797507142296328,0.05796654458081205,0.05795853402324551,0.057951007283903476,0.05794393420043752,0.05793728670922157,0.05793103866337147,0.05792516567114201,0.057919644951899114,0.057914455207464834,0.05790957650683893,0.05790499018256573,0.05790067873733631,0.05789662575952072,0.0578928158465843,0.05788923453541352,0.057885868238724984,0.05788270418697551,0.057879730374959804,0.057876935512759936,0.05787430898053153,0.05787184078664465,0.05786952152897184,0.05786734235892525,0.05786529494800906,0.05786337145667223,0.05786156450521125,0.0578598671466298,0.05785827284114875,0.057856775432451116,0.05785536912527726,0.05785404846446754],\"yaxis\":\"y7\",\"type\":\"scattergl\"},{\"hovertemplate\":\"algorithm=default<br>rank_est=4<br>run=1<br>it=%{x}<br>rec_err=%{y}<extra></extra>\",\"legendgroup\":\"default\",\"line\":{\"color\":\"#636efa\",\"dash\":\"solid\"},\"marker\":{\"symbol\":\"circle\"},\"mode\":\"lines\",\"name\":\"default\",\"showlegend\":false,\"x\":[0,1,2,3,4,5,6,7,8,9,10,11,12,13,14,15,16,17,18,19,20,21,22,23,24,25,26,27,28,29,30,31,32,33,34,35,36,37,38,39,40,41,42,43,44,45,46,47,48,49,50,51,52,53,54,55,56,57,58,59,60,61,62,63,64,65,66,67,68,69,70,71,72,73,74,75,76,77,78,79,80,81,82,83,84,85,86,87,88,89,90,91,92,93,94,95,96,97,98,99],\"xaxis\":\"x8\",\"y\":[0.1387443992530884,0.09613659738207948,0.08743627349223727,0.08423133701178076,0.08226142531093888,0.08078286316548852,0.07947190835371738,0.07818094676938761,0.07683065614866876,0.0753557460098048,0.07369113524896663,0.07178928271171103,0.0696822320831931,0.0675623107120383,0.06570678331331706,0.06421362391540412,0.06299637091839419,0.0619869245180048,0.06116685542403664,0.060522025775184604,0.06002792632157259,0.059654481360176086,0.05937262987891706,0.0591579257821035,0.0589914808627568,0.058859466776787786,0.0587520981696779,0.05866258968040592,0.05858628318193468,0.05851998638142278,0.05846149930727375,0.058409287031208394,0.0583622585006249,0.0583196192200849,0.058280773988100026,0.05824526297964358,0.05821271979063278,0.05818284384081991,0.058155382123573796,0.05813011702889759,0.058106858113841545,0.05808543644515487,0.05806570062611183,0.05804751393438738,0.05803075220049723,0.05801530218681779,0.058001060310892555,0.057987931610549895,0.05797582888338413,0.057964671955101986,0.057954387046219094,0.05794490621579023,0.05793616686731374,0.057928111305964904,0.057920686339171606,0.05791384291440007,0.05790753578951958,0.057901723231676826,0.057896366741864734,0.05789143080223369,0.05788688264414329,0.05788269203493231,0.05787883108164712,0.05787527405036098,0.0578719971996454,0.05786897862710941,0.057866198127748895,0.05786363706335787,0.05786127824200733,0.057859105806702,0.057857105132719175,0.0578552627326874,0.057853566169036426,0.05785200397307024,0.05785056557028067,0.057849241211309674,0.057848021908257635,0.05784689937580432,0.057845865976839085,0.05784491467230489,0.057844038974792095,0.05784323290576319,0.057842490956035615,0.05784180804925722,0.057841179508264624,0.05784060102394824,0.05784006862657273,0.05783957865926867,0.057839127753621454,0.05783871280705304,0.05783833096207869,0.05783797958704541,0.05783765625844111,0.0578373587445634,0.05783708499044968,0.05783683310394769,0.057836601342942495,0.05783638810350872,0.05783619190904362,0.05783601140019389],\"yaxis\":\"y8\",\"type\":\"scattergl\"},{\"hovertemplate\":\"algorithm=default<br>rank_est=4<br>run=2<br>it=%{x}<br>rec_err=%{y}<extra></extra>\",\"legendgroup\":\"default\",\"line\":{\"color\":\"#636efa\",\"dash\":\"solid\"},\"marker\":{\"symbol\":\"circle\"},\"mode\":\"lines\",\"name\":\"default\",\"showlegend\":false,\"x\":[0,1,2,3,4,5,6,7,8,9,10,11,12,13,14,15,16,17,18,19,20,21,22,23,24,25,26,27,28,29,30,31,32,33,34,35,36,37,38,39,40,41,42,43,44,45,46,47,48,49,50,51,52,53,54,55,56,57,58,59,60,61,62,63,64,65,66,67,68,69,70,71,72,73,74,75,76,77,78,79,80,81,82,83,84,85,86,87,88,89,90,91,92,93,94,95,96,97,98,99],\"xaxis\":\"x9\",\"y\":[0.12090363861923044,0.08783467609613639,0.08422684941090673,0.08168183339214452,0.07910716030593078,0.07630418159839104,0.0736648456458939,0.07187653960662146,0.0710208242365605,0.07063109925704456,0.07038752066779912,0.07018578081026695,0.07000046783871382,0.06982537104808345,0.069658299421736,0.06949777003144493,0.06934227871349444,0.06919010253012987,0.06903920694895108,0.06888717129322941,0.0687311189717769,0.06856765729509812,0.0683928397101145,0.06820217012333568,0.06799067560538806,0.06775307837950195,0.06748409697858757,0.06717889501962804,0.06683366989993164,0.06644633222478898,0.06601717662192849,0.06554940151770938,0.06504932091078382,0.06452614345069423,0.0639912773903708,0.06345723747550312,0.0629363452540763,0.062439482879894315,0.061975148973406086,0.061548972842025526,0.06116370834624066,0.060819607865119536,0.06051501283376697,0.060246998178404475,0.06001195223572012,0.05980603091770521,0.059625472582305626,0.05946678947357656,0.05932686403339001,0.059202979475248815,0.05909280941471001,0.058994385021647694,0.05890605222087766,0.058826426749325,0.05875435149300137,0.058688858277416676,0.058629134890694816,0.0585744973175554,0.0585243667491113,0.05847825075909866,0.05843572800051209,0.05839643581386574,0.058360060208201794,0.05832632775719991,0.05829499903124852,0.05826586325727051,0.05823873395883896,0.058213445379361156,0.05818984953223174,0.05816781375434572,0.05814721866574011,0.05812795645809427,0.05810992945129353,0.058093048869445114,0.05807723379768675,0.058062410288834014,0.05804851059475447,0.058035472502258205,0.05802323875691292,0.058011756561271346,0.058000977136254545,0.057990855336452686,0.05798134931154466,0.057972420207416095,0.057964031901385125,0.057956150767115945,0.05794874546503578,0.057941786755180275,0.05793524732941117,0.05792910166066217,0.057923325867107266,0.05791789758940956,0.05791279587950155,0.05790800109960636,0.057903494830198785,0.0578992597860399,0.05789527973931987,0.05789153944912677,0.057888024596649997,0.057884721725440146],\"yaxis\":\"y9\",\"type\":\"scattergl\"},{\"hovertemplate\":\"algorithm=default<br>rank_est=5<br>run=0<br>it=%{x}<br>rec_err=%{y}<extra></extra>\",\"legendgroup\":\"default\",\"line\":{\"color\":\"#636efa\",\"dash\":\"solid\"},\"marker\":{\"symbol\":\"circle\"},\"mode\":\"lines\",\"name\":\"default\",\"showlegend\":false,\"x\":[0,1,2,3,4,5,6,7,8,9,10,11,12,13,14,15,16,17,18,19,20,21,22,23,24,25,26,27,28,29,30,31,32,33,34,35,36,37,38,39,40,41,42,43,44,45,46,47,48,49,50,51,52,53,54,55,56,57,58,59,60,61,62,63,64,65,66,67,68,69,70,71,72,73,74,75,76,77,78,79,80,81,82,83,84,85,86,87,88,89,90,91,92,93,94,95,96,97,98,99],\"xaxis\":\"x4\",\"y\":[0.17606326144954407,0.08374195332669614,0.07569825508714517,0.07273498115718591,0.07070316681493448,0.06922028867820477,0.06810141705008516,0.06721148648668172,0.06644566314895714,0.06571718752400411,0.06493953192594551,0.06400177463706061,0.06273828437374171,0.0609262807615575,0.05847939337086754,0.05588302757500729,0.053593356496081726,0.051165885393451856,0.04807067590697963,0.044030012371326095,0.03907196417681823,0.033645578004568424,0.028394235377511262,0.023796273934761924,0.02005653782844274,0.017144498078556395,0.014919427583872023,0.013228840712840582,0.01194217222103895,0.010954843653232307,0.01018572174970518,0.009573669329987914,0.009073876667566025,0.008654254644224557,0.008292219164293737,0.00797206012627206,0.007682921657471899,0.0074173192793209625,0.007170084027610522,0.006937626005199324,0.006717427848508823,0.006507699560039252,0.006307144735585981,0.006114802844640229,0.005929943053184555,0.005751992805332654,0.005580489768481045,0.005415049448987052,0.005255343307006507,0.005101083900199792,0.004952014736519696,0.004807903282745695,0.004668536092360866,0.004533715360987954,0.004403256446351202,0.004276986044631939,0.004154740815953617,0.004036366320490036,0.003921716173085563,0.0038106513526204827,0.003703039623669997,0.0035987550422443685,0.0034976775246885806,0.003399692465736258,0.0033046903973783723,0.0032125666786714155,0.003123221213488771,0.0030365581926755343,0.002952485854168264,0.0028709162634001886,0.0027917651073643564,0.0027149515054717983,0.0026403978312726692,0.002568029546413158,0.0024977750469016846,0.0024295655168949833,0.0023633347935705304,0.0022990192390262803,0.0022365576207467983,0.0021758909993351283,0.0021169626212960407,0.0020597178205158757,0.002004103923361459,0.0019500701597623326,0.0018975675800336927,0.0018465489745845584,0.00179696879956997,0.0017487831059218716,0.0017019494719842806,0.0016564269397100762,0.0016121759546838769,0.0015691583078755451,0.0015273370824346944,0.0014866766007392439,0.0014471423758402769,0.0014087010650861084,0.0013713204241325534,0.0013349692661614326,0.0012996174204092609,0.0012652356937934463],\"yaxis\":\"y4\",\"type\":\"scattergl\"},{\"hovertemplate\":\"algorithm=default<br>rank_est=5<br>run=1<br>it=%{x}<br>rec_err=%{y}<extra></extra>\",\"legendgroup\":\"default\",\"line\":{\"color\":\"#636efa\",\"dash\":\"solid\"},\"marker\":{\"symbol\":\"circle\"},\"mode\":\"lines\",\"name\":\"default\",\"showlegend\":false,\"x\":[0,1,2,3,4,5,6,7,8,9,10,11,12,13,14,15,16,17,18,19,20,21,22,23,24,25,26,27,28,29,30,31,32,33,34,35,36,37,38,39,40,41,42,43,44,45,46,47,48,49,50,51,52,53,54,55,56,57,58,59,60,61,62,63,64,65,66,67,68,69,70,71,72,73,74,75,76,77,78,79,80,81,82,83,84,85,86,87,88,89,90,91,92,93,94,95,96,97,98,99],\"xaxis\":\"x5\",\"y\":[0.13145918977348373,0.0908001968085309,0.08061309934599191,0.07536295489858232,0.07109878473268692,0.06712824012990912,0.06304034224525801,0.057896454538339644,0.05081909703460676,0.04228727024264647,0.033954935927910025,0.027934989310624925,0.024348812941068762,0.022001556564753295,0.020252593089648857,0.018863302338268977,0.017720549712598645,0.016755821793146584,0.015923101804666426,0.015190310059182012,0.014534695454269749,0.013939923340222714,0.013394125304715598,0.012888566672469194,0.012416728628518982,0.011973672633117188,0.011555597948978634,0.011159531642256706,0.010783109765271337,0.01042442159650324,0.010081897753309813,0.009754229053363076,0.00944030710294483,0.009139180370687625,0.008850021399512067,0.00857210210147737,0.008304774970582867,0.0080474586661243,0.007799626849206653,0.007560799460439584,0.007330535841693694,0.007108429262191125,0.00689410251882941,0.006687204366283646,0.006487406589599533,0.006294401579676557,0.006107900303228955,0.005927630585190711,0.005753335640897431,0.005584772808452958,0.00542171244279206,0.005263936943673401,0.005111239892175107,0.004963425278662005,0.004820306808163694,0.004681707270161595,0.004547457964987582,0.004417398178431713,0.004291374699410044,0.0041692413742405975,0.004050858695223499,0.003936093418501127,0.0038248182090555288,0.003716911310748687,0.003612256237209846,0.0035107414852160387,0.0034122602650226725,0.0033167102491659874,0.003223993336892459,0.0031340154328724245,0.003046686241178933,0.0029619190704313204,0.0028796306519997925,0.002799740968210863,0.0027221730923570565,0.0026468530367883677,0.002573709611188589,0.0025026742888625956,0.002433681080484199,0.0023666664155025004,0.0023015690311250932,0.002238329865800407,0.002176891961225554,0.002117200367406701,0.0020592020554412067,0.002002845832700247,0.0019480822646192632,0.001894863599931028,0.0018431436999646331,0.0017928779717399151,0.0017440233046345755,0.001696538010260746,0.0016503817659604192,0.001605515559751447,0.0015619016406288933,0.0015195034687005117,0.0014782856690230297,0.0014382139878300467,0.0013992552502730823,0.001361377321070042],\"yaxis\":\"y5\",\"type\":\"scattergl\"},{\"hovertemplate\":\"algorithm=default<br>rank_est=5<br>run=2<br>it=%{x}<br>rec_err=%{y}<extra></extra>\",\"legendgroup\":\"default\",\"line\":{\"color\":\"#636efa\",\"dash\":\"solid\"},\"marker\":{\"symbol\":\"circle\"},\"mode\":\"lines\",\"name\":\"default\",\"showlegend\":false,\"x\":[0,1,2,3,4,5,6,7,8,9,10,11,12,13,14,15,16,17,18,19,20,21,22,23,24,25,26,27,28,29,30,31,32,33,34,35,36,37,38,39,40,41,42,43,44,45,46,47,48,49,50,51,52,53,54,55,56,57,58,59,60,61,62,63,64,65,66,67,68,69,70,71,72,73,74,75,76,77,78,79,80,81,82,83,84,85,86,87,88,89,90,91,92,93,94,95,96,97,98,99],\"xaxis\":\"x6\",\"y\":[0.13673914641573412,0.08350049685702468,0.07651479180078477,0.07167669845407575,0.06727518371331422,0.0632992090050397,0.05974222866926564,0.05641284025129642,0.05295673448493436,0.048927254292140794,0.043905087953572286,0.03795846743705784,0.03224704138108458,0.02787960382499737,0.024736442348552472,0.022366947510223736,0.020469831468090047,0.018881228312514136,0.01751460006813301,0.016320504787324698,0.015266815978363742,0.014330191558763895,0.01349245427652088,0.012738925113111062,0.012057528535638514,0.011438228652734113,0.010872630918187253,0.010353681757323567,0.009875433717926521,0.009432857760457512,0.009021690911222124,0.008638311202799471,0.008279634150474606,0.007943026551113152,0.007626234433699935,0.007327322709598952,0.0070446245765443385,0.006776699095241343,0.006522295633192359,0.006280324082010545,0.006049829929039275,0.005829973402920551,0.0056200120358168015,0.005419286084083049,0.005227206337567998,0.005043243921756975,0.00486692176083567,0.004697807422165316,0.004535507111708019,0.004379660624882025,0.004229937092688,0.004086031388876841,0.003947661087171322,0.0038145638765672563,0.003686495358131063,0.003563227161121305,0.003444545324438338,0.0033302489021311433,0.003220148755761369,0.0031140665044452733,0.003011833607809813,0.0029132905616930586,0.002818286188048089,0.0027266770085899346,0.002638326685486269,0.002553105522468664,0.002470890017737918,0.0023915624603022953,0.0023150105657344334,0.0022411271442105037,0.002169809799176802,0.0021009606504227866,0.00203448608156826,0.001970296505697726,0.0019083061499624726,0.0018484328569412936,0.0017905978984503234,0.0017347258036694597,0.0016807441985204974,0.001628583654797813,0.0015781775503535492,0.0015294619369736959,0.001482375416141366,0.00143685902296652,0.001392856115518712,0.001350312271807339,0.0013091751913707963,0.001269394603460907,0.0012309221775820291,0.0011937114420586111,0.0011577177042215447,0.001122897975343795,0.0010892108999146575,0.0010566166875985493,0.0010250770485348913,0.0009945551322161309,0.00096501546885227,0.0009364239134439423,0.0009087475922802608,0.000881954852822292],\"yaxis\":\"y6\",\"type\":\"scattergl\"},{\"hovertemplate\":\"algorithm=default<br>rank_est=6<br>run=0<br>it=%{x}<br>rec_err=%{y}<extra></extra>\",\"legendgroup\":\"default\",\"line\":{\"color\":\"#636efa\",\"dash\":\"solid\"},\"marker\":{\"symbol\":\"circle\"},\"mode\":\"lines\",\"name\":\"default\",\"showlegend\":false,\"x\":[0,1,2,3,4,5,6,7,8,9,10,11,12,13,14,15,16,17,18,19,20,21,22,23,24,25,26,27,28,29,30,31,32,33,34,35,36,37,38,39,40,41,42,43,44,45,46,47,48,49,50,51,52,53,54,55,56,57,58,59,60,61,62,63,64,65,66,67,68,69,70,71,72,73,74,75,76,77,78,79,80,81,82,83,84,85,86,87,88,89,90,91,92,93,94,95,96,97,98,99],\"xaxis\":\"x\",\"y\":[0.136643663656339,0.08910767795340095,0.06827652856744618,0.059030450169277035,0.05503321236407003,0.052447673289870524,0.05019436591552575,0.048005827669981724,0.04579436821211124,0.04351453249478043,0.041121425476894756,0.03856901228920371,0.03589279288055468,0.03347985080770964,0.03185004520049942,0.030871608346150072,0.030206570097823536,0.029692329941805568,0.029260520295424697,0.02887728369153288,0.028523677248982422,0.02818806488715954,0.02786274010561314,0.0275423203141706,0.0272229381527164,0.026901812264980385,0.026577005489912986,0.0262472746697778,0.025911960402186535,0.025570887789793804,0.025224263194884248,0.024872562147291128,0.02451641131389406,0.02415647268699185,0.023793340376755283,0.02342745949739198,0.023059073257073827,0.02268819975804714,0.022314635619560933,0.021937980449459982,0.021557674875774212,0.021173045155579263,0.02078334876147784,0.02038781717714437,0.01998569390449761,0.019576267103309397,0.019158897250431402,0.018733040752118128,0.018298270654277943,0.017854295566083738,0.01740097771546285,0.0169383507355046,0.01646663736889842,0.01598626678429331,0.015497890648644952,0.015002396521091171,0.014500916590496264,0.013994829355951798,0.013485751664820704,0.01297551870640453,0.012466150219867191,0.011959802354599335,0.011458706251908774,0.01096509627868001,0.010481132598039152,0.010008824022659586,0.009549957563377919,0.009106040684163251,0.008678261182496889,0.00826746822387686,0.00787417678976819,0.007498596904793475,0.007140688388093646,0.0068002409299116945,0.006476976872474549,0.006170668646945572,0.005881253284555099,0.005608913939372307,0.005354088888875147,0.005117373439934265,0.004899310640507385,0.004700119659166934,0.004519458382806529,0.004356319622379813,0.004209104104130228,0.004075832092662023,0.003954403948611142,0.0038428238782790545,0.0037393419405202357,0.0036425122393266072,0.0035511895680947546,0.0034644918407554176,0.0033817499894316185,0.003302458604833123,0.003226233628314474,0.0031527789210464086,0.003081861214801409,0.0030132920018061627,0.0029469147612228024,0.0028825960911548383],\"yaxis\":\"y\",\"type\":\"scattergl\"},{\"hovertemplate\":\"algorithm=default<br>rank_est=6<br>run=1<br>it=%{x}<br>rec_err=%{y}<extra></extra>\",\"legendgroup\":\"default\",\"line\":{\"color\":\"#636efa\",\"dash\":\"solid\"},\"marker\":{\"symbol\":\"circle\"},\"mode\":\"lines\",\"name\":\"default\",\"showlegend\":false,\"x\":[0,1,2,3,4,5,6,7,8,9,10,11,12,13,14,15,16,17,18,19,20,21,22,23,24,25,26,27,28,29,30,31,32,33,34,35,36,37,38,39,40,41,42,43,44,45,46,47,48,49,50,51,52,53,54,55,56,57,58,59,60,61,62,63,64,65,66,67,68,69,70,71,72,73,74,75,76,77,78,79,80,81,82,83,84,85,86,87,88,89,90,91,92,93,94,95,96,97,98,99],\"xaxis\":\"x2\",\"y\":[0.1024241390109571,0.0758443799193823,0.06952597762885875,0.06549115427516136,0.06231621638081411,0.059434549268185394,0.056687345940717185,0.05422310185688248,0.052120149453657345,0.05014581671728542,0.04784282568347898,0.0445367217766495,0.039470587978994214,0.033490745477643115,0.028986138233019064,0.025909525266146278,0.02362416201856309,0.021821504077032854,0.020324531985497964,0.01903240595118237,0.017889757130261703,0.01686529583250074,0.015939818876474287,0.015100178897900347,0.014336368618092019,0.013640127879297467,0.013004282295150972,0.012422431752719466,0.011888803682343048,0.011398180707182733,0.010945858916722931,0.010527616353778474,0.010139682991181257,0.009778709196623245,0.009441732337114142,0.009126142254860104,0.008829646651413997,0.008550237354801425,0.008286158241571522,0.008035875346869267,0.007798049474904104,0.007571511443942551,0.007355239961683983,0.007148342032695812,0.0069500357366956604,0.006759635182917515,0.006576537428263148,0.006400211147881938,0.006230186851611369,0.006066048455982431,0.005907426035767175,0.005753989596623741,0.005605443730181671,0.005461523027500267,0.005321988142942142,0.005186622417005136,0.005055228975683422,0.004927628238606825,0.004803655776279484,0.0046831604650522515,0.004566002898502465,0.0044520540150128065,0.0043411939137890316,0.004233310829086477,0.004128300242380507,0.004026064111529333,0.003926510200122474,0.0038295514941025332,0.003735105692568729,0.0036430947621830757,0.0035534445479779345,0.003466084429674392,0.003380947022086246,0.0032979679085371467,0.0032170854065594764,0.003138240360010163,0.0030613759546186366,0.0029864375532491433,0.002913372549367645,0.00284213023556951,0.0027726616859161026,0.0027049196493520835,0.0026388584541703728,0.0025744339207521227,0.002511603283578751,0.002450325118341821,0.0023905592769052136,0.002332266827603677,0.0022754099989097426,0.002219952129204136,0.0021658576195572195,0.0021130918902091504,0.002061621339413565,0.002011413306333469,0.0019624360349814393,0.0019146586414560641,0.001868051082879058,0.0018225841276893508,0.0017782293287407895,0.0017349589961733556],\"yaxis\":\"y2\",\"type\":\"scattergl\"},{\"hovertemplate\":\"algorithm=default<br>rank_est=6<br>run=2<br>it=%{x}<br>rec_err=%{y}<extra></extra>\",\"legendgroup\":\"default\",\"line\":{\"color\":\"#636efa\",\"dash\":\"solid\"},\"marker\":{\"symbol\":\"circle\"},\"mode\":\"lines\",\"name\":\"default\",\"showlegend\":false,\"x\":[0,1,2,3,4,5,6,7,8,9,10,11,12,13,14,15,16,17,18,19,20,21,22,23,24,25,26,27,28,29,30,31,32,33,34,35,36,37,38,39,40,41,42,43,44,45,46,47,48,49,50,51,52,53,54,55,56,57,58,59,60,61,62,63,64,65,66,67,68,69,70,71,72,73,74,75,76,77,78,79,80,81,82,83,84,85,86,87,88,89,90,91,92,93,94,95,96,97,98,99],\"xaxis\":\"x3\",\"y\":[0.10845708629202021,0.06725182689317492,0.057904172054577,0.051403187916035376,0.04558311679427007,0.0402694345934442,0.03547619896380003,0.03141103688871867,0.02825658740754018,0.02592852102718964,0.024198521144810373,0.022860561038495725,0.021778338689179062,0.020871774607521407,0.020094240487878223,0.019416791464441342,0.01881972833463672,0.018288526586232562,0.017811900089351018,0.01738082403069346,0.016987980231829316,0.01662739577334657,0.016294179955604716,0.015984319777537923,0.015694515931085794,0.01542204978743678,0.01516467524408344,0.014920530844338776,0.014688068468014931,0.014465995533144756,0.0142532281760057,0.014048853322249468,0.01385209794426883,0.013662304117468103,0.013478908753592589,0.013301427105607602,0.013129439315833378,0.012962579421050675,0.0128005263440202,0.012642996492529472,0.012489737661445854,0.012340523992853765,0.012195151796222421,0.012053436069049175,0.011915207588937148,0.011780310472273695,0.011648600115040764,0.011519941446128971,0.011394207437492695,0.011271277825413397,0.011151038005109101,0.011033378068800464,0.010918191962405266,0.010805376740592544,0.010694831904076569,0.010586458806651499,0.01048016012112146,0.010375839356799433,0.010273400422369686,0.010172747230331762,0.01007378334053551,0.0099764116417555,0.009880534071658554,0.009786051376912071,0.009692862916039713,0.009600866508824453,0.009509958337724648,0.009420032906015981,0.009330983060849514,0.009242700087204105,0.009155073880989862,0.009067993209629963,0.008981346067295313,0.008895020132363889,0.008808903333262256,0.008722884526956276,0.00863685429183423,0.008550705834951535,0.008464336007098195,0.008377646417208286,0.008290544630604565,0.008202945429210316,0.00811477210759915,0.008025957769634504,0.00793644658672885,0.007846194972020364,0.007755172622234577,0.007663363376849826,0.007570765844662922,0.00747739375313683,0.007383275981682772,0.007288456251983865,0.007192992461254703,0.007096955660377013,0.00700042869705365,0.006903504560849208,0.0068062844842861295,0.006708875866778715,0.006611390100578893,0.0065139403788332904],\"yaxis\":\"y3\",\"type\":\"scattergl\"},{\"hovertemplate\":\"algorithm=hals<br>rank_est=4<br>run=0<br>it=%{x}<br>rec_err=%{y}<extra></extra>\",\"legendgroup\":\"hals\",\"line\":{\"color\":\"#EF553B\",\"dash\":\"solid\"},\"marker\":{\"symbol\":\"circle\"},\"mode\":\"lines\",\"name\":\"hals\",\"showlegend\":true,\"x\":[0,1,2,3,4,5,6,7,8,9,10,11,12,13,14,15,16,17,18,19,20,21,22,23,24,25,26,27,28,29,30,31,32,33,34,35,36,37,38,39,40,41,42,43,44,45,46,47,48,49,50,51,52,53,54,55,56,57,58,59,60,61,62,63,64,65,66,67,68,69,70,71,72,73,74,75,76,77,78,79,80,81,82,83,84,85,86,87,88,89,90,91,92,93],\"xaxis\":\"x7\",\"y\":[0.17067386434147208,0.10696447543733074,0.0856144735974796,0.07614209464522148,0.07122941607572075,0.06856911483492081,0.06707419757495126,0.066135218231194,0.06538155125704359,0.06469938358464566,0.06406641939811052,0.06347866787944825,0.06292516728244821,0.0624010267890973,0.06190551611314419,0.06144012736847829,0.06100729204051838,0.06060945391043604,0.0602484443388935,0.05992511966374269,0.059639225982770716,0.05938944554160854,0.059173569422573846,0.05898873917797647,0.05883170672773325,0.058699074589388,0.058587493341821506,0.058493806724069765,0.058415144957522654,0.05834897320724068,0.058293105013110504,0.058245690939424805,0.05820519159003099,0.05817034232670715,0.05814011507555941,0.05811368083854985,0.0580903750943993,0.058069667205483046,0.05805113421078882,0.05803443891643039,0.058019311927640635,0.058005537138448734,0.05799294015876008,0.05798137917737063,0.05797073780697511,0.057960919518093235,0.0579518433311408,0.057943440495275035,0.05793565193459035,0.05792842628731903,0.05792171840075689,0.05791548817478347,0.05790969967116773,0.057904320425077815,0.0578993209099201,0.057894674118488205,0.057890355232323325,0.05788634135780976,0.05788261131320628,0.057879145454200816,0.057875925529173394,0.057872934557119185,0.05787015672324008,0.05786757728827788,0.05786518250873753,0.057863000904212855,0.05786108498176115,0.057859380982459095,0.05785786542401817,0.05785651534954518,0.0578553112989847,0.05785423652346693,0.057853276469352864,0.05785241838486138,0.057851651037923425,0.057850964502590224,0.05785034998864491,0.057849799700401876,0.0578493067168171,0.057848864888193186,0.057848468746291154,0.05784811342581545,0.057847794595428756,0.057847508397130855,0.057847251392786236,0.05784702051699679,0.05784681303541808,0.057846626507950485,0.0578464587561321,0.05784630783430506,0.05784617200401182,0.057846049711344605,0.05784593956682331,0.057845840327500606],\"yaxis\":\"y7\",\"type\":\"scattergl\"},{\"hovertemplate\":\"algorithm=hals<br>rank_est=4<br>run=1<br>it=%{x}<br>rec_err=%{y}<extra></extra>\",\"legendgroup\":\"hals\",\"line\":{\"color\":\"#EF553B\",\"dash\":\"solid\"},\"marker\":{\"symbol\":\"circle\"},\"mode\":\"lines\",\"name\":\"hals\",\"showlegend\":false,\"x\":[0,1,2,3,4,5,6,7,8,9,10,11,12,13,14,15,16,17,18,19,20,21,22,23,24,25,26,27,28,29,30,31,32,33,34,35,36,37,38,39,40,41,42,43,44,45,46,47,48,49,50,51,52,53,54,55,56,57,58,59,60,61,62,63,64,65,66,67,68,69,70,71,72,73,74,75,76,77,78,79,80,81,82,83,84,85,86,87,88,89,90,91,92,93,94,95,96,97,98,99],\"xaxis\":\"x8\",\"y\":[0.15332801622433792,0.11043837002145528,0.09842988186171372,0.0850946567207364,0.07866501376960745,0.07620771656926333,0.07505484078043735,0.07438406331038057,0.07387164903556197,0.07341946979504002,0.07299965389582522,0.07260129238694613,0.07221543146593887,0.07183153495830856,0.07144381128447419,0.07104652651261832,0.07063399683748081,0.07020069838504273,0.06974149535049148,0.0692519680974089,0.06872883789557237,0.06817045383391998,0.06757686786940902,0.06694945033061701,0.06629283977685047,0.06561457165988978,0.06492616879194857,0.06424071800559983,0.06357161820618157,0.06293127694726787,0.06233005291076384,0.061775586111426854,0.06127256437157555,0.06082287274297881,0.060426009685989344,0.060079638129590086,0.059780154251762384,0.059522072919077615,0.059299025577110566,0.05910625370859006,0.05893979125121835,0.05879619624213199,0.05867240132387351,0.058565696950558306,0.05847370801903235,0.05839436648941435,0.058325881082797286,0.05826670659055505,0.05821551431323562,0.05817116451276092,0.05813268132861687,0.05809923032274668,0.05807009863266418,0.05804467759932926,0.058022447673708163,0.05800299033288031,0.05798617700116955,0.05797168205713818,0.05795902450090371,0.05794786933652585,0.05793796300538135,0.05792911103245433,0.05792116098664959,0.05791400017198198,0.057907578917739504,0.057901788798416204,0.057896539769390735,0.05789176281869079,0.05788740192643444,0.05788341063583982,0.057879749830652014,0.05787638615213654,0.05787329084015895,0.057870438867287294,0.05786780827831523,0.057865379677343017,0.057863246171456786,0.05786136329439904,0.057859693326803394,0.057858209001072324,0.05785688670398131,0.05785570648555697,0.05785465133830429,0.05785370663766625,0.05785285971909864,0.057852099557519084,0.05785141651629451,0.057850802145155644,0.05785024901402215,0.0578497505742681,0.05784930104189978,0.05784889529830896,0.05784852880561238,0.05784819753401237,0.05784789789934733,0.05784762670914808,0.057847381115938165,0.05784715857668278,0.05784695681750268,0.05784677380288308],\"yaxis\":\"y8\",\"type\":\"scattergl\"},{\"hovertemplate\":\"algorithm=hals<br>rank_est=4<br>run=2<br>it=%{x}<br>rec_err=%{y}<extra></extra>\",\"legendgroup\":\"hals\",\"line\":{\"color\":\"#EF553B\",\"dash\":\"solid\"},\"marker\":{\"symbol\":\"circle\"},\"mode\":\"lines\",\"name\":\"hals\",\"showlegend\":false,\"x\":[0,1,2,3,4,5,6,7,8,9,10,11,12,13,14,15,16,17,18,19,20,21,22,23,24,25,26,27,28,29,30,31,32,33,34,35,36,37,38,39,40,41,42,43,44,45,46,47,48,49,50,51,52,53,54,55,56,57,58,59,60,61,62,63,64,65,66,67,68,69,70,71,72,73,74,75,76,77,78,79,80,81,82,83,84,85,86,87,88,89,90,91,92,93,94,95,96,97,98,99],\"xaxis\":\"x9\",\"y\":[0.14479124942844213,0.07672183860423348,0.07353075868266605,0.07283908176182632,0.0724601314188529,0.07218535064883479,0.07195267935801952,0.07174128600120833,0.07154118461567449,0.07134503843814635,0.07114577078560043,0.07093585467745443,0.07071153627933345,0.07046769142231858,0.07019421608247103,0.0698802355736696,0.06951439966335597,0.06908561031470921,0.06858458278959655,0.06800606477947112,0.06735135319190057,0.06663027048212802,0.06586148649167214,0.0650704194829116,0.06428463246683737,0.06352344125968705,0.06280676662675483,0.062150527947231096,0.06156334583198435,0.06104718824108348,0.0605991608243057,0.06021351602518051,0.05988326791157432,0.0596037905303242,0.05936605774729074,0.05916305133510947,0.05898946440035628,0.0588409420959809,0.05871382343891384,0.05860497242216433,0.05851168204413587,0.05843160815068081,0.05836276477195428,0.058303414001183204,0.05825209490091281,0.05820757408783439,0.058168815280591465,0.05813495018303021,0.05810525257103296,0.05807911542924872,0.05805603120389888,0.0580355749737673,0.05801739025723672,0.05800117714553294,0.05798668249906759,0.05797369182845941,0.05796202153431112,0.05795151269671352,0.05794203228550435,0.05793346440739269,0.05792570930938668,0.05791868012659435,0.05791230095100936,0.057906505183125866,0.05790123416860812,0.05789643606284714,0.05789206488567193,0.0578880797313497,0.05788444410517477,0.05788112536363984,0.05787809423940381,0.0578753244363486,0.05787279228248963,0.057870476431165496,0.05786835760243995,0.0578664183584214,0.057864642907139024,0.057863016930693505,0.05786152743411491,0.05786016261193688,0.05785891173012578,0.057857765021173,0.05785671359068648,0.05785574933407668,0.05785486486196982,0.05785405343334759,0.057853308895571456,0.05785262563033456,0.05785199850503869,0.05785142282889318,0.05785089431327586,0.0578504090358566,0.05784996340814837,0.05784955414606245,0.05784917824323577,0.05784883294676591,0.057848515735249045,0.057848224298698805,0.057847956520388516,0.05784771046022989],\"yaxis\":\"y9\",\"type\":\"scattergl\"},{\"hovertemplate\":\"algorithm=hals<br>rank_est=5<br>run=0<br>it=%{x}<br>rec_err=%{y}<extra></extra>\",\"legendgroup\":\"hals\",\"line\":{\"color\":\"#EF553B\",\"dash\":\"solid\"},\"marker\":{\"symbol\":\"circle\"},\"mode\":\"lines\",\"name\":\"hals\",\"showlegend\":false,\"x\":[0,1,2,3,4,5,6,7,8,9,10,11,12,13,14,15,16,17,18,19,20,21,22,23,24,25,26,27,28,29,30,31,32,33,34,35,36,37,38,39,40,41,42,43,44,45,46,47,48,49,50,51,52,53,54,55,56,57,58,59,60,61,62,63,64,65,66,67,68,69,70,71,72,73,74,75,76,77,78,79,80,81,82,83,84,85,86,87,88,89,90,91,92,93,94,95,96,97,98,99],\"xaxis\":\"x4\",\"y\":[0.1682406029688855,0.09115272739385925,0.07438127924315024,0.06781405281581118,0.06336960416569672,0.057423712318357696,0.05158939687694012,0.04812217997492901,0.046168220961422944,0.04461736670568564,0.0430982621867383,0.04148973131298997,0.03971146568697299,0.03770387290346263,0.03543443807138801,0.03289788641313043,0.030127690205938612,0.027209821832401008,0.024267866742369727,0.021438860949704583,0.01883964951617331,0.016550139316514702,0.014605881130354072,0.01296236211952271,0.011565520315174384,0.010379907808401707,0.009359183707670575,0.008482110790521689,0.007730516064008184,0.007088399060370715,0.00654121298941991,0.006071991482156093,0.005662878927744093,0.0053018792362338986,0.004980369725082864,0.004692177990468595,0.004432419357262733,0.004197128060871302,0.0039830501742905014,0.0037874999904499093,0.0036082496086210186,0.0034433622542776416,0.003290949611872707,0.003149099292410019,0.0030164801992897043,0.002891995280778367,0.0027747378224288917,0.002663934746197829,0.002558837440346373,0.0024589385593878216,0.0023638440525391895,0.0022731996593856663,0.002186695694350385,0.002104059577932578,0.002025048843664209,0.0019494460514081326,0.0018770548435492272,0.0018076968169335494,0.0017412089962539432,0.0016774417678572656,0.0016162571726201808,0.0015575274890040757,0.0015011340451213696,0.0014469662181357515,0.001394920590035726,0.0013449002249531516,0.001296814050423927,0.0012505763269268762,0.0012061061829362401,0.001163327214109581,0.0011221671265375665,0.0010825574276028455,0.0010444331456072448,0.0010077325846981258,0.0009723971011141812,0.0009383709039087113,0.0009056008731241133,0.0008740363950578982,0.000843629212472706,0.0008143332860413179,0.0007861046660438385,0.00075890137926577,0.0007326833158786982,0.0007074121329908775,0.000683051159953968,0.0006595653105962697,0.0006369210034869451,0.0006150860851444958,0.0005940297600991698,0.0005737225230138527,0.0005541360973656744,0.0005352433753489803,0.0005170183619508195,0.0004994361256309501,0.0004824727472098615,0.00046610527102127386,0.00045031166477208987,0.00043507077672652193,0.00042036229602746683,0.00040616671346608603],\"yaxis\":\"y4\",\"type\":\"scattergl\"},{\"hovertemplate\":\"algorithm=hals<br>rank_est=5<br>run=1<br>it=%{x}<br>rec_err=%{y}<extra></extra>\",\"legendgroup\":\"hals\",\"line\":{\"color\":\"#EF553B\",\"dash\":\"solid\"},\"marker\":{\"symbol\":\"circle\"},\"mode\":\"lines\",\"name\":\"hals\",\"showlegend\":false,\"x\":[0,1,2,3,4,5,6,7,8,9,10,11,12,13,14,15,16,17,18,19,20,21,22,23,24,25,26,27,28,29,30,31,32,33,34,35,36,37,38,39,40,41,42,43,44,45,46,47,48,49,50,51,52,53,54,55,56,57,58,59,60,61,62,63,64,65,66,67,68,69,70,71,72,73,74,75,76,77,78,79,80,81,82,83,84,85,86,87,88,89,90,91,92,93,94,95,96,97,98,99],\"xaxis\":\"x5\",\"y\":[0.1464294323500054,0.07215509488616327,0.0598808631315986,0.054779164779841606,0.05147555167786535,0.048126231145642524,0.04409002963907024,0.039364032325409214,0.034385206180022415,0.029693642083331882,0.02563576011289876,0.022255645362814876,0.019407679576450117,0.016997584069142715,0.014975365207262682,0.013304525417514625,0.01193748947310039,0.010819410855741455,0.009897334358425446,0.009131773095323113,0.008495364816831465,0.007952782769720765,0.007478003129936181,0.007055706275570161,0.0066759371691479516,0.006331866895457744,0.006018618575201783,0.005732387500812054,0.005468297282581479,0.005222492624047777,0.004992758416533078,0.004777530950206484,0.004575594781827738,0.004385973574615119,0.004207851622332804,0.004040524460036408,0.0038833607386357036,0.003735397113414755,0.0035950756009116335,0.003461571554131857,0.0033342069381429537,0.0032125149704842764,0.0030961356856911426,0.002984770632402651,0.0028781415999940842,0.0027759903564416946,0.0026780811743777077,0.002584196644861053,0.0024941351094421313,0.0024077086672089337,0.0023247416262327943,0.002245069254657366,0.0021685367478974866,0.002094998359199806,0.0020243166544803492,0.001956361866225371,0.0018910113255292166,0.001828148957792328,0.0017676648307489392,0.0017094547470819493,0.001653419874531552,0.0015994664079446224,0.001547505259887979,0.00149745177623077,0.0014492254741545058,0.0014027497971248902,0.0013579518928290076,0.0013147623998362797,0.0012731152561727703,0.0012329475154307496,0.001194199177139126,0.001156813028920266,0.0011207344961350885,0.0010859115046711223,0.0010522943479022956,0.0010198355651025609,0.000988489826573948,0.0009582138222220377,0.0009289661628930972,0.0009007072816447488,0.0008733993438886443,0.0008470061606302578,0.0008214931088816159,0.0007968270536569094,0.0007729762780430168,0.0007499104126076211,0.0007276003716454841,0.0007060182927254915,0.0006851374782199198,0.0006649323410658359,0.0006453783511630286,0.0006264519881929036,0.0006081306935869251,0.0005903928284467158,0.000573217627043309,0.0005565851610988015,0.0005404763023120353,0.0005248726824593528,0.0005097566624127489,0.0004951112988338067],\"yaxis\":\"y5\",\"type\":\"scattergl\"},{\"hovertemplate\":\"algorithm=hals<br>rank_est=5<br>run=2<br>it=%{x}<br>rec_err=%{y}<extra></extra>\",\"legendgroup\":\"hals\",\"line\":{\"color\":\"#EF553B\",\"dash\":\"solid\"},\"marker\":{\"symbol\":\"circle\"},\"mode\":\"lines\",\"name\":\"hals\",\"showlegend\":false,\"x\":[0,1,2,3,4,5,6,7,8,9,10,11,12,13,14,15,16,17,18,19,20,21,22,23,24,25,26,27,28,29,30,31,32,33,34,35,36,37,38,39,40,41,42,43,44,45,46,47,48,49,50,51,52,53,54,55,56,57,58,59,60,61,62,63,64,65,66,67,68,69,70,71,72,73,74,75,76,77,78,79,80,81,82,83,84,85,86,87,88,89,90,91,92,93,94,95,96,97,98,99],\"xaxis\":\"x6\",\"y\":[0.1653186630236311,0.08453718265086685,0.07270295931944683,0.0658831919996171,0.060595593471306615,0.055633821385061406,0.05109807114182886,0.04702189949274807,0.04315422055242075,0.03935851960630788,0.03565013033148781,0.032083076651269665,0.028762439249810506,0.025748135678125856,0.023046393534225863,0.02065927045373927,0.018573303566651253,0.016769941885472626,0.0152513615038664,0.013977054787218324,0.012901355978123816,0.011988369364660391,0.011208956483530432,0.010535497716310644,0.00994325980583881,0.009415504541166441,0.00893986290398483,0.008506887063595793,0.00810931175678798,0.007741508155757574,0.0073990855390483,0.007078592839226716,0.006777294061106396,0.006492999272282569,0.006223937377492929,0.005968660216421314,0.005725970092512648,0.005494864824584237,0.0052745088814273,0.005064061822343041,0.0048624933516919384,0.004669333137676936,0.004484130148579657,0.004306488427074921,0.004136046510557643,0.003972471507020011,0.0038154546712255697,0.003664708153726145,0.0035199622974865425,0.003380963415096124,0.0032474719642838204,0.0031192610527676465,0.002996115208703148,0.002877829364510078,0.002764208007936455,0.0026550644668431093,0.0025502202987025533,0.0024495047637540135,0.0023527543641189723,0.002259812437199661,0.0021705287900721892,0.0020847593724835694,0.002002365976099271,0.00192321595904934,0.0018471819931568574,0.001774141824913484,0.0017039780556064046,0.0016365779327392363,0.0015718331546006807,0.0015096396840018505,0.0014498975733025048,0.0013925107980705606,0.0013373870966487302,0.0012844378205431545,0.0012335777891099697,0.0011847251519344168,0.0011378012572778123,0.0010927305246055717,0.0010494403248609374,0.001007860865196383,0.0009679250759822271,0.0009295685068521265,0.0008927292229039458,0.000857347707213382,0.0008233667666076291,0.0007907314428821762,0.0007593889236577761,0.0007292884611959382,0.0007003812909100388,0.0006726205557758809,0.000645961232316399,0.0006203600591663879,0.0005957754685285491,0.0005721675220831077,0.0005494978470044694,0.00052772957527379,0.0005068272860555056,0.00048675694944731675,0.00046748587260434725,0.00044898264881835885],\"yaxis\":\"y6\",\"type\":\"scattergl\"},{\"hovertemplate\":\"algorithm=hals<br>rank_est=6<br>run=0<br>it=%{x}<br>rec_err=%{y}<extra></extra>\",\"legendgroup\":\"hals\",\"line\":{\"color\":\"#EF553B\",\"dash\":\"solid\"},\"marker\":{\"symbol\":\"circle\"},\"mode\":\"lines\",\"name\":\"hals\",\"showlegend\":false,\"x\":[0,1,2,3,4,5,6,7,8,9,10,11,12,13,14,15,16,17,18,19,20,21,22,23,24,25,26,27,28,29,30,31,32,33,34,35,36,37,38,39,40,41,42,43,44,45,46,47,48,49,50,51,52,53,54,55,56,57,58,59,60,61,62,63,64,65,66,67,68,69,70,71,72,73,74,75,76,77,78,79,80,81,82,83,84,85,86,87,88,89,90,91,92,93,94,95,96,97,98,99],\"xaxis\":\"x\",\"y\":[0.16320293832892074,0.08918308911737952,0.06896041726323773,0.05655737501201784,0.04872135222370772,0.04178853743476906,0.035091721067724395,0.028885717925082162,0.023580580568971197,0.01935127783948669,0.016095459552760222,0.013573254131169317,0.011624383618049532,0.01017122943241089,0.009073756166085967,0.008199311033923705,0.007480942444619352,0.006881261149367057,0.006375671884235715,0.005945463139763802,0.00557608992127285,0.005256189187459069,0.004976855703455075,0.004731086374906146,0.004513350962382827,0.004319261457464239,0.0041453080354461715,0.003988201832291325,0.003844938332591197,0.003713652983652107,0.0035929461317207,0.0034817364035286936,0.0033791698354148124,0.0032845501594491082,0.0031972888255149385,0.0031168793336516258,0.003042713732876182,0.002974259179838692,0.0029110791851725865,0.0028527807218336975,0.0027989957145928175,0.002749314468306402,0.002703101027645201,0.0026599014799210466,0.0026193933367321914,0.0025812998015096013,0.0025453849591139843,0.0025114420865301177,0.0024792873735716334,0.0024487560098365355,0.0024196995298094554,0.002391983857432965,0.002365487768315591,0.002340101621166063,0.0023157262697759045,0.0022922721067759845,0.0022696582042296314,0.00224781153341415,0.0022266662506808753,0.0022061630390485254,0.0021862485032029416,0.0021668746101257065,0.002147998175998407,0.002129580393019834,0.002111586397547185,0.0020939848753543377,0.0020767476993240916,0.002059849604262534,0.002043267889167049,0.00202698214942135,0.0020109740344609345,0.0019952270304501325,0.0019797262656940408,0.0019644583331865683,0.0019494111361547809,0.0019345737458596832,0.0019199362780074189,0.0019054897794251997,0.0018912261299128816,0.0018771379521164502,0.0018632185338619913,0.0018494617567869263,0.0018358620337715413,0.0018224142542901873,0.0018091137330502273,0.0017959561674085606,0.001782937596640663,0.0017700543680821894,0.0017573031050777126,0.001744680679314752,0.0017321841862901431,0.0017198109219036947,0.0017075583640165913,0.0016954241540861462,0.0016834060810364962,0.0016715020674357537,0.001659710156282917,0.0016480285002383245,0.0016364553504848419,0.0016249890479646425],\"yaxis\":\"y\",\"type\":\"scattergl\"},{\"hovertemplate\":\"algorithm=hals<br>rank_est=6<br>run=1<br>it=%{x}<br>rec_err=%{y}<extra></extra>\",\"legendgroup\":\"hals\",\"line\":{\"color\":\"#EF553B\",\"dash\":\"solid\"},\"marker\":{\"symbol\":\"circle\"},\"mode\":\"lines\",\"name\":\"hals\",\"showlegend\":false,\"x\":[0,1,2,3,4,5,6,7,8,9,10,11,12,13,14,15,16,17,18,19,20,21,22,23,24,25,26,27,28,29,30,31,32,33,34,35,36,37,38,39,40,41,42,43,44,45,46,47,48,49,50,51,52,53,54,55,56,57,58,59,60,61,62,63,64,65,66,67,68,69,70,71,72,73,74,75,76,77,78,79,80,81,82,83,84,85,86,87,88,89,90,91,92,93,94,95,96,97,98,99],\"xaxis\":\"x2\",\"y\":[0.15203190421283794,0.08653033624589918,0.074357572600947,0.06306242778557576,0.05340456749759243,0.047745368785188404,0.04269518624094203,0.0380199202684491,0.03400756839675364,0.030708257421336555,0.027998147529167124,0.02573266073061706,0.023804422289653796,0.022137186098105614,0.020693432880772106,0.019443185981750107,0.018362241383582337,0.01742018029592274,0.016588821397337906,0.015849167215123312,0.015187789705482986,0.014595630171486447,0.014058624175268665,0.013566520386688947,0.013108907148852125,0.012680937502721224,0.012279381819962958,0.011900763205127979,0.011542132004760116,0.011201289985609675,0.010876465533938846,0.010566165632712475,0.01026913440559271,0.009984523489639366,0.00971090502785402,0.009447125480913155,0.009192406791207473,0.008946092237903708,0.008707628886448361,0.008476537849635042,0.008252394219912149,0.00803481181707337,0.007823431696467239,0.007617913430460802,0.007417928443707308,0.007223154865726257,0.007033273504542219,0.006847964656167919,0.006666905549963119,0.006489768298954866,0.006316218283072044,0.006145912944267539,0.005978501022380055,0.005813622305593546,0.005650908019962363,0.005489982030564554,0.005330463075204495,0.005171968298065099,0.005014118386688766,0.004856544633325536,0.004698898226635491,0.004540861960244434,0.004382149887628182,0.004222472374273897,0.004061663199214395,0.003904490196741301,0.003759266776785729,0.0036162859292161935,0.003476514877114719,0.0033405495403923255,0.003208795016328627,0.003081637397535286,0.0029594317945035474,0.0028424940457301264,0.002731090254389756,0.0026254272301842727,0.00252564495039841,0.00243181188398943,0.002343923602570503,0.0022619047464606415,0.00218561408904102,0.002114852188875517,0.002049370938101528,0.001988884228129933,0.001933078959102622,0.0018816272668475379,0.001834196706059277,0.0017904579441812333,0.0017500656309947875,0.001712689173725257,0.0016780396151590859,0.0016461063613997457,0.0016172957515521776,0.0015902499745968138,0.001564841992065851,0.001540879618800866,0.0015182026913858138,0.0014966737916752894,0.0014761742505644605,0.001456600928314479],\"yaxis\":\"y2\",\"type\":\"scattergl\"},{\"hovertemplate\":\"algorithm=hals<br>rank_est=6<br>run=2<br>it=%{x}<br>rec_err=%{y}<extra></extra>\",\"legendgroup\":\"hals\",\"line\":{\"color\":\"#EF553B\",\"dash\":\"solid\"},\"marker\":{\"symbol\":\"circle\"},\"mode\":\"lines\",\"name\":\"hals\",\"showlegend\":false,\"x\":[0,1,2,3,4,5,6,7,8,9,10,11,12,13,14,15,16,17,18,19,20,21,22,23,24,25,26,27,28,29,30,31,32,33,34,35,36,37,38,39,40,41,42,43,44,45,46,47,48,49,50,51,52,53,54,55,56,57,58,59,60,61,62,63,64,65,66,67,68,69,70,71,72,73,74,75,76,77,78,79,80,81,82,83,84,85,86,87,88,89,90,91,92,93,94,95,96,97,98,99],\"xaxis\":\"x3\",\"y\":[0.14977970701493468,0.08905400913960132,0.060087154596313155,0.04461728024281151,0.03483014723244777,0.028710525114925084,0.024834526640022912,0.022086679112153937,0.01995256472659687,0.018236681474839072,0.016835411282380423,0.015676813444882885,0.014705782395557216,0.013873606160735836,0.01314519753534701,0.012495800011069553,0.011907448516315698,0.011368394876388715,0.010870826397034907,0.010409349888368927,0.00998004736004993,0.009579932523929751,0.00920660688219526,0.008858041633849543,0.008532378836980083,0.008226674916573667,0.007938613927176798,0.007666570751444766,0.007409207110761328,0.007165391865436792,0.0069341262125116425,0.006714493602297299,0.006505628522965942,0.006306618676210331,0.006116402443004791,0.0059342941425589955,0.005759672650150651,0.005592007381722477,0.005430820522274058,0.00527569566128113,0.005126254358270439,0.004982155110984786,0.004843089793763136,0.00470878009805101,0.00457897431667663,0.004453418019630234,0.004331640733353314,0.004213324603261968,0.004098326341449045,0.003986531113998803,0.0038778351116162267,0.0037721417142720422,0.003669359450119691,0.003569401184487477,0.0034721838488688027,0.003377628146405119,0.003285658224110336,0.0031962013484950432,0.0031091876087874677,0.003024549656258876,0.002942222481045298,0.002862143222936812,0.0027842510103939485,0.0027084868246034424,0.0026347933839926114,0.002563115045273632,0.0024933977182480397,0.0024255887924775335,0.0023596370717947754,0.0022954927183139783,0.0022331072017405295,0.002172433253382599,0.002113424826266757,0.0020560370572383076,0.002000226231772741,0.0019459497540984252,0.00189316611571921,0.00184183486828963,0.0017919165971481397,0.0017433728964567042,0.0016961663447059103,0.0016502604823728383,0.0016056197890945646,0.0015622096628223469,0.0015199963982315667,0.0014789471671646387,0.0014390299985390198,0.001400213759129699,0.0013624681345775355,0.001325763610631324,0.0012900714560654465,0.0012553637028977138,0.0012216131308934414,0.0011887932484033843,0.0011568782776376358,0.001125843136431574,0.0010956634208536696,0.001066315392331277,0.0010377759589925595,0.0010100226607167291],\"yaxis\":\"y3\",\"type\":\"scattergl\"}],                        {\"template\":{\"data\":{\"bar\":[{\"error_x\":{\"color\":\"#2a3f5f\"},\"error_y\":{\"color\":\"#2a3f5f\"},\"marker\":{\"line\":{\"color\":\"#E5ECF6\",\"width\":0.5},\"pattern\":{\"fillmode\":\"overlay\",\"size\":10,\"solidity\":0.2}},\"type\":\"bar\"}],\"barpolar\":[{\"marker\":{\"line\":{\"color\":\"#E5ECF6\",\"width\":0.5},\"pattern\":{\"fillmode\":\"overlay\",\"size\":10,\"solidity\":0.2}},\"type\":\"barpolar\"}],\"carpet\":[{\"aaxis\":{\"endlinecolor\":\"#2a3f5f\",\"gridcolor\":\"white\",\"linecolor\":\"white\",\"minorgridcolor\":\"white\",\"startlinecolor\":\"#2a3f5f\"},\"baxis\":{\"endlinecolor\":\"#2a3f5f\",\"gridcolor\":\"white\",\"linecolor\":\"white\",\"minorgridcolor\":\"white\",\"startlinecolor\":\"#2a3f5f\"},\"type\":\"carpet\"}],\"choropleth\":[{\"colorbar\":{\"outlinewidth\":0,\"ticks\":\"\"},\"type\":\"choropleth\"}],\"contour\":[{\"colorbar\":{\"outlinewidth\":0,\"ticks\":\"\"},\"colorscale\":[[0.0,\"#0d0887\"],[0.1111111111111111,\"#46039f\"],[0.2222222222222222,\"#7201a8\"],[0.3333333333333333,\"#9c179e\"],[0.4444444444444444,\"#bd3786\"],[0.5555555555555556,\"#d8576b\"],[0.6666666666666666,\"#ed7953\"],[0.7777777777777778,\"#fb9f3a\"],[0.8888888888888888,\"#fdca26\"],[1.0,\"#f0f921\"]],\"type\":\"contour\"}],\"contourcarpet\":[{\"colorbar\":{\"outlinewidth\":0,\"ticks\":\"\"},\"type\":\"contourcarpet\"}],\"heatmap\":[{\"colorbar\":{\"outlinewidth\":0,\"ticks\":\"\"},\"colorscale\":[[0.0,\"#0d0887\"],[0.1111111111111111,\"#46039f\"],[0.2222222222222222,\"#7201a8\"],[0.3333333333333333,\"#9c179e\"],[0.4444444444444444,\"#bd3786\"],[0.5555555555555556,\"#d8576b\"],[0.6666666666666666,\"#ed7953\"],[0.7777777777777778,\"#fb9f3a\"],[0.8888888888888888,\"#fdca26\"],[1.0,\"#f0f921\"]],\"type\":\"heatmap\"}],\"heatmapgl\":[{\"colorbar\":{\"outlinewidth\":0,\"ticks\":\"\"},\"colorscale\":[[0.0,\"#0d0887\"],[0.1111111111111111,\"#46039f\"],[0.2222222222222222,\"#7201a8\"],[0.3333333333333333,\"#9c179e\"],[0.4444444444444444,\"#bd3786\"],[0.5555555555555556,\"#d8576b\"],[0.6666666666666666,\"#ed7953\"],[0.7777777777777778,\"#fb9f3a\"],[0.8888888888888888,\"#fdca26\"],[1.0,\"#f0f921\"]],\"type\":\"heatmapgl\"}],\"histogram\":[{\"marker\":{\"pattern\":{\"fillmode\":\"overlay\",\"size\":10,\"solidity\":0.2}},\"type\":\"histogram\"}],\"histogram2d\":[{\"colorbar\":{\"outlinewidth\":0,\"ticks\":\"\"},\"colorscale\":[[0.0,\"#0d0887\"],[0.1111111111111111,\"#46039f\"],[0.2222222222222222,\"#7201a8\"],[0.3333333333333333,\"#9c179e\"],[0.4444444444444444,\"#bd3786\"],[0.5555555555555556,\"#d8576b\"],[0.6666666666666666,\"#ed7953\"],[0.7777777777777778,\"#fb9f3a\"],[0.8888888888888888,\"#fdca26\"],[1.0,\"#f0f921\"]],\"type\":\"histogram2d\"}],\"histogram2dcontour\":[{\"colorbar\":{\"outlinewidth\":0,\"ticks\":\"\"},\"colorscale\":[[0.0,\"#0d0887\"],[0.1111111111111111,\"#46039f\"],[0.2222222222222222,\"#7201a8\"],[0.3333333333333333,\"#9c179e\"],[0.4444444444444444,\"#bd3786\"],[0.5555555555555556,\"#d8576b\"],[0.6666666666666666,\"#ed7953\"],[0.7777777777777778,\"#fb9f3a\"],[0.8888888888888888,\"#fdca26\"],[1.0,\"#f0f921\"]],\"type\":\"histogram2dcontour\"}],\"mesh3d\":[{\"colorbar\":{\"outlinewidth\":0,\"ticks\":\"\"},\"type\":\"mesh3d\"}],\"parcoords\":[{\"line\":{\"colorbar\":{\"outlinewidth\":0,\"ticks\":\"\"}},\"type\":\"parcoords\"}],\"pie\":[{\"automargin\":true,\"type\":\"pie\"}],\"scatter\":[{\"marker\":{\"colorbar\":{\"outlinewidth\":0,\"ticks\":\"\"}},\"type\":\"scatter\"}],\"scatter3d\":[{\"line\":{\"colorbar\":{\"outlinewidth\":0,\"ticks\":\"\"}},\"marker\":{\"colorbar\":{\"outlinewidth\":0,\"ticks\":\"\"}},\"type\":\"scatter3d\"}],\"scattercarpet\":[{\"marker\":{\"colorbar\":{\"outlinewidth\":0,\"ticks\":\"\"}},\"type\":\"scattercarpet\"}],\"scattergeo\":[{\"marker\":{\"colorbar\":{\"outlinewidth\":0,\"ticks\":\"\"}},\"type\":\"scattergeo\"}],\"scattergl\":[{\"marker\":{\"colorbar\":{\"outlinewidth\":0,\"ticks\":\"\"}},\"type\":\"scattergl\"}],\"scattermapbox\":[{\"marker\":{\"colorbar\":{\"outlinewidth\":0,\"ticks\":\"\"}},\"type\":\"scattermapbox\"}],\"scatterpolar\":[{\"marker\":{\"colorbar\":{\"outlinewidth\":0,\"ticks\":\"\"}},\"type\":\"scatterpolar\"}],\"scatterpolargl\":[{\"marker\":{\"colorbar\":{\"outlinewidth\":0,\"ticks\":\"\"}},\"type\":\"scatterpolargl\"}],\"scatterternary\":[{\"marker\":{\"colorbar\":{\"outlinewidth\":0,\"ticks\":\"\"}},\"type\":\"scatterternary\"}],\"surface\":[{\"colorbar\":{\"outlinewidth\":0,\"ticks\":\"\"},\"colorscale\":[[0.0,\"#0d0887\"],[0.1111111111111111,\"#46039f\"],[0.2222222222222222,\"#7201a8\"],[0.3333333333333333,\"#9c179e\"],[0.4444444444444444,\"#bd3786\"],[0.5555555555555556,\"#d8576b\"],[0.6666666666666666,\"#ed7953\"],[0.7777777777777778,\"#fb9f3a\"],[0.8888888888888888,\"#fdca26\"],[1.0,\"#f0f921\"]],\"type\":\"surface\"}],\"table\":[{\"cells\":{\"fill\":{\"color\":\"#EBF0F8\"},\"line\":{\"color\":\"white\"}},\"header\":{\"fill\":{\"color\":\"#C8D4E3\"},\"line\":{\"color\":\"white\"}},\"type\":\"table\"}]},\"layout\":{\"annotationdefaults\":{\"arrowcolor\":\"#2a3f5f\",\"arrowhead\":0,\"arrowwidth\":1},\"autotypenumbers\":\"strict\",\"coloraxis\":{\"colorbar\":{\"outlinewidth\":0,\"ticks\":\"\"}},\"colorscale\":{\"diverging\":[[0,\"#8e0152\"],[0.1,\"#c51b7d\"],[0.2,\"#de77ae\"],[0.3,\"#f1b6da\"],[0.4,\"#fde0ef\"],[0.5,\"#f7f7f7\"],[0.6,\"#e6f5d0\"],[0.7,\"#b8e186\"],[0.8,\"#7fbc41\"],[0.9,\"#4d9221\"],[1,\"#276419\"]],\"sequential\":[[0.0,\"#0d0887\"],[0.1111111111111111,\"#46039f\"],[0.2222222222222222,\"#7201a8\"],[0.3333333333333333,\"#9c179e\"],[0.4444444444444444,\"#bd3786\"],[0.5555555555555556,\"#d8576b\"],[0.6666666666666666,\"#ed7953\"],[0.7777777777777778,\"#fb9f3a\"],[0.8888888888888888,\"#fdca26\"],[1.0,\"#f0f921\"]],\"sequentialminus\":[[0.0,\"#0d0887\"],[0.1111111111111111,\"#46039f\"],[0.2222222222222222,\"#7201a8\"],[0.3333333333333333,\"#9c179e\"],[0.4444444444444444,\"#bd3786\"],[0.5555555555555556,\"#d8576b\"],[0.6666666666666666,\"#ed7953\"],[0.7777777777777778,\"#fb9f3a\"],[0.8888888888888888,\"#fdca26\"],[1.0,\"#f0f921\"]]},\"colorway\":[\"#636efa\",\"#EF553B\",\"#00cc96\",\"#ab63fa\",\"#FFA15A\",\"#19d3f3\",\"#FF6692\",\"#B6E880\",\"#FF97FF\",\"#FECB52\"],\"font\":{\"color\":\"#2a3f5f\"},\"geo\":{\"bgcolor\":\"white\",\"lakecolor\":\"white\",\"landcolor\":\"#E5ECF6\",\"showlakes\":true,\"showland\":true,\"subunitcolor\":\"white\"},\"hoverlabel\":{\"align\":\"left\"},\"hovermode\":\"closest\",\"mapbox\":{\"style\":\"light\"},\"paper_bgcolor\":\"white\",\"plot_bgcolor\":\"#E5ECF6\",\"polar\":{\"angularaxis\":{\"gridcolor\":\"white\",\"linecolor\":\"white\",\"ticks\":\"\"},\"bgcolor\":\"#E5ECF6\",\"radialaxis\":{\"gridcolor\":\"white\",\"linecolor\":\"white\",\"ticks\":\"\"}},\"scene\":{\"xaxis\":{\"backgroundcolor\":\"#E5ECF6\",\"gridcolor\":\"white\",\"gridwidth\":2,\"linecolor\":\"white\",\"showbackground\":true,\"ticks\":\"\",\"zerolinecolor\":\"white\"},\"yaxis\":{\"backgroundcolor\":\"#E5ECF6\",\"gridcolor\":\"white\",\"gridwidth\":2,\"linecolor\":\"white\",\"showbackground\":true,\"ticks\":\"\",\"zerolinecolor\":\"white\"},\"zaxis\":{\"backgroundcolor\":\"#E5ECF6\",\"gridcolor\":\"white\",\"gridwidth\":2,\"linecolor\":\"white\",\"showbackground\":true,\"ticks\":\"\",\"zerolinecolor\":\"white\"}},\"shapedefaults\":{\"line\":{\"color\":\"#2a3f5f\"}},\"ternary\":{\"aaxis\":{\"gridcolor\":\"white\",\"linecolor\":\"white\",\"ticks\":\"\"},\"baxis\":{\"gridcolor\":\"white\",\"linecolor\":\"white\",\"ticks\":\"\"},\"bgcolor\":\"#E5ECF6\",\"caxis\":{\"gridcolor\":\"white\",\"linecolor\":\"white\",\"ticks\":\"\"}},\"title\":{\"x\":0.05},\"xaxis\":{\"automargin\":true,\"gridcolor\":\"white\",\"linecolor\":\"white\",\"ticks\":\"\",\"title\":{\"standoff\":15},\"zerolinecolor\":\"white\",\"zerolinewidth\":2},\"yaxis\":{\"automargin\":true,\"gridcolor\":\"white\",\"linecolor\":\"white\",\"ticks\":\"\",\"title\":{\"standoff\":15},\"zerolinecolor\":\"white\",\"zerolinewidth\":2}}},\"xaxis\":{\"anchor\":\"y\",\"domain\":[0.0,0.3133333333333333],\"title\":{\"text\":\"it\"}},\"yaxis\":{\"anchor\":\"x\",\"domain\":[0.0,0.3133333333333333],\"title\":{\"text\":\"rec_err\"},\"type\":\"log\"},\"xaxis2\":{\"anchor\":\"y2\",\"domain\":[0.3333333333333333,0.6466666666666666],\"matches\":\"x\",\"title\":{\"text\":\"it\"}},\"yaxis2\":{\"anchor\":\"x2\",\"domain\":[0.0,0.3133333333333333],\"matches\":\"y\",\"showticklabels\":false,\"type\":\"log\"},\"xaxis3\":{\"anchor\":\"y3\",\"domain\":[0.6666666666666666,0.98],\"matches\":\"x\",\"title\":{\"text\":\"it\"}},\"yaxis3\":{\"anchor\":\"x3\",\"domain\":[0.0,0.3133333333333333],\"matches\":\"y\",\"showticklabels\":false,\"type\":\"log\"},\"xaxis4\":{\"anchor\":\"y4\",\"domain\":[0.0,0.3133333333333333],\"matches\":\"x\",\"showticklabels\":false},\"yaxis4\":{\"anchor\":\"x4\",\"domain\":[0.34333333333333327,0.6566666666666665],\"matches\":\"y\",\"title\":{\"text\":\"rec_err\"},\"type\":\"log\"},\"xaxis5\":{\"anchor\":\"y5\",\"domain\":[0.3333333333333333,0.6466666666666666],\"matches\":\"x\",\"showticklabels\":false},\"yaxis5\":{\"anchor\":\"x5\",\"domain\":[0.34333333333333327,0.6566666666666665],\"matches\":\"y\",\"showticklabels\":false,\"type\":\"log\"},\"xaxis6\":{\"anchor\":\"y6\",\"domain\":[0.6666666666666666,0.98],\"matches\":\"x\",\"showticklabels\":false},\"yaxis6\":{\"anchor\":\"x6\",\"domain\":[0.34333333333333327,0.6566666666666665],\"matches\":\"y\",\"showticklabels\":false,\"type\":\"log\"},\"xaxis7\":{\"anchor\":\"y7\",\"domain\":[0.0,0.3133333333333333],\"matches\":\"x\",\"showticklabels\":false},\"yaxis7\":{\"anchor\":\"x7\",\"domain\":[0.6866666666666665,0.9999999999999998],\"matches\":\"y\",\"title\":{\"text\":\"rec_err\"},\"type\":\"log\"},\"xaxis8\":{\"anchor\":\"y8\",\"domain\":[0.3333333333333333,0.6466666666666666],\"matches\":\"x\",\"showticklabels\":false},\"yaxis8\":{\"anchor\":\"x8\",\"domain\":[0.6866666666666665,0.9999999999999998],\"matches\":\"y\",\"showticklabels\":false,\"type\":\"log\"},\"xaxis9\":{\"anchor\":\"y9\",\"domain\":[0.6666666666666666,0.98],\"matches\":\"x\",\"showticklabels\":false},\"yaxis9\":{\"anchor\":\"x9\",\"domain\":[0.6866666666666665,0.9999999999999998],\"matches\":\"y\",\"showticklabels\":false,\"type\":\"log\"},\"annotations\":[{\"font\":{},\"showarrow\":false,\"text\":\"run=0\",\"x\":0.15666666666666665,\"xanchor\":\"center\",\"xref\":\"paper\",\"y\":0.9999999999999998,\"yanchor\":\"bottom\",\"yref\":\"paper\"},{\"font\":{},\"showarrow\":false,\"text\":\"run=1\",\"x\":0.49,\"xanchor\":\"center\",\"xref\":\"paper\",\"y\":0.9999999999999998,\"yanchor\":\"bottom\",\"yref\":\"paper\"},{\"font\":{},\"showarrow\":false,\"text\":\"run=2\",\"x\":0.8233333333333333,\"xanchor\":\"center\",\"xref\":\"paper\",\"y\":0.9999999999999998,\"yanchor\":\"bottom\",\"yref\":\"paper\"},{\"font\":{},\"showarrow\":false,\"text\":\"rank_est=6\",\"textangle\":90,\"x\":0.98,\"xanchor\":\"left\",\"xref\":\"paper\",\"y\":0.15666666666666665,\"yanchor\":\"middle\",\"yref\":\"paper\"},{\"font\":{},\"showarrow\":false,\"text\":\"rank_est=5\",\"textangle\":90,\"x\":0.98,\"xanchor\":\"left\",\"xref\":\"paper\",\"y\":0.4999999999999999,\"yanchor\":\"middle\",\"yref\":\"paper\"},{\"font\":{},\"showarrow\":false,\"text\":\"rank_est=4\",\"textangle\":90,\"x\":0.98,\"xanchor\":\"left\",\"xref\":\"paper\",\"y\":0.8433333333333332,\"yanchor\":\"middle\",\"yref\":\"paper\"}],\"legend\":{\"title\":{\"text\":\"algorithm\"},\"tracegroupgap\":0},\"margin\":{\"t\":60},\"height\":1000,\"font\":{\"size\":20}},                        {\"responsive\": true}                    ).then(function(){\n",
       "                            \n",
       "var gd = document.getElementById('ae7605aa-b4be-4da7-a6ae-8f244eae07a6');\n",
       "var x = new MutationObserver(function (mutations, observer) {{\n",
       "        var display = window.getComputedStyle(gd).display;\n",
       "        if (!display || display === 'none') {{\n",
       "            console.log([gd, 'removed!']);\n",
       "            Plotly.purge(gd);\n",
       "            observer.disconnect();\n",
       "        }}\n",
       "}});\n",
       "\n",
       "// Listen for the removal of the full notebook cells\n",
       "var notebookContainer = gd.closest('#notebook-container');\n",
       "if (notebookContainer) {{\n",
       "    x.observe(notebookContainer, {childList: true});\n",
       "}}\n",
       "\n",
       "// Listen for the clearing of the current output cell\n",
       "var outputEl = gd.closest('.output');\n",
       "if (outputEl) {{\n",
       "    x.observe(outputEl, {childList: true});\n",
       "}}\n",
       "\n",
       "                        })                };                });            </script>        </div>"
      ]
     },
     "metadata": {},
     "output_type": "display_data"
    }
   ],
   "source": [
    "# let's plot only some runs\n",
    "fig = px.line(df2[df2[\"run\"]<3], x=\"it\", y= \"rec_err\",color='algorithm',\n",
    "              facet_col=\"run\", log_y=True,\n",
    "              facet_row=\"rank_est\",\n",
    "              height=1000)\n",
    "fig.update_layout(font = dict(size = 20))\n",
    "fig.show()"
   ]
  }
 ],
 "metadata": {
  "kernelspec": {
   "display_name": "cddcohen",
   "language": "python",
   "name": "cddcohen"
  },
  "language_info": {
   "codemirror_mode": {
    "name": "ipython",
    "version": 3
   },
   "file_extension": ".py",
   "mimetype": "text/x-python",
   "name": "python",
   "nbconvert_exporter": "python",
   "pygments_lexer": "ipython3",
   "version": "3.10.2"
  }
 },
 "nbformat": 4,
 "nbformat_minor": 5
}
